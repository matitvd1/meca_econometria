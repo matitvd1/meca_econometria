{
  "nbformat": 4,
  "nbformat_minor": 0,
  "metadata": {
    "colab": {
      "name": "TP3.ipynb",
      "provenance": [],
      "collapsed_sections": []
    },
    "kernelspec": {
      "name": "python3",
      "display_name": "Python 3"
    },
    "language_info": {
      "name": "python"
    }
  },
  "cells": [
    {
      "cell_type": "code",
      "metadata": {
        "colab": {
          "base_uri": "https://localhost:8080/"
        },
        "id": "q6VdaKzZbHqg",
        "outputId": "32d24c74-f8ae-4ba5-c717-236bf6c0d24f"
      },
      "source": [
        "import pandas as pd\n",
        "import numpy as np\n",
        "import matplotlib.pyplot as plt\n",
        "import statsmodels.api as sm\n",
        "import scipy.stats as scs\n",
        "import warnings\n",
        "import seaborn as sns\n",
        "from pandas.plotting import lag_plot\n",
        "from statsmodels.stats.stattools import durbin_watson\n",
        "from statsmodels.graphics.tsaplots import plot_acf\n",
        "from statsmodels.stats.diagnostic import het_white, het_breuschpagan, het_goldfeldquandt\n",
        "\n",
        "warnings.filterwarnings('ignore')"
      ],
      "execution_count": null,
      "outputs": [
        {
          "output_type": "stream",
          "name": "stderr",
          "text": [
            "/usr/local/lib/python3.7/dist-packages/statsmodels/tools/_testing.py:19: FutureWarning: pandas.util.testing is deprecated. Use the functions in the public API at pandas.testing instead.\n",
            "  import pandas.util.testing as tm\n"
          ]
        }
      ]
    },
    {
      "cell_type": "markdown",
      "source": [
        "https://www.fireblazeaischool.in/blogs/assumptions-of-linear-regression/\n",
        "\n",
        "https://www.statsmodels.org/0.6.1/examples/notebooks/generated/regression_diagnostics.html\n",
        "\n",
        "https://www.listendata.com/2018/01/linear-regression-in-python.html\n",
        "\n",
        "https://www.statology.org/weighted-least-squares-in-r/\n",
        "\n",
        "https://jbhender.github.io/Stats506/F17/Projects/Abalone_WLS.html"
      ],
      "metadata": {
        "id": "I_k5kgZr8aBA"
      }
    },
    {
      "cell_type": "code",
      "source": [
        "def diagnostico_residuos(resids):\n",
        "  # create placeholder subplots\n",
        "  fig, ((ax1, ax2), (ax3, ax4)) = plt.subplots(2, 2, figsize=(12,6))\n",
        "  r = resids\n",
        "  resids = (r - np.nanmean(r)) / np.nanstd(r)\n",
        "  resids_nonmissing = resids[~(np.isnan(resids))]\n",
        "  # residuals over time\n",
        "  sns.scatterplot(x=np.arange(1, len(resids)+1), y=resids, ax=ax1)\n",
        "  ax1.axhline(0, color='r', linestyle='--')  \n",
        "  ax1.set_title('Residuos Estandarizados')\n",
        "  # distribution of residuals\n",
        "  x_lim = (-1.96 * 2, 1.96 * 2)\n",
        "  r_range = np.linspace(x_lim[0], x_lim[1])\n",
        "  norm_pdf = scs.norm.pdf(r_range)\n",
        "  sns.distplot(resids_nonmissing, hist=True, kde=True,norm_hist=True, ax=ax2)\n",
        "  ax2.plot(r_range, norm_pdf, 'g', lw=2, label='N(0,1)')\n",
        "  ax2.set_title('Distribución de residuales estandarizados')\n",
        "  ax2.set_xlim(x_lim)\n",
        "  ax2.legend()\n",
        "  # Q-Q plot\n",
        "  qq = sm.qqplot(resids_nonmissing, line='s', ax=ax3)\n",
        "  ax3.set_title('Q-Q plot')\n",
        "  # Hide last plot\n",
        "  ax4.axis('off')\n",
        "  fig.tight_layout(pad=2)\n",
        "  return fig"
      ],
      "metadata": {
        "id": "zrWudCKl1G5o"
      },
      "execution_count": null,
      "outputs": []
    },
    {
      "cell_type": "code",
      "metadata": {
        "id": "1d6fgCcbb6cH"
      },
      "source": [
        "df = pd.read_csv('/content/drive/MyDrive/educ.csv')"
      ],
      "execution_count": null,
      "outputs": []
    },
    {
      "cell_type": "code",
      "metadata": {
        "colab": {
          "base_uri": "https://localhost:8080/"
        },
        "id": "CaM8qu_SctB2",
        "outputId": "0331c5ef-13bf-48e1-dde2-a8f7c8e443eb"
      },
      "source": [
        "df.info()"
      ],
      "execution_count": null,
      "outputs": [
        {
          "output_type": "stream",
          "name": "stdout",
          "text": [
            "<class 'pandas.core.frame.DataFrame'>\n",
            "RangeIndex: 50 entries, 0 to 49\n",
            "Data columns (total 3 columns):\n",
            " #   Column  Non-Null Count  Dtype  \n",
            "---  ------  --------------  -----  \n",
            " 0   y       50 non-null     float64\n",
            " 1   x1      50 non-null     float64\n",
            " 2   x2      50 non-null     float64\n",
            "dtypes: float64(3)\n",
            "memory usage: 1.3 KB\n"
          ]
        }
      ]
    },
    {
      "cell_type": "markdown",
      "metadata": {
        "id": "HiYPJe9scyBC"
      },
      "source": [
        "x1 = educación\n",
        "\n",
        "x2 = preferencias politicas\n",
        "\n",
        "y = autonomía fiscal"
      ]
    },
    {
      "cell_type": "markdown",
      "metadata": {
        "id": "sxXrOQrPkGgB"
      },
      "source": [
        "**PUNTO A**"
      ]
    },
    {
      "cell_type": "code",
      "metadata": {
        "id": "Ms5_TmhujZSu"
      },
      "source": [
        "X = df[['x1','x2']]\n",
        "X = sm.add_constant(X)\n",
        "y = df.y"
      ],
      "execution_count": null,
      "outputs": []
    },
    {
      "cell_type": "code",
      "metadata": {
        "colab": {
          "base_uri": "https://localhost:8080/"
        },
        "id": "DXZYQlOecuZY",
        "outputId": "d3f3fb34-8f8a-4517-a2f0-d726fde13ca0"
      },
      "source": [
        "modelo = sm.OLS(y, X)\n",
        "resultados = modelo.fit()\n",
        "print(resultados.summary())"
      ],
      "execution_count": null,
      "outputs": [
        {
          "output_type": "stream",
          "name": "stdout",
          "text": [
            "                            OLS Regression Results                            \n",
            "==============================================================================\n",
            "Dep. Variable:                      y   R-squared:                       0.038\n",
            "Model:                            OLS   Adj. R-squared:                 -0.003\n",
            "Method:                 Least Squares   F-statistic:                    0.9258\n",
            "Date:                Fri, 10 Dec 2021   Prob (F-statistic):              0.403\n",
            "Time:                        17:39:14   Log-Likelihood:                -162.04\n",
            "No. Observations:                  50   AIC:                             330.1\n",
            "Df Residuals:                      47   BIC:                             335.8\n",
            "Df Model:                           2                                         \n",
            "Covariance Type:            nonrobust                                         \n",
            "==============================================================================\n",
            "                 coef    std err          t      P>|t|      [0.025      0.975]\n",
            "------------------------------------------------------------------------------\n",
            "const          0.1904      0.914      0.208      0.836      -1.649       2.030\n",
            "x1             1.1311      0.983      1.151      0.255      -0.846       3.108\n",
            "x2             0.3768      0.440      0.857      0.396      -0.508       1.262\n",
            "==============================================================================\n",
            "Omnibus:                       21.877   Durbin-Watson:                   1.856\n",
            "Prob(Omnibus):                  0.000   Jarque-Bera (JB):              144.127\n",
            "Skew:                          -0.552   Prob(JB):                     5.05e-32\n",
            "Kurtosis:                      11.244   Cond. No.                         2.35\n",
            "==============================================================================\n",
            "\n",
            "Warnings:\n",
            "[1] Standard Errors assume that the covariance matrix of the errors is correctly specified.\n"
          ]
        }
      ]
    },
    {
      "cell_type": "code",
      "source": [
        "# DATOS PARA MINIMOS CUADRADOS PONDERADOS (WLS)\n",
        "# fitted values (need a constant term for intercept)\n",
        "model_fitted_y = resultados.fittedvalues\n",
        "# model residuals\n",
        "model_residuals = resultados.resid\n",
        "# absolute residuals\n",
        "model_abs_resid = np.abs(model_residuals)"
      ],
      "metadata": {
        "id": "aQVF9jVZYf4J"
      },
      "execution_count": null,
      "outputs": []
    },
    {
      "cell_type": "code",
      "source": [
        "sns.regplot(resultados.fittedvalues, abs(resultados.resid), ci=False)\n",
        "plt.xlabel('y_hat (ŷ)', fontsize=12)\n",
        "plt.ylabel('residuos absolutos (|e|)', fontsize=12)"
      ],
      "metadata": {
        "colab": {
          "base_uri": "https://localhost:8080/",
          "height": 299
        },
        "id": "sgASlojFzW4Q",
        "outputId": "f5f85e87-cda7-430d-dae1-8979260068ed"
      },
      "execution_count": null,
      "outputs": [
        {
          "output_type": "execute_result",
          "data": {
            "text/plain": [
              "Text(0, 0.5, 'residuos absolutos (|e|)')"
            ]
          },
          "metadata": {},
          "execution_count": 12
        },
        {
          "output_type": "display_data",
          "data": {
            "image/png": "[encoded data removed]",
            "text/plain": [
              "<Figure size 432x288 with 1 Axes>"
            ]
          },
          "metadata": {
            "needs_background": "light"
          }
        }
      ]
    },
    {
      "cell_type": "code",
      "source": [
        "sns.residplot(resultados.fittedvalues, resultados.resid)\n",
        "plt.xlabel('y_hat (ŷ)', fontsize=12)\n",
        "plt.ylabel('residuales (e)', fontsize=12)"
      ],
      "metadata": {
        "colab": {
          "base_uri": "https://localhost:8080/",
          "height": 299
        },
        "id": "836NPs6m4SFg",
        "outputId": "fe1260f0-47ee-48aa-f626-429c722d045d"
      },
      "execution_count": null,
      "outputs": [
        {
          "output_type": "execute_result",
          "data": {
            "text/plain": [
              "Text(0, 0.5, 'residuales (e)')"
            ]
          },
          "metadata": {},
          "execution_count": 96
        },
        {
          "output_type": "display_data",
          "data": {
            "image/png": "[encoded data removed]",
            "text/plain": [
              "<Figure size 432x288 with 1 Axes>"
            ]
          },
          "metadata": {
            "needs_background": "light"
          }
        }
      ]
    },
    {
      "cell_type": "markdown",
      "metadata": {
        "id": "pFH3xX9ckLcq"
      },
      "source": [
        "**PUNTO B**"
      ]
    },
    {
      "cell_type": "code",
      "metadata": {
        "colab": {
          "base_uri": "https://localhost:8080/"
        },
        "id": "l11g4k_ajtuv",
        "outputId": "4c8661a1-d792-43ae-c57e-7542079d9398"
      },
      "source": [
        "modelo_robust = sm.OLS(y, X)\n",
        "resultados_robust = modelo_robust.fit(cov_type='HC1')\n",
        "print(resultados_robust.summary())"
      ],
      "execution_count": null,
      "outputs": [
        {
          "output_type": "stream",
          "name": "stdout",
          "text": [
            "                            OLS Regression Results                            \n",
            "==============================================================================\n",
            "Dep. Variable:                      y   R-squared:                       0.038\n",
            "Model:                            OLS   Adj. R-squared:                 -0.003\n",
            "Method:                 Least Squares   F-statistic:                     2.363\n",
            "Date:                Fri, 10 Dec 2021   Prob (F-statistic):              0.105\n",
            "Time:                        17:59:21   Log-Likelihood:                -162.04\n",
            "No. Observations:                  50   AIC:                             330.1\n",
            "Df Residuals:                      47   BIC:                             335.8\n",
            "Df Model:                           2                                         \n",
            "Covariance Type:                  HC1                                         \n",
            "==============================================================================\n",
            "                 coef    std err          z      P>|z|      [0.025      0.975]\n",
            "------------------------------------------------------------------------------\n",
            "const          0.1904      0.747      0.255      0.799      -1.274       1.655\n",
            "x1             1.1311      0.548      2.064      0.039       0.057       2.205\n",
            "x2             0.3768      1.103      0.342      0.733      -1.786       2.539\n",
            "==============================================================================\n",
            "Omnibus:                       21.877   Durbin-Watson:                   1.856\n",
            "Prob(Omnibus):                  0.000   Jarque-Bera (JB):              144.127\n",
            "Skew:                          -0.552   Prob(JB):                     5.05e-32\n",
            "Kurtosis:                      11.244   Cond. No.                         2.35\n",
            "==============================================================================\n",
            "\n",
            "Warnings:\n",
            "[1] Standard Errors are heteroscedasticity robust (HC1)\n"
          ]
        }
      ]
    },
    {
      "cell_type": "code",
      "metadata": {
        "colab": {
          "base_uri": "https://localhost:8080/",
          "height": 143
        },
        "id": "I3mJwtIkkjQx",
        "outputId": "8145383e-6d60-4bd1-ce66-83dde548accc"
      },
      "source": [
        "# Comparisson between SE of OLS and OLS with robust standard errors.\n",
        "pd.concat([resultados.bse, resultados_robust.bse], axis=1).rename({0:'OLS se',1:'OLS - rob. se'}, axis=1).applymap(lambda x: np.round(x, 4))"
      ],
      "execution_count": null,
      "outputs": [
        {
          "output_type": "execute_result",
          "data": {
            "text/html": [
              "<div>\n",
              "<style scoped>\n",
              "    .dataframe tbody tr th:only-of-type {\n",
              "        vertical-align: middle;\n",
              "    }\n",
              "\n",
              "    .dataframe tbody tr th {\n",
              "        vertical-align: top;\n",
              "    }\n",
              "\n",
              "    .dataframe thead th {\n",
              "        text-align: right;\n",
              "    }\n",
              "</style>\n",
              "<table border=\"1\" class=\"dataframe\">\n",
              "  <thead>\n",
              "    <tr style=\"text-align: right;\">\n",
              "      <th></th>\n",
              "      <th>OLS se</th>\n",
              "      <th>OLS - rob. se</th>\n",
              "    </tr>\n",
              "  </thead>\n",
              "  <tbody>\n",
              "    <tr>\n",
              "      <th>const</th>\n",
              "      <td>0.9144</td>\n",
              "      <td>0.7470</td>\n",
              "    </tr>\n",
              "    <tr>\n",
              "      <th>x1</th>\n",
              "      <td>0.9826</td>\n",
              "      <td>0.5481</td>\n",
              "    </tr>\n",
              "    <tr>\n",
              "      <th>x2</th>\n",
              "      <td>0.4399</td>\n",
              "      <td>1.1034</td>\n",
              "    </tr>\n",
              "  </tbody>\n",
              "</table>\n",
              "</div>"
            ],
            "text/plain": [
              "       OLS se  OLS - rob. se\n",
              "const  0.9144         0.7470\n",
              "x1     0.9826         0.5481\n",
              "x2     0.4399         1.1034"
            ]
          },
          "metadata": {},
          "execution_count": 34
        }
      ]
    },
    {
      "cell_type": "markdown",
      "metadata": {
        "id": "A22h-o-1obsB"
      },
      "source": [
        "Se puede observar que el error estandar del estimador x1 disminuyó notablemente a tal punto que la educación pasó de ser una variable estadísticamente no significativa a una estadísticamente significativa. Por otro lado, el error estándar de las preferencias políticas aumentó, indicando en ambos modelos que la variable no es estadísticamente siginifactiva para explicar la autonomía fiscal. \n",
        "\n",
        "La heterocedasticidad en el modelo de regresión afecta principalmente la inferencia estadística."
      ]
    },
    {
      "cell_type": "markdown",
      "metadata": {
        "id": "HyoDR3DFqgl1"
      },
      "source": [
        "**PUNTO C**"
      ]
    },
    {
      "cell_type": "markdown",
      "metadata": {
        "id": "w6D9xmi9w9zT"
      },
      "source": [
        "H0 = Hay homocedasticidad en el modelo de regresión\n",
        "\n",
        "H1 = Hay heterocedasticidad en el modelo de regresión"
      ]
    },
    {
      "cell_type": "code",
      "metadata": {
        "colab": {
          "base_uri": "https://localhost:8080/"
        },
        "id": "yiAYOBkEtVFD",
        "outputId": "17d65bd3-39df-4d44-f228-a01facbea4db"
      },
      "source": [
        "hw_test = het_white(resultados.resid, resultados.model.exog)\n",
        "\n",
        "dict(list(zip(['LM Statistic', 'LM-Test p-value', 'F-Statistic', 'F-Test p-value'], hw_test))[2:])"
      ],
      "execution_count": null,
      "outputs": [
        {
          "output_type": "execute_result",
          "data": {
            "text/plain": [
              "{'F-Statistic': 31.74641282710611, 'F-Test p-value': 1.5067434695842272e-13}"
            ]
          },
          "metadata": {},
          "execution_count": 8
        }
      ]
    },
    {
      "cell_type": "code",
      "metadata": {
        "colab": {
          "base_uri": "https://localhost:8080/"
        },
        "id": "xyIuf7NNqi8y",
        "outputId": "5f726d47-7487-4629-995d-37d16065eecb"
      },
      "source": [
        "bp_test = het_breuschpagan(resultados.resid, resultados.model.exog)\n",
        "\n",
        "dict(list(zip(['LM Statistic', 'LM-Test p-value', 'F-Statistic', 'F-Test p-value'], bp_test))[2:])"
      ],
      "execution_count": null,
      "outputs": [
        {
          "output_type": "execute_result",
          "data": {
            "text/plain": [
              "{'F-Statistic': 9.329238516126505, 'F-Test p-value': 0.0003872271019027869}"
            ]
          },
          "metadata": {},
          "execution_count": 9
        }
      ]
    },
    {
      "cell_type": "markdown",
      "metadata": {
        "id": "WUQSKNWQw6Xx"
      },
      "source": [
        "Luego de realizados los test de White y de Breush y Pagan para corroborar si hay heteroscedasticidad en nuestro modelo de regresión, podemos verificar que sus p-values son 0.00 < 0.05 y 0.0004 < 0.05 respectivamente. Es decir, ambos tests indican que rechazamos la hipótesis nula de que hay homocedasticidad en el modelo de regresión (p < 0.05).\n",
        "\n",
        "En consecuencia procederemos a trabajar con OLS con errores estándar robustos (White-Huber) para que nuestras inferencias sobre las variables exógenas del modelo sean confiables."
      ]
    },
    {
      "cell_type": "markdown",
      "metadata": {
        "id": "QJ3Y1Nfu8n-w"
      },
      "source": [
        "**PUNTO D**"
      ]
    },
    {
      "cell_type": "markdown",
      "metadata": {
        "id": "dkVAP1vK_Lzv"
      },
      "source": [
        "HO = La varianza de los residuales en ambas submuestras son iguales.\n",
        "\n",
        "H1 = La varianza de los residuales en ambas submuestras no son iguales."
      ]
    },
    {
      "cell_type": "code",
      "source": [
        "# X1\n",
        "gd_x1 = df.iloc[:, :2].sort_values(by='x1')\n",
        "gd_x1_y = gd_x1.y\n",
        "gd_x1_X = sm.add_constant(gd_x1.x1)\n",
        "\n",
        "# X2\n",
        "gd_x2 = df[['y','x2']].sort_values(by='x2')\n",
        "gd_x2_y = gd_x2.y\n",
        "gd_x2_X = sm.add_constant(gd_x2.x2)"
      ],
      "metadata": {
        "id": "K7oB4hA-9fsB"
      },
      "execution_count": null,
      "outputs": []
    },
    {
      "cell_type": "code",
      "metadata": {
        "colab": {
          "base_uri": "https://localhost:8080/"
        },
        "id": "jd2u_7K48t83",
        "outputId": "f7f7bc4d-66ae-4e96-9449-acb0646d6fa8"
      },
      "source": [
        "# Con X1\n",
        "gq_test_x1 = het_goldfeldquandt(gd_x1_y, gd_x1_X, drop=10, split=20)\n",
        "\n",
        "dict(zip(['F-Statistic', 'F-Test p-value','Ordering'], [np.round(i,4) if type(i) != str else i for i in gq_test_x1]))"
      ],
      "execution_count": null,
      "outputs": [
        {
          "output_type": "execute_result",
          "data": {
            "text/plain": [
              "{'F-Statistic': 0.411, 'F-Test p-value': 0.9665, 'Ordering': 'increasing'}"
            ]
          },
          "metadata": {},
          "execution_count": 160
        }
      ]
    },
    {
      "cell_type": "code",
      "metadata": {
        "colab": {
          "base_uri": "https://localhost:8080/"
        },
        "id": "pHzCxbM5DNmm",
        "outputId": "f6644d95-2cd6-4066-d3f7-602a8fe0ba4c"
      },
      "source": [
        "# Con X2\n",
        "gq_test_x2 = het_goldfeldquandt(gd_x2_y, gd_x2_X, drop=10, split=20)\n",
        "\n",
        "dict(zip(['F-Statistic', 'F-Test p-value','Ordering'], [np.round(i,4) if type(i) != str else i for i in gq_test_x2]))"
      ],
      "execution_count": null,
      "outputs": [
        {
          "output_type": "execute_result",
          "data": {
            "text/plain": [
              "{'F-Statistic': 4.3372, 'F-Test p-value': 0.0016, 'Ordering': 'increasing'}"
            ]
          },
          "metadata": {},
          "execution_count": 159
        }
      ]
    },
    {
      "cell_type": "markdown",
      "metadata": {
        "id": "2nfHwzqa8rOg"
      },
      "source": [
        "**PUNTO E**"
      ]
    },
    {
      "cell_type": "markdown",
      "source": [
        "Para la regresión de mínimos cuadrados ponderados corrí una regresión OLS sobre los residuales absolutos (provenientes de una OLS de la var. dependiente e independientes originales, punto A) contra las variables independientes originales.\n",
        "\n",
        "Los valores estimados de esta regresión son una estimación del error de cada observación que luego serán utilizados para cálcular la inversa de la varianza (1/ (σ i) ^ 2) utilizada luego como peso en WLS."
      ],
      "metadata": {
        "id": "tZwgyDgjnipu"
      }
    },
    {
      "cell_type": "code",
      "source": [
        "## Compute the weight and add it to the column named \"weight_2\"\n",
        "model_temp = sm.OLS(model_abs_resid, resultados.model.exog).fit()  \n",
        "weight_2 = model_temp.fittedvalues**(-2)\n",
        "\n",
        "mod_wls = sm.WLS(y, resultados.model.exog, weights=weight_2)\n",
        "mod_res = mod_wls.fit()\n",
        "print(mod_res.summary())"
      ],
      "metadata": {
        "colab": {
          "base_uri": "https://localhost:8080/"
        },
        "id": "xVKbeznmbw75",
        "outputId": "cc0b1579-a196-4ad3-9ad5-e4b23219c7a4"
      },
      "execution_count": null,
      "outputs": [
        {
          "output_type": "stream",
          "name": "stdout",
          "text": [
            "                            WLS Regression Results                            \n",
            "==============================================================================\n",
            "Dep. Variable:                      y   R-squared:                       0.052\n",
            "Model:                            WLS   Adj. R-squared:                  0.011\n",
            "Method:                 Least Squares   F-statistic:                     1.282\n",
            "Date:                Fri, 10 Dec 2021   Prob (F-statistic):              0.287\n",
            "Time:                        18:35:08   Log-Likelihood:                -186.83\n",
            "No. Observations:                  50   AIC:                             379.7\n",
            "Df Residuals:                      47   BIC:                             385.4\n",
            "Df Model:                           2                                         \n",
            "Covariance Type:            nonrobust                                         \n",
            "==============================================================================\n",
            "                 coef    std err          t      P>|t|      [0.025      0.975]\n",
            "------------------------------------------------------------------------------\n",
            "const          1.4813      1.817      0.815      0.419      -2.174       5.136\n",
            "x1             1.4465      0.972      1.489      0.143      -0.508       3.401\n",
            "x2             0.8946      0.745      1.201      0.236      -0.604       2.394\n",
            "==============================================================================\n",
            "Omnibus:                       56.599   Durbin-Watson:                   2.029\n",
            "Prob(Omnibus):                  0.000   Jarque-Bera (JB):              514.550\n",
            "Skew:                          -2.665   Prob(JB):                    1.85e-112\n",
            "Kurtosis:                      17.784   Cond. No.                         9.38\n",
            "==============================================================================\n",
            "\n",
            "Warnings:\n",
            "[1] Standard Errors assume that the covariance matrix of the errors is correctly specified.\n"
          ]
        }
      ]
    },
    {
      "cell_type": "code",
      "metadata": {
        "id": "ks5ia-Yzf38C",
        "colab": {
          "base_uri": "https://localhost:8080/",
          "height": 143
        },
        "outputId": "0059f7bc-cac4-45a2-97f2-efedf3d8255a"
      },
      "source": [
        "pd.concat([resultados.bse, resultados_robust.bse, mod_res.bse], axis=1).rename({0:'OLS se',1:'OLS robust se', 2:'WLS se'}, axis=1).applymap(lambda x: np.round(x, 4))"
      ],
      "execution_count": null,
      "outputs": [
        {
          "output_type": "execute_result",
          "data": {
            "text/html": [
              "<div>\n",
              "<style scoped>\n",
              "    .dataframe tbody tr th:only-of-type {\n",
              "        vertical-align: middle;\n",
              "    }\n",
              "\n",
              "    .dataframe tbody tr th {\n",
              "        vertical-align: top;\n",
              "    }\n",
              "\n",
              "    .dataframe thead th {\n",
              "        text-align: right;\n",
              "    }\n",
              "</style>\n",
              "<table border=\"1\" class=\"dataframe\">\n",
              "  <thead>\n",
              "    <tr style=\"text-align: right;\">\n",
              "      <th></th>\n",
              "      <th>OLS se</th>\n",
              "      <th>OLS robust se</th>\n",
              "      <th>WLS se</th>\n",
              "    </tr>\n",
              "  </thead>\n",
              "  <tbody>\n",
              "    <tr>\n",
              "      <th>const</th>\n",
              "      <td>0.9144</td>\n",
              "      <td>0.7470</td>\n",
              "      <td>1.8169</td>\n",
              "    </tr>\n",
              "    <tr>\n",
              "      <th>x1</th>\n",
              "      <td>0.9826</td>\n",
              "      <td>0.5481</td>\n",
              "      <td>0.9716</td>\n",
              "    </tr>\n",
              "    <tr>\n",
              "      <th>x2</th>\n",
              "      <td>0.4399</td>\n",
              "      <td>1.1034</td>\n",
              "      <td>0.7451</td>\n",
              "    </tr>\n",
              "  </tbody>\n",
              "</table>\n",
              "</div>"
            ],
            "text/plain": [
              "       OLS se  OLS robust se  WLS se\n",
              "const  0.9144         0.7470  1.8169\n",
              "x1     0.9826         0.5481  0.9716\n",
              "x2     0.4399         1.1034  0.7451"
            ]
          },
          "metadata": {},
          "execution_count": 53
        }
      ]
    },
    {
      "cell_type": "code",
      "source": [
        "hw_test_2 = het_white(mod_res.resid, mod_res.model.exog)\n",
        "\n",
        "dict(list(zip(['LM Statistic', 'LM-Test p-value', 'F-Statistic', 'F-Test p-value'], hw_test_2))[2:])"
      ],
      "metadata": {
        "colab": {
          "base_uri": "https://localhost:8080/"
        },
        "id": "ZPmX7iaUiz9o",
        "outputId": "fda6b2f9-6148-4376-c49f-55d489d29d47"
      },
      "execution_count": null,
      "outputs": [
        {
          "output_type": "execute_result",
          "data": {
            "text/plain": [
              "{'F-Statistic': 128.26016834262674, 'F-Test p-value': 4.479391855012567e-25}"
            ]
          },
          "metadata": {},
          "execution_count": 54
        }
      ]
    }
  ]
}