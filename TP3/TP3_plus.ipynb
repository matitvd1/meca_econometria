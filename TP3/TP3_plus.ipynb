{
  "nbformat": 4,
  "nbformat_minor": 0,
  "metadata": {
    "colab": {
      "name": "TP3-plus.ipynb",
      "provenance": [],
      "collapsed_sections": []
    },
    "kernelspec": {
      "name": "python3",
      "display_name": "Python 3"
    },
    "language_info": {
      "name": "python"
    }
  },
  "cells": [
    {
      "cell_type": "code",
      "metadata": {
        "colab": {
          "base_uri": "https://localhost:8080/"
        },
        "id": "mPY-YcitJIO2",
        "outputId": "a3d3194a-562c-4191-f407-f2a11b922cf5"
      },
      "source": [
        "from google.colab import drive\n",
        "drive.mount('/content/drive')"
      ],
      "execution_count": null,
      "outputs": [
        {
          "output_type": "stream",
          "name": "stdout",
          "text": [
            "Drive already mounted at /content/drive; to attempt to forcibly remount, call drive.mount(\"/content/drive\", force_remount=True).\n"
          ]
        }
      ]
    },
    {
      "cell_type": "code",
      "metadata": {
        "colab": {
          "base_uri": "https://localhost:8080/"
        },
        "id": "Tgsc-nHN6tPl",
        "outputId": "6195153f-36e5-4863-8c64-88f6581a51ee"
      },
      "source": [
        "import pandas as pd\n",
        "import numpy as np\n",
        "import matplotlib.pyplot as plt\n",
        "import statsmodels.api as sm\n",
        "import scipy.stats as scs\n",
        "import warnings\n",
        "import seaborn as sns\n",
        "from pandas.plotting import lag_plot\n",
        "from statsmodels.stats.stattools import durbin_watson\n",
        "from statsmodels.graphics.tsaplots import plot_acf\n",
        "\n",
        "warnings.filterwarnings('ignore')"
      ],
      "execution_count": null,
      "outputs": [
        {
          "output_type": "stream",
          "name": "stderr",
          "text": [
            "/usr/local/lib/python3.7/dist-packages/statsmodels/tools/_testing.py:19: FutureWarning: pandas.util.testing is deprecated. Use the functions in the public API at pandas.testing instead.\n",
            "  import pandas.util.testing as tm\n"
          ]
        }
      ]
    },
    {
      "cell_type": "code",
      "metadata": {
        "id": "A5lqJ9WbJ5X0"
      },
      "source": [
        "df = pd.read_csv('/content/drive/MyDrive/PHILLIPS.csv')"
      ],
      "execution_count": null,
      "outputs": []
    },
    {
      "cell_type": "code",
      "metadata": {
        "colab": {
          "base_uri": "https://localhost:8080/"
        },
        "id": "KO6HPKLdKNJ9",
        "outputId": "890bc27b-858d-48db-cf8b-6406a212beae"
      },
      "source": [
        "df.info()"
      ],
      "execution_count": null,
      "outputs": [
        {
          "output_type": "stream",
          "name": "stdout",
          "text": [
            "<class 'pandas.core.frame.DataFrame'>\n",
            "RangeIndex: 49 entries, 0 to 48\n",
            "Data columns (total 11 columns):\n",
            " #   Column   Non-Null Count  Dtype  \n",
            "---  ------   --------------  -----  \n",
            " 0   year     49 non-null     int64  \n",
            " 1   unem     49 non-null     float64\n",
            " 2   inf      49 non-null     float64\n",
            " 3   unem_1   48 non-null     float64\n",
            " 4   inf_1    48 non-null     float64\n",
            " 5   unem_2   47 non-null     float64\n",
            " 6   inf_2    47 non-null     float64\n",
            " 7   cunem    48 non-null     float64\n",
            " 8   cinf     48 non-null     float64\n",
            " 9   cunem_1  47 non-null     float64\n",
            " 10  cinf_1   47 non-null     float64\n",
            "dtypes: float64(10), int64(1)\n",
            "memory usage: 4.3 KB\n"
          ]
        }
      ]
    },
    {
      "cell_type": "code",
      "metadata": {
        "colab": {
          "base_uri": "https://localhost:8080/",
          "height": 206
        },
        "id": "h1HF1SQMKMU4",
        "outputId": "6dde0a36-6462-43ab-94c5-69a8d279a2d4"
      },
      "source": [
        "df.head()"
      ],
      "execution_count": null,
      "outputs": [
        {
          "output_type": "execute_result",
          "data": {
            "text/html": [
              "<div>\n",
              "<style scoped>\n",
              "    .dataframe tbody tr th:only-of-type {\n",
              "        vertical-align: middle;\n",
              "    }\n",
              "\n",
              "    .dataframe tbody tr th {\n",
              "        vertical-align: top;\n",
              "    }\n",
              "\n",
              "    .dataframe thead th {\n",
              "        text-align: right;\n",
              "    }\n",
              "</style>\n",
              "<table border=\"1\" class=\"dataframe\">\n",
              "  <thead>\n",
              "    <tr style=\"text-align: right;\">\n",
              "      <th></th>\n",
              "      <th>year</th>\n",
              "      <th>unem</th>\n",
              "      <th>inf</th>\n",
              "      <th>unem_1</th>\n",
              "      <th>inf_1</th>\n",
              "      <th>unem_2</th>\n",
              "      <th>inf_2</th>\n",
              "      <th>cunem</th>\n",
              "      <th>cinf</th>\n",
              "      <th>cunem_1</th>\n",
              "      <th>cinf_1</th>\n",
              "    </tr>\n",
              "  </thead>\n",
              "  <tbody>\n",
              "    <tr>\n",
              "      <th>0</th>\n",
              "      <td>1948</td>\n",
              "      <td>3.8</td>\n",
              "      <td>8.1</td>\n",
              "      <td>NaN</td>\n",
              "      <td>NaN</td>\n",
              "      <td>NaN</td>\n",
              "      <td>NaN</td>\n",
              "      <td>NaN</td>\n",
              "      <td>NaN</td>\n",
              "      <td>NaN</td>\n",
              "      <td>NaN</td>\n",
              "    </tr>\n",
              "    <tr>\n",
              "      <th>1</th>\n",
              "      <td>1949</td>\n",
              "      <td>5.9</td>\n",
              "      <td>-1.2</td>\n",
              "      <td>3.8</td>\n",
              "      <td>8.1</td>\n",
              "      <td>NaN</td>\n",
              "      <td>NaN</td>\n",
              "      <td>2.1</td>\n",
              "      <td>-9.3</td>\n",
              "      <td>NaN</td>\n",
              "      <td>NaN</td>\n",
              "    </tr>\n",
              "    <tr>\n",
              "      <th>2</th>\n",
              "      <td>1950</td>\n",
              "      <td>5.3</td>\n",
              "      <td>1.3</td>\n",
              "      <td>5.9</td>\n",
              "      <td>-1.2</td>\n",
              "      <td>3.8</td>\n",
              "      <td>8.1</td>\n",
              "      <td>-0.6</td>\n",
              "      <td>2.5</td>\n",
              "      <td>2.1</td>\n",
              "      <td>-9.3</td>\n",
              "    </tr>\n",
              "    <tr>\n",
              "      <th>3</th>\n",
              "      <td>1951</td>\n",
              "      <td>3.3</td>\n",
              "      <td>7.9</td>\n",
              "      <td>5.3</td>\n",
              "      <td>1.3</td>\n",
              "      <td>5.9</td>\n",
              "      <td>-1.2</td>\n",
              "      <td>-2.0</td>\n",
              "      <td>6.6</td>\n",
              "      <td>-0.6</td>\n",
              "      <td>2.5</td>\n",
              "    </tr>\n",
              "    <tr>\n",
              "      <th>4</th>\n",
              "      <td>1952</td>\n",
              "      <td>3.0</td>\n",
              "      <td>1.9</td>\n",
              "      <td>3.3</td>\n",
              "      <td>7.9</td>\n",
              "      <td>5.3</td>\n",
              "      <td>1.3</td>\n",
              "      <td>-0.3</td>\n",
              "      <td>-6.0</td>\n",
              "      <td>-2.0</td>\n",
              "      <td>6.6</td>\n",
              "    </tr>\n",
              "  </tbody>\n",
              "</table>\n",
              "</div>"
            ],
            "text/plain": [
              "   year  unem  inf  unem_1  inf_1  unem_2  inf_2  cunem  cinf  cunem_1  cinf_1\n",
              "0  1948   3.8  8.1     NaN    NaN     NaN    NaN    NaN   NaN      NaN     NaN\n",
              "1  1949   5.9 -1.2     3.8    8.1     NaN    NaN    2.1  -9.3      NaN     NaN\n",
              "2  1950   5.3  1.3     5.9   -1.2     3.8    8.1   -0.6   2.5      2.1    -9.3\n",
              "3  1951   3.3  7.9     5.3    1.3     5.9   -1.2   -2.0   6.6     -0.6     2.5\n",
              "4  1952   3.0  1.9     3.3    7.9     5.3    1.3   -0.3  -6.0     -2.0     6.6"
            ]
          },
          "metadata": {},
          "execution_count": 5
        }
      ]
    },
    {
      "cell_type": "markdown",
      "metadata": {
        "id": "7k06QNs4j2wc"
      },
      "source": [
        "**PUNTO 1**"
      ]
    },
    {
      "cell_type": "code",
      "metadata": {
        "id": "akK6JgdJKQfK"
      },
      "source": [
        "X = df.unem\n",
        "X = sm.add_constant(X)\n",
        "y = df.inf"
      ],
      "execution_count": null,
      "outputs": []
    },
    {
      "cell_type": "code",
      "metadata": {
        "colab": {
          "base_uri": "https://localhost:8080/"
        },
        "id": "H8B9RGsdLweO",
        "outputId": "492915d4-4c1e-4549-f649-cbd06ab149fc"
      },
      "source": [
        "model = sm.OLS(y,X)\n",
        "resultados = model.fit()\n",
        "print(resultados.summary())"
      ],
      "execution_count": null,
      "outputs": [
        {
          "output_type": "stream",
          "name": "stdout",
          "text": [
            "                            OLS Regression Results                            \n",
            "==============================================================================\n",
            "Dep. Variable:                    inf   R-squared:                       0.053\n",
            "Model:                            OLS   Adj. R-squared:                  0.033\n",
            "Method:                 Least Squares   F-statistic:                     2.616\n",
            "Date:                Fri, 10 Dec 2021   Prob (F-statistic):              0.112\n",
            "Time:                        13:09:05   Log-Likelihood:                -124.43\n",
            "No. Observations:                  49   AIC:                             252.9\n",
            "Df Residuals:                      47   BIC:                             256.6\n",
            "Df Model:                           1                                         \n",
            "Covariance Type:            nonrobust                                         \n",
            "==============================================================================\n",
            "                 coef    std err          t      P>|t|      [0.025      0.975]\n",
            "------------------------------------------------------------------------------\n",
            "const          1.4236      1.719      0.828      0.412      -2.035       4.882\n",
            "unem           0.4676      0.289      1.617      0.112      -0.114       1.049\n",
            "==============================================================================\n",
            "Omnibus:                        8.905   Durbin-Watson:                   0.803\n",
            "Prob(Omnibus):                  0.012   Jarque-Bera (JB):                8.336\n",
            "Skew:                           0.979   Prob(JB):                       0.0155\n",
            "Kurtosis:                       3.502   Cond. No.                         23.5\n",
            "==============================================================================\n",
            "\n",
            "Warnings:\n",
            "[1] Standard Errors assume that the covariance matrix of the errors is correctly specified.\n"
          ]
        }
      ]
    },
    {
      "cell_type": "markdown",
      "metadata": {
        "id": "7i-GdtGjWRY7"
      },
      "source": [
        "**PUNTO 2**"
      ]
    },
    {
      "cell_type": "code",
      "metadata": {
        "id": "DEstNvrFMQM4"
      },
      "source": [
        "new_df = pd.concat([resultados.resid, resultados.resid.shift(1)], axis=1).dropna().rename({0:'u t',1:'u t-1'}, axis=1)"
      ],
      "execution_count": null,
      "outputs": []
    },
    {
      "cell_type": "code",
      "metadata": {
        "id": "3Ew768FsWDmB"
      },
      "source": [
        "X_resid = new_df['u t-1']\n",
        "X_resid = sm.add_constant(X_resid)\n",
        "y_resid = new_df['u t']"
      ],
      "execution_count": null,
      "outputs": []
    },
    {
      "cell_type": "code",
      "metadata": {
        "colab": {
          "base_uri": "https://localhost:8080/"
        },
        "id": "dX7upm6BWxhC",
        "outputId": "98ebbf3a-29ee-46f2-eb11-169083eb8d49"
      },
      "source": [
        "model_resid = sm.OLS(y_resid, X_resid)\n",
        "resultados_resid = model_resid.fit()\n",
        "print(resultados_resid.summary())"
      ],
      "execution_count": null,
      "outputs": [
        {
          "output_type": "stream",
          "name": "stdout",
          "text": [
            "                            OLS Regression Results                            \n",
            "==============================================================================\n",
            "Dep. Variable:                    u t   R-squared:                       0.346\n",
            "Model:                            OLS   Adj. R-squared:                  0.332\n",
            "Method:                 Least Squares   F-statistic:                     24.34\n",
            "Date:                Fri, 10 Dec 2021   Prob (F-statistic):           1.10e-05\n",
            "Time:                        13:09:05   Log-Likelihood:                -110.88\n",
            "No. Observations:                  48   AIC:                             225.8\n",
            "Df Residuals:                      46   BIC:                             229.5\n",
            "Df Model:                           1                                         \n",
            "Covariance Type:            nonrobust                                         \n",
            "==============================================================================\n",
            "                 coef    std err          t      P>|t|      [0.025      0.975]\n",
            "------------------------------------------------------------------------------\n",
            "const         -0.1134      0.359     -0.316      0.754      -0.837       0.610\n",
            "u t-1          0.5730      0.116      4.934      0.000       0.339       0.807\n",
            "==============================================================================\n",
            "Omnibus:                        6.807   Durbin-Watson:                   1.354\n",
            "Prob(Omnibus):                  0.033   Jarque-Bera (JB):               10.853\n",
            "Skew:                           0.158   Prob(JB):                      0.00440\n",
            "Kurtosis:                       5.308   Cond. No.                         3.09\n",
            "==============================================================================\n",
            "\n",
            "Warnings:\n",
            "[1] Standard Errors assume that the covariance matrix of the errors is correctly specified.\n"
          ]
        }
      ]
    },
    {
      "cell_type": "code",
      "metadata": {
        "colab": {
          "base_uri": "https://localhost:8080/",
          "height": 317
        },
        "id": "gcWsu-aJjdaM",
        "outputId": "bb4f69cc-741c-4de1-8a85-453d9e6292db"
      },
      "source": [
        "plt.title('Lag plot', fontsize=14, pad=10)\n",
        "sns.regplot(new_df['u t-1'], new_df['u t'], ci=False)"
      ],
      "execution_count": null,
      "outputs": [
        {
          "output_type": "execute_result",
          "data": {
            "text/plain": [
              "<matplotlib.axes._subplots.AxesSubplot at 0x7fa2cde38410>"
            ]
          },
          "metadata": {},
          "execution_count": 17
        },
        {
          "output_type": "display_data",
          "data": {
            "image/png": "[encoded data removed]",
            "text/plain": [
              "<Figure size 432x288 with 1 Axes>"
            ]
          },
          "metadata": {
            "needs_background": "light"
          }
        }
      ]
    },
    {
      "cell_type": "code",
      "metadata": {
        "colab": {
          "base_uri": "https://localhost:8080/",
          "height": 281
        },
        "id": "I4nsYMwaH1Ni",
        "outputId": "fa7812b9-df48-4663-e840-de2a393145ce"
      },
      "source": [
        "plot_acf(resultados.resid)\n",
        "plt.show()"
      ],
      "execution_count": null,
      "outputs": [
        {
          "output_type": "display_data",
          "data": {
            "image/png": "[encoded data removed]",
            "text/plain": [
              "<Figure size 432x288 with 1 Axes>"
            ]
          },
          "metadata": {
            "needs_background": "light"
          }
        }
      ]
    },
    {
      "cell_type": "markdown",
      "metadata": {
        "id": "xzOqQpCEEbky"
      },
      "source": [
        "En el primer gráfico se puede observar que hay una correlación lineal positiva entre el residual t y el residual rezagado t-1, es decir hay correlación serial de primer orden lo cual implica una violación al supuesto de errores no correlacionados.\n",
        "\n",
        "En el segundo gráfico intentamos verificar si hay autocorrelación para aquellos rezagos mayores a 1. Al parecer sólo hay correlación serial de primer orden ya que la misma se encuentra por fuera del intervalo de confianza seteado al 95%.\n",
        "\n",
        "La violación al supuesto de errores independientes/no correlacionados implica que los estimadores de OLS ya no son MELI y que los errores estándar y\n",
        "los estadísticos de prueba ya no son más válidos, los últimos no se podrán usar más para pruebas de hipótesis. En aquellos casos cuando p > 0, se estará subestimando la varianza del estimador de OLS y, en consecuencia, un error estándar más chico significa un estadístico t mayor y un intervalo de confianza más acotado."
      ]
    },
    {
      "cell_type": "markdown",
      "metadata": {
        "id": "3WK0by_FjxDt"
      },
      "source": [
        "**PUNTO 3**"
      ]
    },
    {
      "cell_type": "code",
      "metadata": {
        "colab": {
          "base_uri": "https://localhost:8080/"
        },
        "id": "k3GpfnDpabRG",
        "outputId": "2119765b-e976-4d9e-9635-67a7447601a7"
      },
      "source": [
        "np.round(durbin_watson(resultados.resid), 4)"
      ],
      "execution_count": null,
      "outputs": [
        {
          "output_type": "execute_result",
          "data": {
            "text/plain": [
              "0.8027"
            ]
          },
          "metadata": {},
          "execution_count": 13
        }
      ]
    },
    {
      "cell_type": "markdown",
      "metadata": {
        "id": "2rgznLzdKA-j"
      },
      "source": [
        "H0 = No hay correlación serial en los residuos.\n",
        "\n",
        "H1 = Hay correlación serial en los residuos.\n",
        "\n",
        "El estadístico de la prueba se encuentra cerca del 0, lo que impica que rechazamos la hipótesis nula debido a que hay suficiente evidencia estadística de que hay correlación serial positiva en los residuales.\n",
        "\n",
        " El valor de éste estadístico siempre se encontrará entre 0 y 4. Mientras más cercano al 0, más evidencia habrá de correlación serial positiva. Si el estadístico es igual a 2 entonces no hay autocorrelación. Entre más cercano al 4, más evidencia habrá de correlación serial negativa."
      ]
    }
  ]
}