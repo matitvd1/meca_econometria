{
  "nbformat": 4,
  "nbformat_minor": 0,
  "metadata": {
    "colab": {
      "name": "TP Final Econometría.ipynb",
      "provenance": [],
      "collapsed_sections": []
    },
    "kernelspec": {
      "name": "python3",
      "display_name": "Python 3"
    },
    "language_info": {
      "name": "python"
    }
  },
  "cells": [
    {
      "cell_type": "markdown",
      "source": [
        "**TRABAJO FINAL ECONOMETRÍA**"
      ],
      "metadata": {
        "id": "qPCHhnKMYm4Y"
      }
    },
    {
      "cell_type": "code",
      "execution_count": null,
      "metadata": {
        "id": "ECWVxVIGX_St",
        "colab": {
          "base_uri": "https://localhost:8080/"
        },
        "outputId": "7223aa11-54d0-4f9b-af6d-6578f29475f7"
      },
      "outputs": [
        {
          "output_type": "stream",
          "name": "stderr",
          "text": [
            "/usr/local/lib/python3.7/dist-packages/statsmodels/tools/_testing.py:19: FutureWarning: pandas.util.testing is deprecated. Use the functions in the public API at pandas.testing instead.\n",
            "  import pandas.util.testing as tm\n"
          ]
        }
      ],
      "source": [
        "# Importación de librerias\n",
        "import pandas as pd\n",
        "import numpy as np\n",
        "import matplotlib.pyplot as plt\n",
        "import seaborn as sns\n",
        "import statsmodels.api as sm\n",
        "import statsmodels.formula.api as smf\n",
        "import scipy as scs\n",
        "import warnings\n",
        "import scipy\n",
        "\n",
        "from scipy.stats import chi2_contingency\n",
        "from scipy.stats import chi2\n",
        "from scipy.stats import norm\n",
        "\n",
        "\n",
        "\n",
        "warnings.filterwarnings('ignore')"
      ]
    },
    {
      "cell_type": "code",
      "source": [
        "def q25(x):\n",
        "  return x.quantile(0.25)\n",
        "\n",
        "def q50(x):\n",
        "  return x.quantile(0.5)\n",
        "\n",
        "def q75(x):\n",
        "  return x.quantile(0.75)\n",
        "\n",
        "def range(x):\n",
        "  return x.max() - x.min()  "
      ],
      "metadata": {
        "id": "FN4aoEcXw9Se"
      },
      "execution_count": null,
      "outputs": []
    },
    {
      "cell_type": "code",
      "source": [
        "df = pd.read_excel('/content/drive/MyDrive/usu_individual_T221.xlsx')\n",
        "df = df[['H15', 'REGION', 'CH04', 'CH06', 'CH07', 'CH08', 'CH12', 'NIVEL_ED', 'ESTADO', 'PP03D', 'PP3E_TOT', 'PP3F_TOT', 'P21', 'TOT_P12', 'P47T' ,'ITF','CAT_OCUP']].copy()"
      ],
      "metadata": {
        "id": "tkqMp3vwYxEu"
      },
      "execution_count": null,
      "outputs": []
    },
    {
      "cell_type": "code",
      "source": [
        "df.info()"
      ],
      "metadata": {
        "colab": {
          "base_uri": "https://localhost:8080/"
        },
        "id": "-7ENblE7YxML",
        "outputId": "358397e8-6e1e-400f-f6c2-9b7c7c0fe43d"
      },
      "execution_count": null,
      "outputs": [
        {
          "output_type": "stream",
          "name": "stdout",
          "text": [
            "<class 'pandas.core.frame.DataFrame'>\n",
            "RangeIndex: 47085 entries, 0 to 47084\n",
            "Data columns (total 17 columns):\n",
            " #   Column    Non-Null Count  Dtype  \n",
            "---  ------    --------------  -----  \n",
            " 0   H15       47085 non-null  int64  \n",
            " 1   REGION    47085 non-null  int64  \n",
            " 2   CH04      47085 non-null  int64  \n",
            " 3   CH06      47085 non-null  int64  \n",
            " 4   CH07      47085 non-null  int64  \n",
            " 5   CH08      47085 non-null  int64  \n",
            " 6   CH12      47085 non-null  int64  \n",
            " 7   NIVEL_ED  47085 non-null  int64  \n",
            " 8   ESTADO    47085 non-null  int64  \n",
            " 9   PP03D     19408 non-null  float64\n",
            " 10  PP3E_TOT  19408 non-null  float64\n",
            " 11  PP3F_TOT  19408 non-null  float64\n",
            " 12  P21       47085 non-null  int64  \n",
            " 13  TOT_P12   47085 non-null  int64  \n",
            " 14  P47T      46996 non-null  float64\n",
            " 15  ITF       47085 non-null  int64  \n",
            " 16  CAT_OCUP  47085 non-null  int64  \n",
            "dtypes: float64(4), int64(13)\n",
            "memory usage: 6.1 MB\n"
          ]
        }
      ]
    },
    {
      "cell_type": "code",
      "source": [
        "# DataFrame con filtros. Observaciones con 18 o más años de edad y eliminando aquellas observaciones en la que no hay respuesta en NIVEL_ED\n",
        "new_df = df.loc[(~df.NIVEL_ED.isin([7,9])) & (df.CH06>=17) & (df.H15 == 1) & (df.P21 != -9) & (~df.PP3E_TOT.isin([9, 99, 999, 9999]))].copy()\n",
        "\n",
        "# Mapeo de valores de la variable independiente NIVEL_ED.\n",
        "new_df['NIVEL_ED'] = new_df.NIVEL_ED.map({1:'primaria inc.',2:'primaria compl.',3:'secundaria incompl.',4:'secundaria compl.',5:'univ. incompl.',6:'univ. compl.'})\n",
        "\n",
        "# Mapeo de valores de la variable región\n",
        "new_df['REGION'] = new_df.REGION.map({1:'GBA', 40:'Noroeste', 41:'Nordeste', 42:'Cuyo', 43:'Pampeana', 44:'Patagonia'})"
      ],
      "metadata": {
        "id": "g0DPGUtEYxU9"
      },
      "execution_count": null,
      "outputs": []
    },
    {
      "cell_type": "code",
      "source": [
        "# Cuantas observaciones hay en cada región?\n",
        "plt.figure(figsize=(8,4))\n",
        "plt.title('Conteo de obs. por región', pad=10, fontweight='bold', fontsize=12)\n",
        "new_df.REGION.value_counts().plot.bar()\n",
        "plt.xticks(rotation=45)\n",
        "plt.xlabel('Región')\n",
        "plt.ylabel('Conteo')"
      ],
      "metadata": {
        "colab": {
          "base_uri": "https://localhost:8080/",
          "height": 351
        },
        "id": "0bp66XcyK_W6",
        "outputId": "c6bf7e66-4cbe-4b17-93af-75760c71c41a"
      },
      "execution_count": null,
      "outputs": [
        {
          "output_type": "execute_result",
          "data": {
            "text/plain": [
              "Text(0, 0.5, 'Conteo')"
            ]
          },
          "metadata": {},
          "execution_count": 6
        },
        {
          "output_type": "display_data",
          "data": {
            "image/png": "[encoded data removed]",
            "text/plain": [
              "<Figure size 576x288 with 1 Axes>"
            ]
          },
          "metadata": {
            "needs_background": "light"
          }
        }
      ]
    },
    {
      "cell_type": "code",
      "source": [
        "# Cómo es la distribución de las edades de las personas encuestadas?\n",
        "plt.figure(figsize=(6,4))\n",
        "plt.title('Distribución de las edades en la muestra', pad=10, fontweight='bold', fontsize=12)\n",
        "new_df.CH06.plot.hist(bins=10)\n",
        "plt.ylabel('Frecuencia')\n",
        "plt.xlabel('Edad')"
      ],
      "metadata": {
        "colab": {
          "base_uri": "https://localhost:8080/",
          "height": 316
        },
        "id": "dizkyntoN20g",
        "outputId": "fcad1216-7967-4b82-ea97-18256f41aba8"
      },
      "execution_count": null,
      "outputs": [
        {
          "output_type": "execute_result",
          "data": {
            "text/plain": [
              "Text(0.5, 0, 'Edad')"
            ]
          },
          "metadata": {},
          "execution_count": 7
        },
        {
          "output_type": "display_data",
          "data": {
            "image/png": "[encoded data removed]",
            "text/plain": [
              "<Figure size 432x288 with 1 Axes>"
            ]
          },
          "metadata": {
            "needs_background": "light"
          }
        }
      ]
    },
    {
      "cell_type": "code",
      "source": [
        "for i,j in enumerate(['Activo','Desocupado','Inactivo']):\n",
        "  plt.subplot(1, 3, i+1)\n",
        "  new_df[new_df.ESTADO == i+1].CH06.plot.hist(figsize=(15,5), title=f'Distribución de edad por estado en el\\nmercado laboral: {j}')\n",
        "  plt.xlabel('Edad')\n",
        "  plt.ylabel('Frecuencia')\n",
        "  plt.tight_layout()"
      ],
      "metadata": {
        "colab": {
          "base_uri": "https://localhost:8080/",
          "height": 369
        },
        "id": "nWkhdRRJjSXS",
        "outputId": "b2653e0d-ddf9-4432-e0c3-b63d97cbff01"
      },
      "execution_count": null,
      "outputs": [
        {
          "output_type": "display_data",
          "data": {
            "image/png": "[encoded data removed]",
            "text/plain": [
              "<Figure size 1080x360 with 3 Axes>"
            ]
          },
          "metadata": {
            "needs_background": "light"
          }
        }
      ]
    },
    {
      "cell_type": "code",
      "source": [
        "# DATAFRAME QUE UTILIZAREMOS PARA HACER EL ANÁLISIS. CONTIENE SOLO A LAS PERSONAS QUE SE ENCUENTRAN EN ESTADO ACTIVO EN EL MCDO. LABORAL Y EMPLEADAS\n",
        "df_final = new_df.loc[(new_df.ESTADO == 1) & (new_df.CAT_OCUP == 3)].copy()\n",
        "# Binarizamos la variable continua de ingresos de los individuos en base a la canasta básica para hacerla categorica\n",
        "df_final['can_basica'] = np.where(df_final.P21 >= 23922,0,1)"
      ],
      "metadata": {
        "id": "tPwyWjCNxzW-"
      },
      "execution_count": null,
      "outputs": []
    },
    {
      "cell_type": "code",
      "source": [
        "# Conteo de personas que se encuentran por debajo y encima de la línea de pobreza (1=encima de LP, 2=debajo de LP)\n",
        "df_final.can_basica.value_counts()"
      ],
      "metadata": {
        "colab": {
          "base_uri": "https://localhost:8080/"
        },
        "id": "dl8nCQQ1-Ek1",
        "outputId": "c761e34c-40f5-4760-98cf-734f470d5d20"
      },
      "execution_count": null,
      "outputs": [
        {
          "output_type": "execute_result",
          "data": {
            "text/plain": [
              "0    8446\n",
              "1    3647\n",
              "Name: can_basica, dtype: int64"
            ]
          },
          "metadata": {},
          "execution_count": 10
        }
      ]
    },
    {
      "cell_type": "code",
      "source": [
        "# Cuantas hombres y mujeres ocupados en la PEA?\n",
        "plt.title('Conteo de observaciones en la muestra por género', pad=10, fontweight='bold', fontsize=12)\n",
        "df_final.CH04.value_counts().plot.bar()\n",
        "plt.xticks(ticks=[0,1], labels=['Hombres','Mujeres'], rotation='horizontal')\n",
        "plt.xlabel('Género')\n",
        "plt.ylabel('Conteo')\n",
        "print('Conteo de observaciones por sexo:\\n{}'.format(df_final.CH04.value_counts()))\n",
        "print('\\n')"
      ],
      "metadata": {
        "colab": {
          "base_uri": "https://localhost:8080/",
          "height": 403
        },
        "id": "2RlEmZGdzZJd",
        "outputId": "751ca858-5a6f-4d55-f7cb-c730c0779552"
      },
      "execution_count": null,
      "outputs": [
        {
          "output_type": "stream",
          "name": "stdout",
          "text": [
            "Conteo de observaciones por sexo:\n",
            "1    6477\n",
            "2    5616\n",
            "Name: CH04, dtype: int64\n",
            "\n",
            "\n"
          ]
        },
        {
          "output_type": "display_data",
          "data": {
            "image/png": "[encoded data removed]",
            "text/plain": [
              "<Figure size 432x288 with 1 Axes>"
            ]
          },
          "metadata": {
            "needs_background": "light"
          }
        }
      ]
    },
    {
      "cell_type": "code",
      "source": [
        "pov_ed_pt = pd.crosstab(df_final.can_basica, df_final.NIVEL_ED)\n",
        "pov_ed_pt.index = ['Encima LP','Debajo LP']\n",
        "pov_ed_pt = pov_ed_pt[['primaria inc.','primaria compl.','secundaria incompl.','secundaria compl.','univ. incompl.','univ. compl.']]\n",
        "\n",
        "# Prueba chi cuadrado para las frecuencias de las observaciones entre los niveles de educación y ser pobre o no\n",
        "stat, p, dof, expected = chi2_contingency(pov_ed_pt.values)\n",
        "\n",
        "if p <= 0.05:\n",
        "  print('Hay dependencia entre las frecuencias observadas (rechazamos H0)')\n",
        "else:\n",
        "  print('No hay dependencia entre las frecuencias observadasndependent (fallamos en rechazar H0)')\n",
        "\n",
        "print('\\n')\n",
        "\n",
        "pov_ed_pt"
      ],
      "metadata": {
        "id": "kbW3jUkPAfri",
        "colab": {
          "base_uri": "https://localhost:8080/",
          "height": 164
        },
        "outputId": "1a95e52b-cc49-4055-ba2c-78daf2a93d30"
      },
      "execution_count": null,
      "outputs": [
        {
          "output_type": "stream",
          "name": "stdout",
          "text": [
            "Hay dependencia entre las frecuencias observadas (rechazamos H0)\n",
            "\n",
            "\n"
          ]
        },
        {
          "output_type": "execute_result",
          "data": {
            "text/html": [
              "\n",
              "  <div id=\"df-525ea8b2-22f6-4b06-ad94-50c24ffe568c\">\n",
              "    <div class=\"colab-df-container\">\n",
              "      <div>\n",
              "<style scoped>\n",
              "    .dataframe tbody tr th:only-of-type {\n",
              "        vertical-align: middle;\n",
              "    }\n",
              "\n",
              "    .dataframe tbody tr th {\n",
              "        vertical-align: top;\n",
              "    }\n",
              "\n",
              "    .dataframe thead th {\n",
              "        text-align: right;\n",
              "    }\n",
              "</style>\n",
              "<table border=\"1\" class=\"dataframe\">\n",
              "  <thead>\n",
              "    <tr style=\"text-align: right;\">\n",
              "      <th>NIVEL_ED</th>\n",
              "      <th>primaria inc.</th>\n",
              "      <th>primaria compl.</th>\n",
              "      <th>secundaria incompl.</th>\n",
              "      <th>secundaria compl.</th>\n",
              "      <th>univ. incompl.</th>\n",
              "      <th>univ. compl.</th>\n",
              "    </tr>\n",
              "  </thead>\n",
              "  <tbody>\n",
              "    <tr>\n",
              "      <th>Encima LP</th>\n",
              "      <td>135</td>\n",
              "      <td>693</td>\n",
              "      <td>1117</td>\n",
              "      <td>2658</td>\n",
              "      <td>1173</td>\n",
              "      <td>2670</td>\n",
              "    </tr>\n",
              "    <tr>\n",
              "      <th>Debajo LP</th>\n",
              "      <td>176</td>\n",
              "      <td>571</td>\n",
              "      <td>831</td>\n",
              "      <td>1110</td>\n",
              "      <td>601</td>\n",
              "      <td>358</td>\n",
              "    </tr>\n",
              "  </tbody>\n",
              "</table>\n",
              "</div>\n",
              "      <button class=\"colab-df-convert\" onclick=\"convertToInteractive('df-525ea8b2-22f6-4b06-ad94-50c24ffe568c')\"\n",
              "              title=\"Convert this dataframe to an interactive table.\"\n",
              "              style=\"display:none;\">\n",
              "        \n",
              "  <svg xmlns=\"http://www.w3.org/2000/svg\" height=\"24px\"viewBox=\"0 0 24 24\"\n",
              "       width=\"24px\">\n",
              "    <path d=\"M0 0h24v24H0V0z\" fill=\"none\"/>\n",
              "    <path d=\"M18.56 5.44l.94 2.06.94-2.06 2.06-.94-2.06-.94-.94-2.06-.94 2.06-2.06.94zm-11 1L8.5 8.5l.94-2.06 2.06-.94-2.06-.94L8.5 2.5l-.94 2.06-2.06.94zm10 10l.94 2.06.94-2.06 2.06-.94-2.06-.94-.94-2.06-.94 2.06-2.06.94z\"/><path d=\"M17.41 7.96l-1.37-1.37c-.4-.4-.92-.59-1.43-.59-.52 0-1.04.2-1.43.59L10.3 9.45l-7.72 7.72c-.78.78-.78 2.05 0 2.83L4 21.41c.39.39.9.59 1.41.59.51 0 1.02-.2 1.41-.59l7.78-7.78 2.81-2.81c.8-.78.8-2.07 0-2.86zM5.41 20L4 18.59l7.72-7.72 1.47 1.35L5.41 20z\"/>\n",
              "  </svg>\n",
              "      </button>\n",
              "      \n",
              "  <style>\n",
              "    .colab-df-container {\n",
              "      display:flex;\n",
              "      flex-wrap:wrap;\n",
              "      gap: 12px;\n",
              "    }\n",
              "\n",
              "    .colab-df-convert {\n",
              "      background-color: #E8F0FE;\n",
              "      border: none;\n",
              "      border-radius: 50%;\n",
              "      cursor: pointer;\n",
              "      display: none;\n",
              "      fill: #1967D2;\n",
              "      height: 32px;\n",
              "      padding: 0 0 0 0;\n",
              "      width: 32px;\n",
              "    }\n",
              "\n",
              "    .colab-df-convert:hover {\n",
              "      background-color: #E2EBFA;\n",
              "      box-shadow: 0px 1px 2px rgba(60, 64, 67, 0.3), 0px 1px 3px 1px rgba(60, 64, 67, 0.15);\n",
              "      fill: #174EA6;\n",
              "    }\n",
              "\n",
              "    [theme=dark] .colab-df-convert {\n",
              "      background-color: #3B4455;\n",
              "      fill: #D2E3FC;\n",
              "    }\n",
              "\n",
              "    [theme=dark] .colab-df-convert:hover {\n",
              "      background-color: #434B5C;\n",
              "      box-shadow: 0px 1px 3px 1px rgba(0, 0, 0, 0.15);\n",
              "      filter: drop-shadow(0px 1px 2px rgba(0, 0, 0, 0.3));\n",
              "      fill: #FFFFFF;\n",
              "    }\n",
              "  </style>\n",
              "\n",
              "      <script>\n",
              "        const buttonEl =\n",
              "          document.querySelector('#df-525ea8b2-22f6-4b06-ad94-50c24ffe568c button.colab-df-convert');\n",
              "        buttonEl.style.display =\n",
              "          google.colab.kernel.accessAllowed ? 'block' : 'none';\n",
              "\n",
              "        async function convertToInteractive(key) {\n",
              "          const element = document.querySelector('#df-525ea8b2-22f6-4b06-ad94-50c24ffe568c');\n",
              "          const dataTable =\n",
              "            await google.colab.kernel.invokeFunction('convertToInteractive',\n",
              "                                                     [key], {});\n",
              "          if (!dataTable) return;\n",
              "\n",
              "          const docLinkHtml = 'Like what you see? Visit the ' +\n",
              "            '<a target=\"_blank\" href=https://colab.research.google.com/notebooks/data_table.ipynb>data table notebook</a>'\n",
              "            + ' to learn more about interactive tables.';\n",
              "          element.innerHTML = '';\n",
              "          dataTable['output_type'] = 'display_data';\n",
              "          await google.colab.output.renderOutput(dataTable, element);\n",
              "          const docLink = document.createElement('div');\n",
              "          docLink.innerHTML = docLinkHtml;\n",
              "          element.appendChild(docLink);\n",
              "        }\n",
              "      </script>\n",
              "    </div>\n",
              "  </div>\n",
              "  "
            ],
            "text/plain": [
              "NIVEL_ED   primaria inc.  primaria compl.  ...  univ. incompl.  univ. compl.\n",
              "Encima LP            135              693  ...            1173          2670\n",
              "Debajo LP            176              571  ...             601           358\n",
              "\n",
              "[2 rows x 6 columns]"
            ]
          },
          "metadata": {},
          "execution_count": 12
        }
      ]
    },
    {
      "cell_type": "code",
      "source": [
        "# Frecuencia de observaciones en cada nivel educativo por línea de pobreza\n",
        "plt.figure(figsize=(6.5,4.5))\n",
        "plt.title('Conteo en los niveles educativos\\npor situación enconómica', pad=10, fontweight='bold', fontsize=12)\n",
        "sns.countplot(x='NIVEL_ED', data=df_final, hue='can_basica', order=['primaria inc.','primaria compl.','secundaria incompl.','secundaria compl.','univ. incompl.','univ. compl.'])\n",
        "plt.xticks(rotation=45)\n",
        "plt.legend(['No pobre','Pobre'])\n",
        "plt.xlabel('Nivel Educativo')\n",
        "plt.ylabel('Conteo')"
      ],
      "metadata": {
        "colab": {
          "base_uri": "https://localhost:8080/",
          "height": 427
        },
        "id": "TyZaTtYZHU_3",
        "outputId": "7d3dbd88-74a3-4a76-81e4-90c9e7613313"
      },
      "execution_count": null,
      "outputs": [
        {
          "output_type": "execute_result",
          "data": {
            "text/plain": [
              "Text(0, 0.5, 'Conteo')"
            ]
          },
          "metadata": {},
          "execution_count": 13
        },
        {
          "output_type": "display_data",
          "data": {
            "image/png": "[encoded data removed]",
            "text/plain": [
              "<Figure size 468x324 with 1 Axes>"
            ]
          },
          "metadata": {
            "needs_background": "light"
          }
        }
      ]
    },
    {
      "cell_type": "code",
      "source": [
        "# Cálculo rango intercuartílico y limites inferiores y superiores\n",
        "Q25, Q75 = df_final.P21.quantile(0.25), df_final.P21.quantile(0.75)\n",
        "IQR = Q75 - Q25\n",
        "corte = IQR * 1.5\n",
        "lim_inf, lim_sup = Q25 - corte, Q75 + corte\n",
        "\n",
        "# Remover outliers para una mejor visualización ya que los mismos aplastan los datos contra el eje de las ordenadas\n",
        "df_p21 = df_final[~((df_final.P21 < lim_inf) | (df_final.P21 > lim_sup))]\n",
        "df_p21.shape[0], df_final.shape[0]\n",
        "\n",
        "plt.figure(figsize=(10,5))\n",
        "plt.title('Ingresos por nivel educativo y género', pad=10, fontweight='bold', fontsize=12)\n",
        "ax = sns.boxplot(x='P21',y='NIVEL_ED',data=df_p21,hue='CH04', showfliers=False, \n",
        "                 order=['univ. compl.', 'univ. incompl.', 'secundaria compl.', 'secundaria incompl.', 'primaria compl.', 'primaria inc.'])\n",
        "h, l = ax.get_legend_handles_labels()\n",
        "ax.legend(h, ['Hombre','Mujer'], bbox_to_anchor=[1, 1])\n",
        "plt.xlabel('Ingresos')\n",
        "plt.ylabel('Nivel Educativo')\n",
        "plt.show()"
      ],
      "metadata": {
        "colab": {
          "base_uri": "https://localhost:8080/",
          "height": 354
        },
        "id": "1_c5cVQiYbRG",
        "outputId": "27bc4b22-573f-40c9-a22f-e15a53e1d692"
      },
      "execution_count": null,
      "outputs": [
        {
          "output_type": "display_data",
          "data": {
            "image/png": "[encoded data removed]",
            "text/plain": [
              "<Figure size 720x360 with 1 Axes>"
            ]
          },
          "metadata": {
            "needs_background": "light"
          }
        }
      ]
    },
    {
      "cell_type": "code",
      "source": [
        "# Cambio % en la mediana de los ingresos de las muejeres por nivel educativo completado\n",
        "df_final.groupby(['NIVEL_ED','CH04']).P21.describe().reset_index().iloc[1:-1:2].loc[[3,5,9], '50%'].pct_change()"
      ],
      "metadata": {
        "colab": {
          "base_uri": "https://localhost:8080/"
        },
        "id": "qVGs0CixVVR9",
        "outputId": "5c64a6a1-dc9a-4d78-e5bf-1c1800b53023"
      },
      "execution_count": null,
      "outputs": [
        {
          "output_type": "execute_result",
          "data": {
            "text/plain": [
              "3         NaN\n",
              "5    1.500000\n",
              "9    0.666667\n",
              "Name: 50%, dtype: float64"
            ]
          },
          "metadata": {},
          "execution_count": 15
        }
      ]
    },
    {
      "cell_type": "code",
      "source": [
        "# Cambio % en la mediana de los ingresos de los hombres por nivel educativo completado\n",
        "df_final.groupby(['NIVEL_ED','CH04']).P21.describe().reset_index().iloc[0:-1:2].loc[[0,4,8], '50%'].pct_change()"
      ],
      "metadata": {
        "colab": {
          "base_uri": "https://localhost:8080/"
        },
        "id": "snJQVFUGXSjs",
        "outputId": "7d7d6825-5452-46c0-b48f-544414c78c45"
      },
      "execution_count": null,
      "outputs": [
        {
          "output_type": "execute_result",
          "data": {
            "text/plain": [
              "0         NaN\n",
              "4    0.333333\n",
              "8    0.500000\n",
              "Name: 50%, dtype: float64"
            ]
          },
          "metadata": {},
          "execution_count": 16
        }
      ]
    },
    {
      "cell_type": "code",
      "source": [
        "plt.figure(figsize=(11,4.5))\n",
        "plt.title('Conteo de obs. en los niveles educativos alcanzados por género', pad=10, fontweight='bold', fontsize=12)\n",
        "sns.countplot(x='NIVEL_ED', data=df_final, hue='CH04', order=['primaria inc.','primaria compl.','secundaria incompl.','secundaria compl.','univ. incompl.','univ. compl.'])\n",
        "plt.xlabel('Nivel Educativo', labelpad=5)\n",
        "plt.ylabel('Conteo')\n",
        "plt.legend(['Hombre','Mujer'])"
      ],
      "metadata": {
        "colab": {
          "base_uri": "https://localhost:8080/",
          "height": 345
        },
        "id": "2B7IBI4lS17i",
        "outputId": "c8a30378-eb47-40da-aa0e-2a202ac19c40"
      },
      "execution_count": null,
      "outputs": [
        {
          "output_type": "execute_result",
          "data": {
            "text/plain": [
              "<matplotlib.legend.Legend at 0x7f249eb34fd0>"
            ]
          },
          "metadata": {},
          "execution_count": 17
        },
        {
          "output_type": "display_data",
          "data": {
            "image/png": "[encoded data removed]",
            "text/plain": [
              "<Figure size 792x324 with 1 Axes>"
            ]
          },
          "metadata": {
            "needs_background": "light"
          }
        }
      ]
    },
    {
      "cell_type": "code",
      "source": [
        "plt.figure(figsize=(6.5, 4.5))\n",
        "plt.title('Conteo de situación económica por género', pad=10, fontweight='bold', fontsize=12)\n",
        "sns.countplot(x='can_basica', data=df_final, hue='CH04')\n",
        "plt.xlabel('Ingresos')\n",
        "plt.ylabel('Conteo')\n",
        "plt.xticks(ticks=[0,1], labels=['No pobre', 'Pobre'])\n",
        "plt.legend(['Hombre','Mujer'])"
      ],
      "metadata": {
        "colab": {
          "base_uri": "https://localhost:8080/",
          "height": 344
        },
        "id": "U2MALQgZGPE3",
        "outputId": "3a4fe962-1272-4f37-a115-04d2854c8f49"
      },
      "execution_count": null,
      "outputs": [
        {
          "output_type": "execute_result",
          "data": {
            "text/plain": [
              "<matplotlib.legend.Legend at 0x7f249e6a5850>"
            ]
          },
          "metadata": {},
          "execution_count": 18
        },
        {
          "output_type": "display_data",
          "data": {
            "image/png": "[encoded data removed]",
            "text/plain": [
              "<Figure size 468x324 with 1 Axes>"
            ]
          },
          "metadata": {
            "needs_background": "light"
          }
        }
      ]
    },
    {
      "cell_type": "code",
      "source": [
        "plt.title('Distribución de cant. de hs. trabajadas\\npor situación económica'\\\n",
        "          , pad=10, fontweight='bold', fontsize=12)\n",
        "sns.histplot(x='PP3E_TOT', data=df_final, hue='can_basica', bins=10)\n",
        "plt.xlabel('Horas trabajadas en ocupación\\nprincipal por semana')\n",
        "plt.ylabel('Frecuencia')\n",
        "plt.legend(['Pobre','No pobre'])"
      ],
      "metadata": {
        "colab": {
          "base_uri": "https://localhost:8080/",
          "height": 343
        },
        "id": "O4BFv9f2AD8x",
        "outputId": "0602d947-2ded-4e5e-bac5-8c15250be553"
      },
      "execution_count": null,
      "outputs": [
        {
          "output_type": "execute_result",
          "data": {
            "text/plain": [
              "<matplotlib.legend.Legend at 0x7f249e3e2890>"
            ]
          },
          "metadata": {},
          "execution_count": 19
        },
        {
          "output_type": "display_data",
          "data": {
            "image/png": "[encoded data removed]",
            "text/plain": [
              "<Figure size 432x288 with 1 Axes>"
            ]
          },
          "metadata": {
            "needs_background": "light"
          }
        }
      ]
    },
    {
      "cell_type": "code",
      "source": [
        "# Distribución de edad discriminado por linea de pobreza\n",
        "plt.title('Distribucón de edad por situación económica', pad=10, fontweight='bold', fontsize=12)\n",
        "sns.histplot(x = 'CH06', data = df_final, hue = 'can_basica', bins=10)\n",
        "plt.xlabel('Edad')\n",
        "plt.ylabel('Frecuencia')\n",
        "plt.legend(['Pobre','No pobre'])\n",
        "plt.show()"
      ],
      "metadata": {
        "colab": {
          "base_uri": "https://localhost:8080/",
          "height": 299
        },
        "id": "EmdpCn3IAIxR",
        "outputId": "346e4b17-7a6b-4b0d-bc70-674ae3e9456b"
      },
      "execution_count": null,
      "outputs": [
        {
          "output_type": "display_data",
          "data": {
            "image/png": "[encoded data removed]",
            "text/plain": [
              "<Figure size 432x288 with 1 Axes>"
            ]
          },
          "metadata": {
            "needs_background": "light"
          }
        }
      ]
    },
    {
      "cell_type": "code",
      "source": [
        "plt.figure(figsize=(6.5, 4.5))\n",
        "plt.title('Conteo de obs. en Estado Civil por situación económica', pad=10, fontweight='bold', fontsize=12)\n",
        "sns.countplot(x='CH07', data=df_final, hue='can_basica')\n",
        "plt.xticks(ticks=[0,1,2,3,4], labels=['unido/a','casado/a','sep. o div.','viudo/a','soltero/a'])\n",
        "plt.xlabel('Estado Civil')\n",
        "plt.ylabel('Conteo')\n",
        "plt.legend(['No pobre','Pobre'], bbox_to_anchor=[1.27, 1])"
      ],
      "metadata": {
        "colab": {
          "base_uri": "https://localhost:8080/",
          "height": 344
        },
        "id": "awVXxaqZ4fHx",
        "outputId": "894c3011-6549-4ec7-eee6-4986bedd814f"
      },
      "execution_count": null,
      "outputs": [
        {
          "output_type": "execute_result",
          "data": {
            "text/plain": [
              "<matplotlib.legend.Legend at 0x7f249eb10690>"
            ]
          },
          "metadata": {},
          "execution_count": 21
        },
        {
          "output_type": "display_data",
          "data": {
            "image/png": "[encoded data removed]",
            "text/plain": [
              "<Figure size 468x324 with 1 Axes>"
            ]
          },
          "metadata": {
            "needs_background": "light"
          }
        }
      ]
    },
    {
      "cell_type": "code",
      "source": [
        "tabla_descr_2 = df_final[['CH04','CH07','P21']].copy()\n",
        "tabla_descr_2['CH04'] = tabla_descr_2.CH04.map({1:'Hombre',2:'Mujer'})\n",
        "tabla_descr_2['CH07'] = tabla_descr_2.CH07.map({1:'unido/a',2:'casado/a',3:'sep. o div.',\n",
        "                                                4:'viudo/a',5:'soltero/a'})\n",
        "# Gráficar\n",
        "plt.figure(figsize=(10,5))\n",
        "plt.title('Ingresos por estado civil y género', pad=10, fontsize=12, fontweight='bold')\n",
        "sns.boxplot(x='P21', y='CH07', data=tabla_descr_2, hue='CH04', showfliers=False)\n",
        "plt.legend(bbox_to_anchor=[1, 1], title='Género')\n",
        "plt.xlabel('Ingresos')\n",
        "plt.ylabel('Estado Civil')\n",
        "plt.show()"
      ],
      "metadata": {
        "colab": {
          "base_uri": "https://localhost:8080/",
          "height": 354
        },
        "id": "AhKd54Ye5ljb",
        "outputId": "216c446c-f176-4402-b348-bb81685c25b3"
      },
      "execution_count": null,
      "outputs": [
        {
          "output_type": "display_data",
          "data": {
            "image/png": "[encoded data removed]",
            "text/plain": [
              "<Figure size 720x360 with 1 Axes>"
            ]
          },
          "metadata": {
            "needs_background": "light"
          }
        }
      ]
    },
    {
      "cell_type": "code",
      "source": [
        "df_final[['CH06','PP3E_TOT','P21']].agg(['min', q25, q50, q75, 'max', 'mean',range,'std','skew','kurt']).T"
      ],
      "metadata": {
        "colab": {
          "base_uri": "https://localhost:8080/",
          "height": 143
        },
        "id": "-Le2UQT0HGbP",
        "outputId": "6eae3a5a-895d-4a4f-e702-5483631704dd"
      },
      "execution_count": null,
      "outputs": [
        {
          "output_type": "execute_result",
          "data": {
            "text/html": [
              "\n",
              "  <div id=\"df-0f14ab6a-8190-45a7-bc8f-db41d00f16c6\">\n",
              "    <div class=\"colab-df-container\">\n",
              "      <div>\n",
              "<style scoped>\n",
              "    .dataframe tbody tr th:only-of-type {\n",
              "        vertical-align: middle;\n",
              "    }\n",
              "\n",
              "    .dataframe tbody tr th {\n",
              "        vertical-align: top;\n",
              "    }\n",
              "\n",
              "    .dataframe thead th {\n",
              "        text-align: right;\n",
              "    }\n",
              "</style>\n",
              "<table border=\"1\" class=\"dataframe\">\n",
              "  <thead>\n",
              "    <tr style=\"text-align: right;\">\n",
              "      <th></th>\n",
              "      <th>min</th>\n",
              "      <th>q25</th>\n",
              "      <th>q50</th>\n",
              "      <th>q75</th>\n",
              "      <th>max</th>\n",
              "      <th>mean</th>\n",
              "      <th>range</th>\n",
              "      <th>std</th>\n",
              "      <th>skew</th>\n",
              "      <th>kurt</th>\n",
              "    </tr>\n",
              "  </thead>\n",
              "  <tbody>\n",
              "    <tr>\n",
              "      <th>CH06</th>\n",
              "      <td>17.0</td>\n",
              "      <td>30.0</td>\n",
              "      <td>39.0</td>\n",
              "      <td>49.0</td>\n",
              "      <td>83.0</td>\n",
              "      <td>40.005788</td>\n",
              "      <td>66.0</td>\n",
              "      <td>12.137375</td>\n",
              "      <td>0.266150</td>\n",
              "      <td>-0.713115</td>\n",
              "    </tr>\n",
              "    <tr>\n",
              "      <th>PP3E_TOT</th>\n",
              "      <td>0.0</td>\n",
              "      <td>24.0</td>\n",
              "      <td>35.0</td>\n",
              "      <td>45.0</td>\n",
              "      <td>140.0</td>\n",
              "      <td>33.523956</td>\n",
              "      <td>140.0</td>\n",
              "      <td>16.830412</td>\n",
              "      <td>0.029587</td>\n",
              "      <td>0.566228</td>\n",
              "    </tr>\n",
              "    <tr>\n",
              "      <th>P21</th>\n",
              "      <td>0.0</td>\n",
              "      <td>20000.0</td>\n",
              "      <td>35000.0</td>\n",
              "      <td>53000.0</td>\n",
              "      <td>800000.0</td>\n",
              "      <td>41245.167783</td>\n",
              "      <td>800000.0</td>\n",
              "      <td>33042.701787</td>\n",
              "      <td>3.536326</td>\n",
              "      <td>38.262597</td>\n",
              "    </tr>\n",
              "  </tbody>\n",
              "</table>\n",
              "</div>\n",
              "      <button class=\"colab-df-convert\" onclick=\"convertToInteractive('df-0f14ab6a-8190-45a7-bc8f-db41d00f16c6')\"\n",
              "              title=\"Convert this dataframe to an interactive table.\"\n",
              "              style=\"display:none;\">\n",
              "        \n",
              "  <svg xmlns=\"http://www.w3.org/2000/svg\" height=\"24px\"viewBox=\"0 0 24 24\"\n",
              "       width=\"24px\">\n",
              "    <path d=\"M0 0h24v24H0V0z\" fill=\"none\"/>\n",
              "    <path d=\"M18.56 5.44l.94 2.06.94-2.06 2.06-.94-2.06-.94-.94-2.06-.94 2.06-2.06.94zm-11 1L8.5 8.5l.94-2.06 2.06-.94-2.06-.94L8.5 2.5l-.94 2.06-2.06.94zm10 10l.94 2.06.94-2.06 2.06-.94-2.06-.94-.94-2.06-.94 2.06-2.06.94z\"/><path d=\"M17.41 7.96l-1.37-1.37c-.4-.4-.92-.59-1.43-.59-.52 0-1.04.2-1.43.59L10.3 9.45l-7.72 7.72c-.78.78-.78 2.05 0 2.83L4 21.41c.39.39.9.59 1.41.59.51 0 1.02-.2 1.41-.59l7.78-7.78 2.81-2.81c.8-.78.8-2.07 0-2.86zM5.41 20L4 18.59l7.72-7.72 1.47 1.35L5.41 20z\"/>\n",
              "  </svg>\n",
              "      </button>\n",
              "      \n",
              "  <style>\n",
              "    .colab-df-container {\n",
              "      display:flex;\n",
              "      flex-wrap:wrap;\n",
              "      gap: 12px;\n",
              "    }\n",
              "\n",
              "    .colab-df-convert {\n",
              "      background-color: #E8F0FE;\n",
              "      border: none;\n",
              "      border-radius: 50%;\n",
              "      cursor: pointer;\n",
              "      display: none;\n",
              "      fill: #1967D2;\n",
              "      height: 32px;\n",
              "      padding: 0 0 0 0;\n",
              "      width: 32px;\n",
              "    }\n",
              "\n",
              "    .colab-df-convert:hover {\n",
              "      background-color: #E2EBFA;\n",
              "      box-shadow: 0px 1px 2px rgba(60, 64, 67, 0.3), 0px 1px 3px 1px rgba(60, 64, 67, 0.15);\n",
              "      fill: #174EA6;\n",
              "    }\n",
              "\n",
              "    [theme=dark] .colab-df-convert {\n",
              "      background-color: #3B4455;\n",
              "      fill: #D2E3FC;\n",
              "    }\n",
              "\n",
              "    [theme=dark] .colab-df-convert:hover {\n",
              "      background-color: #434B5C;\n",
              "      box-shadow: 0px 1px 3px 1px rgba(0, 0, 0, 0.15);\n",
              "      filter: drop-shadow(0px 1px 2px rgba(0, 0, 0, 0.3));\n",
              "      fill: #FFFFFF;\n",
              "    }\n",
              "  </style>\n",
              "\n",
              "      <script>\n",
              "        const buttonEl =\n",
              "          document.querySelector('#df-0f14ab6a-8190-45a7-bc8f-db41d00f16c6 button.colab-df-convert');\n",
              "        buttonEl.style.display =\n",
              "          google.colab.kernel.accessAllowed ? 'block' : 'none';\n",
              "\n",
              "        async function convertToInteractive(key) {\n",
              "          const element = document.querySelector('#df-0f14ab6a-8190-45a7-bc8f-db41d00f16c6');\n",
              "          const dataTable =\n",
              "            await google.colab.kernel.invokeFunction('convertToInteractive',\n",
              "                                                     [key], {});\n",
              "          if (!dataTable) return;\n",
              "\n",
              "          const docLinkHtml = 'Like what you see? Visit the ' +\n",
              "            '<a target=\"_blank\" href=https://colab.research.google.com/notebooks/data_table.ipynb>data table notebook</a>'\n",
              "            + ' to learn more about interactive tables.';\n",
              "          element.innerHTML = '';\n",
              "          dataTable['output_type'] = 'display_data';\n",
              "          await google.colab.output.renderOutput(dataTable, element);\n",
              "          const docLink = document.createElement('div');\n",
              "          docLink.innerHTML = docLinkHtml;\n",
              "          element.appendChild(docLink);\n",
              "        }\n",
              "      </script>\n",
              "    </div>\n",
              "  </div>\n",
              "  "
            ],
            "text/plain": [
              "           min      q25      q50  ...           std      skew       kurt\n",
              "CH06      17.0     30.0     39.0  ...     12.137375  0.266150  -0.713115\n",
              "PP3E_TOT   0.0     24.0     35.0  ...     16.830412  0.029587   0.566228\n",
              "P21        0.0  20000.0  35000.0  ...  33042.701787  3.536326  38.262597\n",
              "\n",
              "[3 rows x 10 columns]"
            ]
          },
          "metadata": {},
          "execution_count": 23
        }
      ]
    },
    {
      "cell_type": "code",
      "source": [
        "tabla_descr = df_final[['CH04','NIVEL_ED','CH07']].copy()\n",
        "tabla_descr['CH04'] = tabla_descr.CH04.map({1:'Hombre',2:'Mujer'})\n",
        "tabla_descr['CH07'] = tabla_descr.CH07.map({1:'unido/a',2:'casado/a',3:'sep. o div.',\n",
        "                                            4:'viudo/a',5:'soltero/a'})\n",
        "tabla_descr.rename(columns={'CH04':'Sexo','NIVEL_ED':'Nivel educ.','CH07':'Estado civil'}, inplace=True)\n",
        "\n",
        "tabla_descr.describe(include='O').T"
      ],
      "metadata": {
        "colab": {
          "base_uri": "https://localhost:8080/",
          "height": 143
        },
        "id": "XWxhyLXB5vr4",
        "outputId": "dc0d635b-af9a-4578-fdcd-d4c98d148c00"
      },
      "execution_count": null,
      "outputs": [
        {
          "output_type": "execute_result",
          "data": {
            "text/html": [
              "\n",
              "  <div id=\"df-6679e210-b866-4655-bda0-5281e2a111d8\">\n",
              "    <div class=\"colab-df-container\">\n",
              "      <div>\n",
              "<style scoped>\n",
              "    .dataframe tbody tr th:only-of-type {\n",
              "        vertical-align: middle;\n",
              "    }\n",
              "\n",
              "    .dataframe tbody tr th {\n",
              "        vertical-align: top;\n",
              "    }\n",
              "\n",
              "    .dataframe thead th {\n",
              "        text-align: right;\n",
              "    }\n",
              "</style>\n",
              "<table border=\"1\" class=\"dataframe\">\n",
              "  <thead>\n",
              "    <tr style=\"text-align: right;\">\n",
              "      <th></th>\n",
              "      <th>count</th>\n",
              "      <th>unique</th>\n",
              "      <th>top</th>\n",
              "      <th>freq</th>\n",
              "    </tr>\n",
              "  </thead>\n",
              "  <tbody>\n",
              "    <tr>\n",
              "      <th>Sexo</th>\n",
              "      <td>12093</td>\n",
              "      <td>2</td>\n",
              "      <td>Hombre</td>\n",
              "      <td>6477</td>\n",
              "    </tr>\n",
              "    <tr>\n",
              "      <th>Nivel educ.</th>\n",
              "      <td>12093</td>\n",
              "      <td>6</td>\n",
              "      <td>secundaria compl.</td>\n",
              "      <td>3768</td>\n",
              "    </tr>\n",
              "    <tr>\n",
              "      <th>Estado civil</th>\n",
              "      <td>12093</td>\n",
              "      <td>5</td>\n",
              "      <td>soltero/a</td>\n",
              "      <td>4028</td>\n",
              "    </tr>\n",
              "  </tbody>\n",
              "</table>\n",
              "</div>\n",
              "      <button class=\"colab-df-convert\" onclick=\"convertToInteractive('df-6679e210-b866-4655-bda0-5281e2a111d8')\"\n",
              "              title=\"Convert this dataframe to an interactive table.\"\n",
              "              style=\"display:none;\">\n",
              "        \n",
              "  <svg xmlns=\"http://www.w3.org/2000/svg\" height=\"24px\"viewBox=\"0 0 24 24\"\n",
              "       width=\"24px\">\n",
              "    <path d=\"M0 0h24v24H0V0z\" fill=\"none\"/>\n",
              "    <path d=\"M18.56 5.44l.94 2.06.94-2.06 2.06-.94-2.06-.94-.94-2.06-.94 2.06-2.06.94zm-11 1L8.5 8.5l.94-2.06 2.06-.94-2.06-.94L8.5 2.5l-.94 2.06-2.06.94zm10 10l.94 2.06.94-2.06 2.06-.94-2.06-.94-.94-2.06-.94 2.06-2.06.94z\"/><path d=\"M17.41 7.96l-1.37-1.37c-.4-.4-.92-.59-1.43-.59-.52 0-1.04.2-1.43.59L10.3 9.45l-7.72 7.72c-.78.78-.78 2.05 0 2.83L4 21.41c.39.39.9.59 1.41.59.51 0 1.02-.2 1.41-.59l7.78-7.78 2.81-2.81c.8-.78.8-2.07 0-2.86zM5.41 20L4 18.59l7.72-7.72 1.47 1.35L5.41 20z\"/>\n",
              "  </svg>\n",
              "      </button>\n",
              "      \n",
              "  <style>\n",
              "    .colab-df-container {\n",
              "      display:flex;\n",
              "      flex-wrap:wrap;\n",
              "      gap: 12px;\n",
              "    }\n",
              "\n",
              "    .colab-df-convert {\n",
              "      background-color: #E8F0FE;\n",
              "      border: none;\n",
              "      border-radius: 50%;\n",
              "      cursor: pointer;\n",
              "      display: none;\n",
              "      fill: #1967D2;\n",
              "      height: 32px;\n",
              "      padding: 0 0 0 0;\n",
              "      width: 32px;\n",
              "    }\n",
              "\n",
              "    .colab-df-convert:hover {\n",
              "      background-color: #E2EBFA;\n",
              "      box-shadow: 0px 1px 2px rgba(60, 64, 67, 0.3), 0px 1px 3px 1px rgba(60, 64, 67, 0.15);\n",
              "      fill: #174EA6;\n",
              "    }\n",
              "\n",
              "    [theme=dark] .colab-df-convert {\n",
              "      background-color: #3B4455;\n",
              "      fill: #D2E3FC;\n",
              "    }\n",
              "\n",
              "    [theme=dark] .colab-df-convert:hover {\n",
              "      background-color: #434B5C;\n",
              "      box-shadow: 0px 1px 3px 1px rgba(0, 0, 0, 0.15);\n",
              "      filter: drop-shadow(0px 1px 2px rgba(0, 0, 0, 0.3));\n",
              "      fill: #FFFFFF;\n",
              "    }\n",
              "  </style>\n",
              "\n",
              "      <script>\n",
              "        const buttonEl =\n",
              "          document.querySelector('#df-6679e210-b866-4655-bda0-5281e2a111d8 button.colab-df-convert');\n",
              "        buttonEl.style.display =\n",
              "          google.colab.kernel.accessAllowed ? 'block' : 'none';\n",
              "\n",
              "        async function convertToInteractive(key) {\n",
              "          const element = document.querySelector('#df-6679e210-b866-4655-bda0-5281e2a111d8');\n",
              "          const dataTable =\n",
              "            await google.colab.kernel.invokeFunction('convertToInteractive',\n",
              "                                                     [key], {});\n",
              "          if (!dataTable) return;\n",
              "\n",
              "          const docLinkHtml = 'Like what you see? Visit the ' +\n",
              "            '<a target=\"_blank\" href=https://colab.research.google.com/notebooks/data_table.ipynb>data table notebook</a>'\n",
              "            + ' to learn more about interactive tables.';\n",
              "          element.innerHTML = '';\n",
              "          dataTable['output_type'] = 'display_data';\n",
              "          await google.colab.output.renderOutput(dataTable, element);\n",
              "          const docLink = document.createElement('div');\n",
              "          docLink.innerHTML = docLinkHtml;\n",
              "          element.appendChild(docLink);\n",
              "        }\n",
              "      </script>\n",
              "    </div>\n",
              "  </div>\n",
              "  "
            ],
            "text/plain": [
              "              count unique                top  freq\n",
              "Sexo          12093      2             Hombre  6477\n",
              "Nivel educ.   12093      6  secundaria compl.  3768\n",
              "Estado civil  12093      5          soltero/a  4028"
            ]
          },
          "metadata": {},
          "execution_count": 24
        }
      ]
    },
    {
      "cell_type": "code",
      "source": [
        "T2 = pd.get_dummies(tabla_descr).applymap(lambda x: np.nan if x == 0 else x).describe().T[['count']]\n",
        "T2.index = ['Hombre','Mujer','Primaria compl.','Primaria incompl.','Secundaria compl.',\n",
        "            'Secundaria incompl.','Univ. compl.','Univ. incompl.','Casado/a','Sep. o div.',\n",
        "            'Soltero/a','Unido/a','Viudo/a']\n",
        "T2['percentage'] = T2/tabla_descr.shape[0]\n",
        "T2"
      ],
      "metadata": {
        "colab": {
          "base_uri": "https://localhost:8080/",
          "height": 457
        },
        "id": "95Yu1iD1jYL0",
        "outputId": "d7556cf6-b93c-4374-8407-068776f035ef"
      },
      "execution_count": null,
      "outputs": [
        {
          "output_type": "execute_result",
          "data": {
            "text/html": [
              "\n",
              "  <div id=\"df-9aa940c3-e005-451b-8e96-382900d02cb5\">\n",
              "    <div class=\"colab-df-container\">\n",
              "      <div>\n",
              "<style scoped>\n",
              "    .dataframe tbody tr th:only-of-type {\n",
              "        vertical-align: middle;\n",
              "    }\n",
              "\n",
              "    .dataframe tbody tr th {\n",
              "        vertical-align: top;\n",
              "    }\n",
              "\n",
              "    .dataframe thead th {\n",
              "        text-align: right;\n",
              "    }\n",
              "</style>\n",
              "<table border=\"1\" class=\"dataframe\">\n",
              "  <thead>\n",
              "    <tr style=\"text-align: right;\">\n",
              "      <th></th>\n",
              "      <th>count</th>\n",
              "      <th>percentage</th>\n",
              "    </tr>\n",
              "  </thead>\n",
              "  <tbody>\n",
              "    <tr>\n",
              "      <th>Hombre</th>\n",
              "      <td>6477.0</td>\n",
              "      <td>0.535599</td>\n",
              "    </tr>\n",
              "    <tr>\n",
              "      <th>Mujer</th>\n",
              "      <td>5616.0</td>\n",
              "      <td>0.464401</td>\n",
              "    </tr>\n",
              "    <tr>\n",
              "      <th>Primaria compl.</th>\n",
              "      <td>1264.0</td>\n",
              "      <td>0.104523</td>\n",
              "    </tr>\n",
              "    <tr>\n",
              "      <th>Primaria incompl.</th>\n",
              "      <td>311.0</td>\n",
              "      <td>0.025717</td>\n",
              "    </tr>\n",
              "    <tr>\n",
              "      <th>Secundaria compl.</th>\n",
              "      <td>3768.0</td>\n",
              "      <td>0.311585</td>\n",
              "    </tr>\n",
              "    <tr>\n",
              "      <th>Secundaria incompl.</th>\n",
              "      <td>1948.0</td>\n",
              "      <td>0.161085</td>\n",
              "    </tr>\n",
              "    <tr>\n",
              "      <th>Univ. compl.</th>\n",
              "      <td>3028.0</td>\n",
              "      <td>0.250393</td>\n",
              "    </tr>\n",
              "    <tr>\n",
              "      <th>Univ. incompl.</th>\n",
              "      <td>1774.0</td>\n",
              "      <td>0.146696</td>\n",
              "    </tr>\n",
              "    <tr>\n",
              "      <th>Casado/a</th>\n",
              "      <td>3264.0</td>\n",
              "      <td>0.269908</td>\n",
              "    </tr>\n",
              "    <tr>\n",
              "      <th>Sep. o div.</th>\n",
              "      <td>1131.0</td>\n",
              "      <td>0.093525</td>\n",
              "    </tr>\n",
              "    <tr>\n",
              "      <th>Soltero/a</th>\n",
              "      <td>4028.0</td>\n",
              "      <td>0.333085</td>\n",
              "    </tr>\n",
              "    <tr>\n",
              "      <th>Unido/a</th>\n",
              "      <td>3457.0</td>\n",
              "      <td>0.285868</td>\n",
              "    </tr>\n",
              "    <tr>\n",
              "      <th>Viudo/a</th>\n",
              "      <td>213.0</td>\n",
              "      <td>0.017613</td>\n",
              "    </tr>\n",
              "  </tbody>\n",
              "</table>\n",
              "</div>\n",
              "      <button class=\"colab-df-convert\" onclick=\"convertToInteractive('df-9aa940c3-e005-451b-8e96-382900d02cb5')\"\n",
              "              title=\"Convert this dataframe to an interactive table.\"\n",
              "              style=\"display:none;\">\n",
              "        \n",
              "  <svg xmlns=\"http://www.w3.org/2000/svg\" height=\"24px\"viewBox=\"0 0 24 24\"\n",
              "       width=\"24px\">\n",
              "    <path d=\"M0 0h24v24H0V0z\" fill=\"none\"/>\n",
              "    <path d=\"M18.56 5.44l.94 2.06.94-2.06 2.06-.94-2.06-.94-.94-2.06-.94 2.06-2.06.94zm-11 1L8.5 8.5l.94-2.06 2.06-.94-2.06-.94L8.5 2.5l-.94 2.06-2.06.94zm10 10l.94 2.06.94-2.06 2.06-.94-2.06-.94-.94-2.06-.94 2.06-2.06.94z\"/><path d=\"M17.41 7.96l-1.37-1.37c-.4-.4-.92-.59-1.43-.59-.52 0-1.04.2-1.43.59L10.3 9.45l-7.72 7.72c-.78.78-.78 2.05 0 2.83L4 21.41c.39.39.9.59 1.41.59.51 0 1.02-.2 1.41-.59l7.78-7.78 2.81-2.81c.8-.78.8-2.07 0-2.86zM5.41 20L4 18.59l7.72-7.72 1.47 1.35L5.41 20z\"/>\n",
              "  </svg>\n",
              "      </button>\n",
              "      \n",
              "  <style>\n",
              "    .colab-df-container {\n",
              "      display:flex;\n",
              "      flex-wrap:wrap;\n",
              "      gap: 12px;\n",
              "    }\n",
              "\n",
              "    .colab-df-convert {\n",
              "      background-color: #E8F0FE;\n",
              "      border: none;\n",
              "      border-radius: 50%;\n",
              "      cursor: pointer;\n",
              "      display: none;\n",
              "      fill: #1967D2;\n",
              "      height: 32px;\n",
              "      padding: 0 0 0 0;\n",
              "      width: 32px;\n",
              "    }\n",
              "\n",
              "    .colab-df-convert:hover {\n",
              "      background-color: #E2EBFA;\n",
              "      box-shadow: 0px 1px 2px rgba(60, 64, 67, 0.3), 0px 1px 3px 1px rgba(60, 64, 67, 0.15);\n",
              "      fill: #174EA6;\n",
              "    }\n",
              "\n",
              "    [theme=dark] .colab-df-convert {\n",
              "      background-color: #3B4455;\n",
              "      fill: #D2E3FC;\n",
              "    }\n",
              "\n",
              "    [theme=dark] .colab-df-convert:hover {\n",
              "      background-color: #434B5C;\n",
              "      box-shadow: 0px 1px 3px 1px rgba(0, 0, 0, 0.15);\n",
              "      filter: drop-shadow(0px 1px 2px rgba(0, 0, 0, 0.3));\n",
              "      fill: #FFFFFF;\n",
              "    }\n",
              "  </style>\n",
              "\n",
              "      <script>\n",
              "        const buttonEl =\n",
              "          document.querySelector('#df-9aa940c3-e005-451b-8e96-382900d02cb5 button.colab-df-convert');\n",
              "        buttonEl.style.display =\n",
              "          google.colab.kernel.accessAllowed ? 'block' : 'none';\n",
              "\n",
              "        async function convertToInteractive(key) {\n",
              "          const element = document.querySelector('#df-9aa940c3-e005-451b-8e96-382900d02cb5');\n",
              "          const dataTable =\n",
              "            await google.colab.kernel.invokeFunction('convertToInteractive',\n",
              "                                                     [key], {});\n",
              "          if (!dataTable) return;\n",
              "\n",
              "          const docLinkHtml = 'Like what you see? Visit the ' +\n",
              "            '<a target=\"_blank\" href=https://colab.research.google.com/notebooks/data_table.ipynb>data table notebook</a>'\n",
              "            + ' to learn more about interactive tables.';\n",
              "          element.innerHTML = '';\n",
              "          dataTable['output_type'] = 'display_data';\n",
              "          await google.colab.output.renderOutput(dataTable, element);\n",
              "          const docLink = document.createElement('div');\n",
              "          docLink.innerHTML = docLinkHtml;\n",
              "          element.appendChild(docLink);\n",
              "        }\n",
              "      </script>\n",
              "    </div>\n",
              "  </div>\n",
              "  "
            ],
            "text/plain": [
              "                      count  percentage\n",
              "Hombre               6477.0    0.535599\n",
              "Mujer                5616.0    0.464401\n",
              "Primaria compl.      1264.0    0.104523\n",
              "Primaria incompl.     311.0    0.025717\n",
              "Secundaria compl.    3768.0    0.311585\n",
              "Secundaria incompl.  1948.0    0.161085\n",
              "Univ. compl.         3028.0    0.250393\n",
              "Univ. incompl.       1774.0    0.146696\n",
              "Casado/a             3264.0    0.269908\n",
              "Sep. o div.          1131.0    0.093525\n",
              "Soltero/a            4028.0    0.333085\n",
              "Unido/a              3457.0    0.285868\n",
              "Viudo/a               213.0    0.017613"
            ]
          },
          "metadata": {},
          "execution_count": 25
        }
      ]
    },
    {
      "cell_type": "markdown",
      "source": [
        "**Método Heckman para control de sesgo de selección de la muestra**\n",
        "\n",
        "https://m-clark.github.io/models-by-example/heckman-selection.html#two-step-approach\n",
        "\n",
        "https://github.com/statsmodels/statsmodels/blob/92ea62232fd63c7b60c60bee4517ab3711d906e3/statsmodels/regression/heckman.py\n",
        "\n",
        "https://www.econometrics-with-r.org/11-2-palr.html"
      ],
      "metadata": {
        "id": "syELWL-wAb_u"
      }
    },
    {
      "cell_type": "markdown",
      "source": [
        "***Paso 1 - Probit para obtener \"inverse Mills ratio\"***"
      ],
      "metadata": {
        "id": "4ZN-nxNzwlsT"
      }
    },
    {
      "cell_type": "code",
      "source": [
        "df['observed'] = np.where((df.ESTADO == 1) & (df.CAT_OCUP == 3), 1, 0)"
      ],
      "metadata": {
        "id": "39nedLo_guBY"
      },
      "execution_count": null,
      "outputs": []
    },
    {
      "cell_type": "code",
      "source": [
        "selection_df = df[['CH04','CH06','CH07','NIVEL_ED','PP3E_TOT','observed']].copy()\n",
        "\n",
        "selection_df['CH04'] = selection_df.CH04.map({1:'Hombre',2:'Mujer'})\n",
        "selection_df['CH07'] = selection_df.CH07.map({1:'unido',2:'casado',3:'sep./div.',4:'viudo/a',5:'soltero/a',9:'no contesta'})\n",
        "selection_df['NIVEL_ED'] = selection_df.NIVEL_ED.map({1:'Primario incompleto',2:'primario completo',3:'Secundario incompleto',4:'secundario completo',\n",
        "                           5:'Superior universitario incompleto',6:'Superior universitario completo',7:'Sin instrucción',\n",
        "                           9:'Ns/ Nr'})\n",
        "selection_df['PP3E_TOT'] = selection_df.PP3E_TOT.fillna(0)"
      ],
      "metadata": {
        "id": "kqNg44dPj_sH"
      },
      "execution_count": null,
      "outputs": []
    },
    {
      "cell_type": "code",
      "source": [
        "selection_df_muj = selection_df[selection_df.CH04 == 'Mujer'].drop('CH04', axis=1)\n",
        "selection_df_homb = selection_df[selection_df.CH04 == 'Hombre'].drop('CH04', axis=1)"
      ],
      "metadata": {
        "id": "1i7cJJ6Ci5Nk"
      },
      "execution_count": null,
      "outputs": []
    },
    {
      "cell_type": "code",
      "source": [
        "X_muj = sm.add_constant(pd.concat([pd.get_dummies(selection_df_muj.drop(['observed','PP3E_TOT','CH06'], axis=1)), selection_df_muj[['CH06','PP3E_TOT']]], axis=1))\n",
        "X_homb = sm.add_constant(pd.concat([pd.get_dummies(selection_df_homb.drop(['observed','PP3E_TOT','CH06'], axis=1)), selection_df_homb[['CH06','PP3E_TOT']]], axis=1))\n",
        "\n",
        "X_muj['sqr_CH06'] = X_muj.CH06**2\n",
        "X_homb['sqr_CH06'] = X_homb.CH06**2\n",
        "\n",
        "X_muj.drop(['CH07_soltero/a','NIVEL_ED_Primario incompleto'], axis=1, inplace=True)\n",
        "X_homb.drop(['CH07_soltero/a','NIVEL_ED_Primario incompleto'], axis=1, inplace=True)"
      ],
      "metadata": {
        "id": "zU-KRYb9XHJo"
      },
      "execution_count": null,
      "outputs": []
    },
    {
      "cell_type": "markdown",
      "source": [
        "*Modelo para cálcular la probabilidad de ser empleado asalariado*"
      ],
      "metadata": {
        "id": "2Npc6mOOcME_"
      }
    },
    {
      "cell_type": "code",
      "source": [
        "probit_model_muj = sm.Probit(endog=selection_df_muj.observed, exog=X_muj).fit()\n",
        "print(probit_model_muj.summary())"
      ],
      "metadata": {
        "colab": {
          "base_uri": "https://localhost:8080/"
        },
        "id": "vEyWvmhvTe0X",
        "outputId": "3aa0b2ec-daf3-4760-e286-df197f5de206"
      },
      "execution_count": null,
      "outputs": [
        {
          "output_type": "stream",
          "name": "stdout",
          "text": [
            "Optimization terminated successfully.\n",
            "         Current function value: 0.321326\n",
            "         Iterations 26\n",
            "                          Probit Regression Results                           \n",
            "==============================================================================\n",
            "Dep. Variable:               observed   No. Observations:                24483\n",
            "Model:                         Probit   Df Residuals:                    24468\n",
            "Method:                           MLE   Df Model:                           14\n",
            "Date:                Fri, 18 Feb 2022   Pseudo R-squ.:                  0.4414\n",
            "Time:                        09:33:14   Log-Likelihood:                -7867.0\n",
            "converged:                       True   LL-Null:                       -14084.\n",
            "Covariance Type:            nonrobust   LLR p-value:                     0.000\n",
            "==============================================================================================================\n",
            "                                                 coef    std err          z      P>|z|      [0.025      0.975]\n",
            "--------------------------------------------------------------------------------------------------------------\n",
            "const                                         -4.1252      0.101    -40.753      0.000      -4.324      -3.927\n",
            "CH07_casado                                   -0.3504      0.035    -10.102      0.000      -0.418      -0.282\n",
            "CH07_no contesta                              -9.7581   3.62e+11  -2.69e-11      1.000    -7.1e+11     7.1e+11\n",
            "CH07_sep./div.                                 0.0943      0.043      2.186      0.029       0.010       0.179\n",
            "CH07_unido                                    -0.2120      0.032     -6.589      0.000      -0.275      -0.149\n",
            "CH07_viudo/a                                  -0.0729      0.064     -1.132      0.258      -0.199       0.053\n",
            "NIVEL_ED_Secundario incompleto                 0.1749      0.064      2.744      0.006       0.050       0.300\n",
            "NIVEL_ED_Sin instrucción                      -0.2709      0.201     -1.348      0.178      -0.665       0.123\n",
            "NIVEL_ED_Superior universitario completo       0.7512      0.063     11.971      0.000       0.628       0.874\n",
            "NIVEL_ED_Superior universitario incompleto     0.3739      0.064      5.876      0.000       0.249       0.499\n",
            "NIVEL_ED_primario completo                     0.1842      0.067      2.747      0.006       0.053       0.316\n",
            "NIVEL_ED_secundario completo                   0.3737      0.062      6.046      0.000       0.253       0.495\n",
            "CH06                                           0.1567      0.005     32.882      0.000       0.147       0.166\n",
            "PP3E_TOT                                       0.0354      0.001     57.337      0.000       0.034       0.037\n",
            "sqr_CH06                                      -0.0018   5.48e-05    -33.342      0.000      -0.002      -0.002\n",
            "==============================================================================================================\n"
          ]
        }
      ]
    },
    {
      "cell_type": "code",
      "source": [
        "probit_model_homb = sm.Probit(endog=selection_df_homb.observed, exog=X_homb).fit()\n",
        "print(probit_model_homb.summary())"
      ],
      "metadata": {
        "colab": {
          "base_uri": "https://localhost:8080/"
        },
        "id": "xnVQzf3tcAw8",
        "outputId": "6297b324-f5c4-487e-8d8c-a39b22cf1b05"
      },
      "execution_count": null,
      "outputs": [
        {
          "output_type": "stream",
          "name": "stdout",
          "text": [
            "Warning: Maximum number of iterations has been exceeded.\n",
            "         Current function value: 0.373306\n",
            "         Iterations: 35\n",
            "                          Probit Regression Results                           \n",
            "==============================================================================\n",
            "Dep. Variable:               observed   No. Observations:                22602\n",
            "Model:                         Probit   Df Residuals:                    22587\n",
            "Method:                           MLE   Df Model:                           14\n",
            "Date:                Fri, 18 Feb 2022   Pseudo R-squ.:                  0.4147\n",
            "Time:                        09:33:15   Log-Likelihood:                -8437.5\n",
            "converged:                      False   LL-Null:                       -14415.\n",
            "Covariance Type:            nonrobust   LLR p-value:                     0.000\n",
            "==============================================================================================================\n",
            "                                                 coef    std err          z      P>|z|      [0.025      0.975]\n",
            "--------------------------------------------------------------------------------------------------------------\n",
            "const                                         -3.4573      0.082    -42.319      0.000      -3.617      -3.297\n",
            "CH07_casado                                    0.1380      0.036      3.881      0.000       0.068       0.208\n",
            "CH07_no contesta                              -5.0925   1.55e+04     -0.000      1.000   -3.05e+04    3.05e+04\n",
            "CH07_sep./div.                                 0.0342      0.055      0.622      0.534      -0.073       0.142\n",
            "CH07_unido                                     0.1240      0.031      3.957      0.000       0.063       0.185\n",
            "CH07_viudo/a                                   0.1559      0.109      1.426      0.154      -0.058       0.370\n",
            "NIVEL_ED_Secundario incompleto                 0.2989      0.054      5.577      0.000       0.194       0.404\n",
            "NIVEL_ED_Sin instrucción                       0.0790      0.142      0.557      0.578      -0.199       0.357\n",
            "NIVEL_ED_Superior universitario completo       0.6647      0.058     11.522      0.000       0.552       0.778\n",
            "NIVEL_ED_Superior universitario incompleto     0.4221      0.057      7.353      0.000       0.310       0.535\n",
            "NIVEL_ED_primario completo                     0.3318      0.058      5.698      0.000       0.218       0.446\n",
            "NIVEL_ED_secundario completo                   0.5403      0.054     10.047      0.000       0.435       0.646\n",
            "CH06                                           0.1230      0.004     29.294      0.000       0.115       0.131\n",
            "PP3E_TOT                                       0.0286      0.000     68.969      0.000       0.028       0.029\n",
            "sqr_CH06                                      -0.0015   4.92e-05    -31.388      0.000      -0.002      -0.001\n",
            "==============================================================================================================\n"
          ]
        }
      ]
    },
    {
      "cell_type": "code",
      "source": [
        "selection_df_muj['mills_ratio'] = norm.pdf(probit_model_muj.fittedvalues)/norm.cdf(probit_model_muj.fittedvalues)\n",
        "selection_df_homb['mills_ratio'] = norm.pdf(probit_model_homb.fittedvalues)/norm.cdf(probit_model_homb.fittedvalues)"
      ],
      "metadata": {
        "id": "BBx6gQqShUVx"
      },
      "execution_count": null,
      "outputs": []
    },
    {
      "cell_type": "code",
      "source": [
        "obs_index_homb = selection_df_homb.observed == 1\n",
        "obs_index_muj = selection_df_muj.observed == 1\n",
        "\n",
        "df_homb = selection_df_homb[obs_index_homb].copy()\n",
        "df_muj = selection_df_muj[obs_index_muj].copy()"
      ],
      "metadata": {
        "id": "m5xUqGEBx2ji"
      },
      "execution_count": null,
      "outputs": []
    },
    {
      "cell_type": "markdown",
      "source": [
        "***Paso 2 - Regresión Logistica***"
      ],
      "metadata": {
        "id": "bA-C28FM3MNU"
      }
    },
    {
      "cell_type": "code",
      "source": [
        "df_final_homb = df_final[df_final.CH04 == 1].join(df_homb.mills_ratio)\n",
        "df_final_muj = df_final[df_final.CH04 == 2].join(df_muj.mills_ratio)"
      ],
      "metadata": {
        "id": "nnNv5QSw322d"
      },
      "execution_count": null,
      "outputs": []
    },
    {
      "cell_type": "code",
      "source": [
        "df_final_homb['sqr_CH06'] = df_final_homb.CH06**2\n",
        "df_final_muj['sqr_CH06'] = df_final_muj.CH06**2"
      ],
      "metadata": {
        "id": "fjrYZ1ShzwY7"
      },
      "execution_count": null,
      "outputs": []
    },
    {
      "cell_type": "code",
      "source": [
        "# Variables explicativas hombres\n",
        "X_log_homb = df_final_homb[['CH06','sqr_CH06','NIVEL_ED','PP3E_TOT','mills_ratio']].copy()\n",
        "\n",
        "# Variables explicativas mujeres\n",
        "X_log_muj = df_final_muj[['CH06','sqr_CH06','NIVEL_ED','PP3E_TOT','mills_ratio']].copy()\n",
        "\n",
        "# Variables dependientes hombres y mujeres\n",
        "y_log_hom = df_final_homb.can_basica.copy()\n",
        "y_log_muj = df_final_muj.can_basica.copy()"
      ],
      "metadata": {
        "id": "aCgRwCbDAfpM"
      },
      "execution_count": null,
      "outputs": []
    },
    {
      "cell_type": "markdown",
      "source": [
        "*Hombre*"
      ],
      "metadata": {
        "id": "3GhcOcJhunXx"
      }
    },
    {
      "cell_type": "code",
      "source": [
        "t_model_homb_1 = sm.Logit(y_log_hom, sm.add_constant(pd.get_dummies(X_log_homb['NIVEL_ED']).drop(['primaria inc.'], axis=1).join(X_log_homb['mills_ratio']))).fit()\n",
        "print(t_model_homb_1.summary())"
      ],
      "metadata": {
        "colab": {
          "base_uri": "https://localhost:8080/"
        },
        "id": "1u_Jxiq_twtE",
        "outputId": "83830e1a-f385-4fa0-e8b9-d82da978a413"
      },
      "execution_count": null,
      "outputs": [
        {
          "output_type": "stream",
          "name": "stdout",
          "text": [
            "Optimization terminated successfully.\n",
            "         Current function value: 0.476494\n",
            "         Iterations 7\n",
            "                           Logit Regression Results                           \n",
            "==============================================================================\n",
            "Dep. Variable:             can_basica   No. Observations:                 6477\n",
            "Model:                          Logit   Df Residuals:                     6470\n",
            "Method:                           MLE   Df Model:                            6\n",
            "Date:                Fri, 18 Feb 2022   Pseudo R-squ.:                  0.1046\n",
            "Time:                        09:33:15   Log-Likelihood:                -3086.3\n",
            "converged:                       True   LL-Null:                       -3446.7\n",
            "Covariance Type:            nonrobust   LLR p-value:                1.876e-152\n",
            "=======================================================================================\n",
            "                          coef    std err          z      P>|z|      [0.025      0.975]\n",
            "---------------------------------------------------------------------------------------\n",
            "const                  -1.8277      0.173    -10.579      0.000      -2.166      -1.489\n",
            "primaria compl.        -0.2492      0.172     -1.450      0.147      -0.586       0.088\n",
            "secundaria compl.      -0.5738      0.163     -3.512      0.000      -0.894      -0.254\n",
            "secundaria incompl.    -0.1665      0.164     -1.013      0.311      -0.489       0.156\n",
            "univ. compl.           -1.7029      0.191     -8.910      0.000      -2.077      -1.328\n",
            "univ. incompl.         -0.5587      0.175     -3.200      0.001      -0.901      -0.216\n",
            "mills_ratio             1.7071      0.091     18.786      0.000       1.529       1.885\n",
            "=======================================================================================\n"
          ]
        }
      ]
    },
    {
      "cell_type": "code",
      "source": [
        "t_model_homb_2 = sm.Logit(y_log_hom, sm.add_constant(pd.get_dummies(X_log_homb['NIVEL_ED']).drop(['primaria inc.'], axis=1).join(X_log_homb[['CH06','sqr_CH06','PP3E_TOT','mills_ratio']]))).fit()\n",
        "print(t_model_homb_2.summary())"
      ],
      "metadata": {
        "id": "mLnZwE_OAf_8",
        "colab": {
          "base_uri": "https://localhost:8080/"
        },
        "outputId": "431f8d7a-2d28-4c5e-c4f1-a2eb624a34a8"
      },
      "execution_count": null,
      "outputs": [
        {
          "output_type": "stream",
          "name": "stdout",
          "text": [
            "Optimization terminated successfully.\n",
            "         Current function value: 0.425876\n",
            "         Iterations 7\n",
            "                           Logit Regression Results                           \n",
            "==============================================================================\n",
            "Dep. Variable:             can_basica   No. Observations:                 6477\n",
            "Model:                          Logit   Df Residuals:                     6467\n",
            "Method:                           MLE   Df Model:                            9\n",
            "Date:                Fri, 18 Feb 2022   Pseudo R-squ.:                  0.1997\n",
            "Time:                        09:33:15   Log-Likelihood:                -2758.4\n",
            "converged:                       True   LL-Null:                       -3446.7\n",
            "Covariance Type:            nonrobust   LLR p-value:                8.770e-291\n",
            "=======================================================================================\n",
            "                          coef    std err          z      P>|z|      [0.025      0.975]\n",
            "---------------------------------------------------------------------------------------\n",
            "const                   0.4865      1.670      0.291      0.771      -2.786       3.759\n",
            "primaria compl.        -0.1152      0.215     -0.537      0.591      -0.536       0.306\n",
            "secundaria compl.      -0.9235      0.243     -3.796      0.000      -1.400      -0.447\n",
            "secundaria incompl.    -0.6590      0.203     -3.244      0.001      -1.057      -0.261\n",
            "univ. compl.           -1.7316      0.290     -5.972      0.000      -2.300      -1.163\n",
            "univ. incompl.         -1.0650      0.230     -4.626      0.000      -1.516      -0.614\n",
            "CH06                   -0.0465      0.048     -0.978      0.328      -0.140       0.047\n",
            "sqr_CH06               -0.0003      0.001     -0.503      0.615      -0.001       0.001\n",
            "PP3E_TOT               -0.0029      0.009     -0.311      0.756      -0.022       0.016\n",
            "mills_ratio             2.0843      0.548      3.802      0.000       1.010       3.159\n",
            "=======================================================================================\n"
          ]
        }
      ]
    },
    {
      "cell_type": "markdown",
      "source": [
        "*Mujer*"
      ],
      "metadata": {
        "id": "oMOfLz_IuqLl"
      }
    },
    {
      "cell_type": "code",
      "source": [
        "t_model_muj_1 = sm.Logit(y_log_muj, sm.add_constant(pd.get_dummies(X_log_muj['NIVEL_ED']).drop(['primaria inc.'], axis=1).join(X_log_muj['mills_ratio']))).fit()\n",
        "print(t_model_muj_1.summary())"
      ],
      "metadata": {
        "colab": {
          "base_uri": "https://localhost:8080/"
        },
        "id": "PxDmtZi7usxk",
        "outputId": "9b06b6fd-281b-492a-a358-1ae322de2b04"
      },
      "execution_count": null,
      "outputs": [
        {
          "output_type": "stream",
          "name": "stdout",
          "text": [
            "Optimization terminated successfully.\n",
            "         Current function value: 0.542637\n",
            "         Iterations 6\n",
            "                           Logit Regression Results                           \n",
            "==============================================================================\n",
            "Dep. Variable:             can_basica   No. Observations:                 5616\n",
            "Model:                          Logit   Df Residuals:                     5609\n",
            "Method:                           MLE   Df Model:                            6\n",
            "Date:                Fri, 18 Feb 2022   Pseudo R-squ.:                  0.1890\n",
            "Time:                        09:33:15   Log-Likelihood:                -3047.5\n",
            "converged:                       True   LL-Null:                       -3757.8\n",
            "Covariance Type:            nonrobust   LLR p-value:                7.905e-304\n",
            "=======================================================================================\n",
            "                          coef    std err          z      P>|z|      [0.025      0.975]\n",
            "---------------------------------------------------------------------------------------\n",
            "const                  -0.6804      0.260     -2.614      0.009      -1.191      -0.170\n",
            "primaria compl.         0.0507      0.268      0.189      0.850      -0.475       0.576\n",
            "secundaria compl.      -0.8164      0.252     -3.246      0.001      -1.309      -0.323\n",
            "secundaria incompl.    -0.3483      0.259     -1.346      0.178      -0.855       0.159\n",
            "univ. compl.           -1.9924      0.256     -7.772      0.000      -2.495      -1.490\n",
            "univ. incompl.         -0.9275      0.255     -3.642      0.000      -1.427      -0.428\n",
            "mills_ratio             1.7753      0.089     19.896      0.000       1.600       1.950\n",
            "=======================================================================================\n"
          ]
        }
      ]
    },
    {
      "cell_type": "code",
      "source": [
        "t_model_muj_2 = sm.Logit(y_log_muj, sm.add_constant(pd.get_dummies(X_log_muj['NIVEL_ED']).drop(['primaria inc.'], axis=1).join(X_log_muj[['CH06','sqr_CH06','PP3E_TOT','mills_ratio']]))).fit()\n",
        "print(t_model_muj_2.summary())"
      ],
      "metadata": {
        "id": "DaM_8lC4Dcq6",
        "colab": {
          "base_uri": "https://localhost:8080/"
        },
        "outputId": "a92960a5-312c-4edf-c55e-d6bb3b4e1899"
      },
      "execution_count": null,
      "outputs": [
        {
          "output_type": "stream",
          "name": "stdout",
          "text": [
            "Optimization terminated successfully.\n",
            "         Current function value: 0.501748\n",
            "         Iterations 6\n",
            "                           Logit Regression Results                           \n",
            "==============================================================================\n",
            "Dep. Variable:             can_basica   No. Observations:                 5616\n",
            "Model:                          Logit   Df Residuals:                     5606\n",
            "Method:                           MLE   Df Model:                            9\n",
            "Date:                Fri, 18 Feb 2022   Pseudo R-squ.:                  0.2501\n",
            "Time:                        09:33:15   Log-Likelihood:                -2817.8\n",
            "converged:                       True   LL-Null:                       -3757.8\n",
            "Covariance Type:            nonrobust   LLR p-value:                     0.000\n",
            "=======================================================================================\n",
            "                          coef    std err          z      P>|z|      [0.025      0.975]\n",
            "---------------------------------------------------------------------------------------\n",
            "const                  12.8323      1.119     11.466      0.000      10.639      15.026\n",
            "primaria compl.        -0.4375      0.272     -1.606      0.108      -0.971       0.096\n",
            "secundaria compl.      -2.1517      0.266     -8.088      0.000      -2.673      -1.630\n",
            "secundaria incompl.    -1.2168      0.265     -4.589      0.000      -1.736      -0.697\n",
            "univ. compl.           -4.0158      0.296    -13.585      0.000      -4.595      -3.436\n",
            "univ. incompl.         -2.5228      0.273     -9.239      0.000      -3.058      -1.988\n",
            "CH06                   -0.3242      0.034     -9.659      0.000      -0.390      -0.258\n",
            "sqr_CH06                0.0033      0.000      8.184      0.000       0.002       0.004\n",
            "PP3E_TOT               -0.0856      0.007    -12.571      0.000      -0.099      -0.072\n",
            "mills_ratio            -1.6913      0.305     -5.539      0.000      -2.290      -1.093\n",
            "=======================================================================================\n"
          ]
        }
      ]
    },
    {
      "cell_type": "markdown",
      "source": [
        "*EXTRAS*\n",
        "\n",
        "https://www.statsmodels.org/dev/generated/statsmodels.discrete.discrete_model.LogitResults.get_margeff.html"
      ],
      "metadata": {
        "id": "gX4nEcbONpq4"
      }
    },
    {
      "cell_type": "code",
      "source": [
        "print(t_model_homb_2.get_margeff().summary())"
      ],
      "metadata": {
        "colab": {
          "base_uri": "https://localhost:8080/"
        },
        "id": "DWMJnMxawPki",
        "outputId": "91965b97-411a-4f52-c995-ba578324b224"
      },
      "execution_count": null,
      "outputs": [
        {
          "output_type": "stream",
          "name": "stdout",
          "text": [
            "        Logit Marginal Effects       \n",
            "=====================================\n",
            "Dep. Variable:             can_basica\n",
            "Method:                          dydx\n",
            "At:                           overall\n",
            "=======================================================================================\n",
            "                         dy/dx    std err          z      P>|z|      [0.025      0.975]\n",
            "---------------------------------------------------------------------------------------\n",
            "primaria compl.        -0.0156      0.029     -0.537      0.591      -0.073       0.041\n",
            "secundaria compl.      -0.1250      0.033     -3.807      0.000      -0.189      -0.061\n",
            "secundaria incompl.    -0.0892      0.027     -3.251      0.001      -0.143      -0.035\n",
            "univ. compl.           -0.2344      0.039     -6.004      0.000      -0.311      -0.158\n",
            "univ. incompl.         -0.1441      0.031     -4.647      0.000      -0.205      -0.083\n",
            "CH06                   -0.0063      0.006     -0.978      0.328      -0.019       0.006\n",
            "sqr_CH06            -4.075e-05   8.09e-05     -0.504      0.615      -0.000       0.000\n",
            "PP3E_TOT               -0.0004      0.001     -0.311      0.756      -0.003       0.002\n",
            "mills_ratio             0.2821      0.074      3.821      0.000       0.137       0.427\n",
            "=======================================================================================\n"
          ]
        }
      ]
    },
    {
      "cell_type": "code",
      "source": [
        "print(t_model_muj_2.get_margeff().summary())"
      ],
      "metadata": {
        "colab": {
          "base_uri": "https://localhost:8080/"
        },
        "id": "rF0GWMj71YBV",
        "outputId": "c5df515f-d776-4b99-e787-323b94421d7d"
      },
      "execution_count": null,
      "outputs": [
        {
          "output_type": "stream",
          "name": "stdout",
          "text": [
            "        Logit Marginal Effects       \n",
            "=====================================\n",
            "Dep. Variable:             can_basica\n",
            "Method:                          dydx\n",
            "At:                           overall\n",
            "=======================================================================================\n",
            "                         dy/dx    std err          z      P>|z|      [0.025      0.975]\n",
            "---------------------------------------------------------------------------------------\n",
            "primaria compl.        -0.0726      0.045     -1.607      0.108      -0.161       0.016\n",
            "secundaria compl.      -0.3573      0.043     -8.256      0.000      -0.442      -0.272\n",
            "secundaria incompl.    -0.2020      0.044     -4.618      0.000      -0.288      -0.116\n",
            "univ. compl.           -0.6668      0.046    -14.388      0.000      -0.758      -0.576\n",
            "univ. incompl.         -0.4189      0.044     -9.490      0.000      -0.505      -0.332\n",
            "CH06                   -0.0538      0.005     -9.930      0.000      -0.064      -0.043\n",
            "sqr_CH06                0.0005   6.47e-05      8.344      0.000       0.000       0.001\n",
            "PP3E_TOT               -0.0142      0.001    -13.173      0.000      -0.016      -0.012\n",
            "mills_ratio            -0.2808      0.050     -5.582      0.000      -0.379      -0.182\n",
            "=======================================================================================\n"
          ]
        }
      ]
    }
  ]
}