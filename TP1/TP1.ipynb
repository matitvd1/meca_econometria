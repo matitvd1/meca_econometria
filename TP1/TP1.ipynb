{
  "nbformat": 4,
  "nbformat_minor": 0,
  "metadata": {
    "colab": {
      "name": "TP1.ipynb",
      "provenance": [],
      "collapsed_sections": [
        "5XD4h7ilR38E"
      ]
    },
    "kernelspec": {
      "name": "python3",
      "display_name": "Python 3"
    },
    "language_info": {
      "name": "python"
    }
  },
  "cells": [
    {
      "cell_type": "code",
      "metadata": {
        "id": "M5imtf2B1oyI",
        "colab": {
          "base_uri": "https://localhost:8080/"
        },
        "outputId": "fdd56de4-4284-4c70-e7fb-25414ecc6436"
      },
      "source": [
        "import numpy as np\n",
        "import pandas as pd\n",
        "import matplotlib.pyplot as plt\n",
        "import seaborn as sns\n",
        "import statsmodels.api as sm\n",
        "import scipy.stats as scs\n",
        "import warnings\n",
        "warnings.filterwarnings('ignore')"
      ],
      "execution_count": null,
      "outputs": [
        {
          "output_type": "stream",
          "name": "stderr",
          "text": [
            "/usr/local/lib/python3.7/dist-packages/statsmodels/tools/_testing.py:19: FutureWarning: pandas.util.testing is deprecated. Use the functions in the public API at pandas.testing instead.\n",
            "  import pandas.util.testing as tm\n"
          ]
        }
      ]
    },
    {
      "cell_type": "markdown",
      "metadata": {
        "id": "5XD4h7ilR38E"
      },
      "source": [
        "### Funciones"
      ]
    },
    {
      "cell_type": "markdown",
      "metadata": {
        "id": "irvRD2iBBxxY"
      },
      "source": [
        "*Calculating Elasticity From Regression Equations with Different Functional Forms*\n",
        "\n",
        "https://www.youtube.com/watch?v=73jA1PG9B0Y&t=114s\n",
        "\n",
        "https://medium.com/geekculture/price-elasticity-of-demand-using-linear-regression-in-python-part-2-8adb654328e7\n",
        "\n",
        "https://economipedia.com/definiciones/elasticidad-ingreso-de-la-demanda.html\n",
        "\n",
        "https://www.spcforexcel.com/knowledge/basic-statistics/are-skewness-and-kurtosis-useful-statistics#skewness"
      ]
    },
    {
      "cell_type": "code",
      "metadata": {
        "id": "zYKI8LCX-YOA"
      },
      "source": [
        "# Funciones para cuartiles\n",
        "def q25(x):\n",
        "  return x.quantile(0.25)\n",
        "\n",
        "def q50(x):\n",
        "  return x.quantile(0.5)\n",
        "\n",
        "def q75(x):\n",
        "  return x.quantile(0.75) \n",
        "\n",
        "def range(x):\n",
        "  return x.max() - x.min()"
      ],
      "execution_count": null,
      "outputs": []
    },
    {
      "cell_type": "code",
      "metadata": {
        "id": "bcXD8wxSxpyN"
      },
      "source": [
        "def diagnostico_residuos(resids):\n",
        "  # create placeholder subplots\n",
        "  fig, ((ax1, ax2), (ax3, ax4)) = plt.subplots(2, 2, figsize=(12,6))\n",
        "  r = resids\n",
        "  resids = (r - np.nanmean(r)) / np.nanstd(r)\n",
        "  resids_nonmissing = resids[~(np.isnan(resids))]\n",
        "  # residuals over time\n",
        "  sns.scatterplot(x=np.arange(1, len(resids)+1), y=resids, ax=ax1)\n",
        "  ax1.axhline(0, color='r', linestyle='--')  \n",
        "  ax1.set_title('Residuos Estandarizados')\n",
        "  # distribution of residuals\n",
        "  x_lim = (-1.96 * 2, 1.96 * 2)\n",
        "  r_range = np.linspace(x_lim[0], x_lim[1])\n",
        "  norm_pdf = scs.norm.pdf(r_range)\n",
        "  sns.distplot(resids_nonmissing, hist=True, kde=True,norm_hist=True, ax=ax2)\n",
        "  ax2.plot(r_range, norm_pdf, 'g', lw=2, label='N(0,1)')\n",
        "  ax2.set_title('Distribución de residuales estandarizados')\n",
        "  ax2.set_xlim(x_lim)\n",
        "  ax2.legend()\n",
        "  # Q-Q plot\n",
        "  qq = sm.qqplot(resids_nonmissing, line='s', ax=ax3)\n",
        "  ax3.set_title('Q-Q plot')\n",
        "  # Hide last plot\n",
        "  ax4.axis('off')\n",
        "  fig.tight_layout(pad=2)\n",
        "  return fig"
      ],
      "execution_count": null,
      "outputs": []
    },
    {
      "cell_type": "markdown",
      "metadata": {
        "id": "zJEv80EBRvxt"
      },
      "source": [
        "### Trabajo Práctico N° 1"
      ]
    },
    {
      "cell_type": "code",
      "metadata": {
        "id": "GTOyfkjb0pWB"
      },
      "source": [
        "# Leer archivo formato csv\n",
        "df_tp = pd.read_csv('/content/drive/MyDrive/TP1.csv')"
      ],
      "execution_count": null,
      "outputs": []
    },
    {
      "cell_type": "code",
      "metadata": {
        "id": "DTjR4tYg2m7w"
      },
      "source": [
        "# Eliminar columna observaciones\n",
        "df_tp.drop('observacionest', axis=1, inplace=True)"
      ],
      "execution_count": null,
      "outputs": []
    },
    {
      "cell_type": "code",
      "metadata": {
        "colab": {
          "base_uri": "https://localhost:8080/",
          "height": 202
        },
        "id": "OD38TZss2hZI",
        "outputId": "2a76f12b-5acf-4e29-9ee1-42cbe701f80d"
      },
      "source": [
        "df_tp.head()"
      ],
      "execution_count": null,
      "outputs": [
        {
          "output_type": "execute_result",
          "data": {
            "text/html": [
              "<div>\n",
              "<style scoped>\n",
              "    .dataframe tbody tr th:only-of-type {\n",
              "        vertical-align: middle;\n",
              "    }\n",
              "\n",
              "    .dataframe tbody tr th {\n",
              "        vertical-align: top;\n",
              "    }\n",
              "\n",
              "    .dataframe thead th {\n",
              "        text-align: right;\n",
              "    }\n",
              "</style>\n",
              "<table border=\"1\" class=\"dataframe\">\n",
              "  <thead>\n",
              "    <tr style=\"text-align: right;\">\n",
              "      <th></th>\n",
              "      <th>gastoenalimentosyt</th>\n",
              "      <th>ingresosemanalxt</th>\n",
              "    </tr>\n",
              "  </thead>\n",
              "  <tbody>\n",
              "    <tr>\n",
              "      <th>0</th>\n",
              "      <td>52.250000</td>\n",
              "      <td>258.29999</td>\n",
              "    </tr>\n",
              "    <tr>\n",
              "      <th>1</th>\n",
              "      <td>58.320000</td>\n",
              "      <td>343.10001</td>\n",
              "    </tr>\n",
              "    <tr>\n",
              "      <th>2</th>\n",
              "      <td>81.790001</td>\n",
              "      <td>425.00000</td>\n",
              "    </tr>\n",
              "    <tr>\n",
              "      <th>3</th>\n",
              "      <td>119.900000</td>\n",
              "      <td>467.50000</td>\n",
              "    </tr>\n",
              "    <tr>\n",
              "      <th>4</th>\n",
              "      <td>125.800000</td>\n",
              "      <td>482.89999</td>\n",
              "    </tr>\n",
              "  </tbody>\n",
              "</table>\n",
              "</div>"
            ],
            "text/plain": [
              "   gastoenalimentosyt  ingresosemanalxt\n",
              "0           52.250000         258.29999\n",
              "1           58.320000         343.10001\n",
              "2           81.790001         425.00000\n",
              "3          119.900000         467.50000\n",
              "4          125.800000         482.89999"
            ]
          },
          "metadata": {},
          "execution_count": 6
        }
      ]
    },
    {
      "cell_type": "code",
      "metadata": {
        "colab": {
          "base_uri": "https://localhost:8080/"
        },
        "id": "K3I6ZdII2kxs",
        "outputId": "2176ac42-e07e-49f7-bd90-80ea1ebb19da"
      },
      "source": [
        "# Informacion sobre el dataset\n",
        "df_tp.info()"
      ],
      "execution_count": null,
      "outputs": [
        {
          "output_type": "stream",
          "name": "stdout",
          "text": [
            "<class 'pandas.core.frame.DataFrame'>\n",
            "RangeIndex: 40 entries, 0 to 39\n",
            "Data columns (total 2 columns):\n",
            " #   Column              Non-Null Count  Dtype  \n",
            "---  ------              --------------  -----  \n",
            " 0   gastoenalimentosyt  40 non-null     float64\n",
            " 1   ingresosemanalxt    40 non-null     float64\n",
            "dtypes: float64(2)\n",
            "memory usage: 768.0 bytes\n"
          ]
        }
      ]
    },
    {
      "cell_type": "markdown",
      "metadata": {
        "id": "D41Z5GLb3gMH"
      },
      "source": [
        "En el dataset hay 40 observaciones y 2 columnas sin ningun valor nulo en las variables X e Y"
      ]
    },
    {
      "cell_type": "code",
      "metadata": {
        "colab": {
          "base_uri": "https://localhost:8080/",
          "height": 224
        },
        "id": "1XwRCFLZ21-Z",
        "outputId": "03d37e97-aba9-4244-c2ee-b3a0e04b9b18"
      },
      "source": [
        "fig, axes = plt.subplots(1,2, figsize=(12,3))\n",
        "sns.distplot(df_tp.gastoenalimentosyt, ax= axes[0], kde=False)\n",
        "sns.distplot(df_tp.ingresosemanalxt, ax= axes[1], kde=False)\n",
        "axes[0].axvline(df_tp.gastoenalimentosyt.median(),color='b',linestyle='--',label='Mediana')\n",
        "axes[0].axvline(df_tp.gastoenalimentosyt.mean(),color='r',linestyle='--',label='Media')\n",
        "axes[1].axvline(df_tp.ingresosemanalxt.median(),color='b',linestyle='--',label='Mediana')\n",
        "axes[1].axvline(df_tp.ingresosemanalxt.mean(),color='r',linestyle='--',label='Media')\n",
        "axes[0].legend(loc='upper right')\n",
        "axes[1].legend(loc='upper right')\n",
        "fig.tight_layout()\n",
        "plt.show()"
      ],
      "execution_count": null,
      "outputs": [
        {
          "output_type": "display_data",
          "data": {
            "image/png": "[encoded data removed]",
            "text/plain": [
              "<Figure size 864x216 with 2 Axes>"
            ]
          },
          "metadata": {
            "needs_background": "light"
          }
        }
      ]
    },
    {
      "cell_type": "code",
      "metadata": {
        "colab": {
          "base_uri": "https://localhost:8080/",
          "height": 110
        },
        "id": "_uNSAg8y2yfP",
        "outputId": "3261ad8c-3e7d-4c47-eb06-eef8ca465bf7"
      },
      "source": [
        "# Estadíticas descriptivas de los datos\n",
        "df_tp.agg(['min',q25,q50,q75,'max','mean',range,'std','skew','kurt']).T"
      ],
      "execution_count": null,
      "outputs": [
        {
          "output_type": "execute_result",
          "data": {
            "text/html": [
              "<div>\n",
              "<style scoped>\n",
              "    .dataframe tbody tr th:only-of-type {\n",
              "        vertical-align: middle;\n",
              "    }\n",
              "\n",
              "    .dataframe tbody tr th {\n",
              "        vertical-align: top;\n",
              "    }\n",
              "\n",
              "    .dataframe thead th {\n",
              "        text-align: right;\n",
              "    }\n",
              "</style>\n",
              "<table border=\"1\" class=\"dataframe\">\n",
              "  <thead>\n",
              "    <tr style=\"text-align: right;\">\n",
              "      <th></th>\n",
              "      <th>min</th>\n",
              "      <th>q25</th>\n",
              "      <th>q50</th>\n",
              "      <th>q75</th>\n",
              "      <th>max</th>\n",
              "      <th>mean</th>\n",
              "      <th>range</th>\n",
              "      <th>std</th>\n",
              "      <th>skew</th>\n",
              "      <th>kurt</th>\n",
              "    </tr>\n",
              "  </thead>\n",
              "  <tbody>\n",
              "    <tr>\n",
              "      <th>gastoenalimentosyt</th>\n",
              "      <td>52.25000</td>\n",
              "      <td>100.365000</td>\n",
              "      <td>120.70500</td>\n",
              "      <td>147.685000</td>\n",
              "      <td>269.03</td>\n",
              "      <td>130.313000</td>\n",
              "      <td>216.78000</td>\n",
              "      <td>45.158568</td>\n",
              "      <td>1.075598</td>\n",
              "      <td>1.451209</td>\n",
              "    </tr>\n",
              "    <tr>\n",
              "      <th>ingresosemanalxt</th>\n",
              "      <td>258.29999</td>\n",
              "      <td>560.624987</td>\n",
              "      <td>712.29999</td>\n",
              "      <td>820.274995</td>\n",
              "      <td>1154.60</td>\n",
              "      <td>697.999997</td>\n",
              "      <td>896.30001</td>\n",
              "      <td>198.226948</td>\n",
              "      <td>0.227275</td>\n",
              "      <td>0.150349</td>\n",
              "    </tr>\n",
              "  </tbody>\n",
              "</table>\n",
              "</div>"
            ],
            "text/plain": [
              "                          min         q25  ...      skew      kurt\n",
              "gastoenalimentosyt   52.25000  100.365000  ...  1.075598  1.451209\n",
              "ingresosemanalxt    258.29999  560.624987  ...  0.227275  0.150349\n",
              "\n",
              "[2 rows x 10 columns]"
            ]
          },
          "metadata": {},
          "execution_count": 9
        }
      ]
    },
    {
      "cell_type": "markdown",
      "metadata": {
        "id": "0K9BVnSwVYFH"
      },
      "source": [
        " En las medidas de tendencia central (media y mediana/q50) se puede observar que la media y mediana de la variable dependiente se encuentran separadas siendo la media > mediana y presentando una diferencia de 148.325 y 68.455, valores cálculados como (máximo - mediana) y (mediana - mínimo) respectivamente, ésto significa que el valor máximo de las observaciones se encuentra un poco más que el doble de lejos con respecto a la mediana en comparación al valor mínimo. Éstos son indicios de asimetría positiva. En cambio en la variable independiente las medidas de tendencia central se encuentran casi juntas, como debería ser en una distribución normal. La diferencia entre el valor máximo-mediana y mediana-mínimo es de 442.3 y 454.0 respectivamente, indicando una distribución bastante simétrica.\n",
        "\n",
        " En cuanto a las medidas de dispersión (rango y desviación estándar), las mismas son mayores en la variable exógena que en la endógena.\n",
        "\n",
        " El histograma de 'gastosenalimentosyt' indica que las observaciones de ésta variable tienen bastante asimetría positiva con un valor de 1.075598. La kurtosis tiene un valor de 1.451209 indicando que la distribución es bastante leptocúrtica, distribución muy estrecha con la mayoría de las observaciones concentradas alrededor de la media.\n",
        " \n",
        " Por otro lado, el histograma de 'ingresosemanalxt' los datos parecen tener una distribución que se aproxima a la normal, bastante simétrica. El valor de la asimetría es de 0.227275, casi igual al de un conjunto de datos perfectamente simétricos (asimetría = 0). La kurtosis tiene un valor de 0.150349 indicando que la distribución de los datos se aproxima a la normal (distribución mesocúrtica)."
      ]
    },
    {
      "cell_type": "code",
      "metadata": {
        "colab": {
          "base_uri": "https://localhost:8080/",
          "height": 314
        },
        "id": "1YRMcY0m7xOz",
        "outputId": "f6d6515b-b71b-4df4-c604-60df3604cb8c"
      },
      "source": [
        "slope, intercept, r_value, p_value, std_err = scs.linregress(df_tp.ingresosemanalxt,df_tp.gastoenalimentosyt)\n",
        "plt.figure(figsize=(9,4))\n",
        "plt.title('Diagrama de dispersión', fontsize=14, fontweight=40)\n",
        "sns.regplot(df_tp.ingresosemanalxt, df_tp.gastoenalimentosyt, ci=False, line_kws={'label':\"    Regresión Lineal\\ny = {1:.4f} + {0:.4f} x\".format(slope,intercept)})\n",
        "plt.text(235, 220, f'Correlación: {np.round(df_tp.gastoenalimentosyt.corr(df_tp.ingresosemanalxt), 4)}', style='italic', bbox={'alpha': 0.2, 'pad': 5})\n",
        "plt.legend() "
      ],
      "execution_count": null,
      "outputs": [
        {
          "output_type": "execute_result",
          "data": {
            "text/plain": [
              "<matplotlib.legend.Legend at 0x7fa9141b5f50>"
            ]
          },
          "metadata": {},
          "execution_count": 10
        },
        {
          "output_type": "display_data",
          "data": {
            "image/png": "[encoded data removed]",
            "text/plain": [
              "<Figure size 648x288 with 1 Axes>"
            ]
          },
          "metadata": {
            "needs_background": "light"
          }
        }
      ]
    },
    {
      "cell_type": "markdown",
      "metadata": {
        "id": "R0QTQOfoxWCa"
      },
      "source": [
        "En el gráfico se puede observar que a medida que aumentan los ingresos semanales los consumidores tienden a gastar más plata en alimentos. La correlación de Pearson entre ellas es de 0.5631, reafirmando que hay correlación moderada positiva. Hay una relación lineal entre las variables en cuestión, dicho punto es importante por el supuesto de linearidad entre los datos. Otra observación es que a medida que aumentan los ingresos semanales aumenta la dispersión o rango vertical en los gastos en alimentos, dando lugar a posibles outliers y a que el supuesto de normalidad en la distribución de los datos p(y|x) no se este cumpliendo. Los outliers los podemos verificar con unos diagrama de caja.\n"
      ]
    },
    {
      "cell_type": "code",
      "metadata": {
        "colab": {
          "base_uri": "https://localhost:8080/",
          "height": 328
        },
        "id": "rDtgNaik_XYF",
        "outputId": "f0bf1dd1-dc22-420e-e6b2-c54d25e26095"
      },
      "source": [
        "plt.figure(figsize=(7.5,4.5))\n",
        "df_tp.boxplot(grid=False)\n",
        "plt.title('Diagramas de cajas', fontsize=16, pad=6)"
      ],
      "execution_count": null,
      "outputs": [
        {
          "output_type": "execute_result",
          "data": {
            "text/plain": [
              "Text(0.5, 1.0, 'Diagramas de cajas')"
            ]
          },
          "metadata": {},
          "execution_count": 11
        },
        {
          "output_type": "display_data",
          "data": {
            "image/png": "[encoded data removed]",
            "text/plain": [
              "<Figure size 540x324 with 1 Axes>"
            ]
          },
          "metadata": {
            "needs_background": "light"
          }
        }
      ]
    },
    {
      "cell_type": "markdown",
      "metadata": {
        "id": "5JxKaHzmCWFZ"
      },
      "source": [
        "Efectivamente podemos observar outliers en la variable dependiente (gastos en alimentos). Estas observaciones anormales pueden distorsionar los coeficientes de regresión y limitar la capacidad del modelo para predecir correctamente los casos normales/habituales."
      ]
    },
    {
      "cell_type": "markdown",
      "metadata": {
        "id": "gqckYcQnrxPs"
      },
      "source": [
        "**Regresión Lineal**"
      ]
    },
    {
      "cell_type": "code",
      "metadata": {
        "id": "V5-nnlP07xh3"
      },
      "source": [
        "# Definir variables X y Y\n",
        "Y = df_tp.gastoenalimentosyt.copy()\n",
        "X = df_tp.ingresosemanalxt.copy()\n",
        "X = sm.add_constant(X)"
      ],
      "execution_count": null,
      "outputs": []
    },
    {
      "cell_type": "code",
      "metadata": {
        "colab": {
          "base_uri": "https://localhost:8080/"
        },
        "id": "tips1OZJ7xlp",
        "outputId": "35d80091-1144-4b26-ff65-6a4d135b119d"
      },
      "source": [
        "# Ajustar modelo\n",
        "modelo = sm.OLS(Y,X)\n",
        "resultados = modelo.fit()\n",
        "print(resultados.summary())"
      ],
      "execution_count": null,
      "outputs": [
        {
          "output_type": "stream",
          "name": "stdout",
          "text": [
            "                            OLS Regression Results                            \n",
            "==============================================================================\n",
            "Dep. Variable:     gastoenalimentosyt   R-squared:                       0.317\n",
            "Model:                            OLS   Adj. R-squared:                  0.299\n",
            "Method:                 Least Squares   F-statistic:                     17.65\n",
            "Date:                Fri, 05 Nov 2021   Prob (F-statistic):           0.000155\n",
            "Time:                        19:30:36   Log-Likelihood:                -201.03\n",
            "No. Observations:                  40   AIC:                             406.1\n",
            "Df Residuals:                      38   BIC:                             409.4\n",
            "Df Model:                           1                                         \n",
            "Covariance Type:            nonrobust                                         \n",
            "====================================================================================\n",
            "                       coef    std err          t      P>|t|      [0.025      0.975]\n",
            "------------------------------------------------------------------------------------\n",
            "const               40.7676     22.139      1.841      0.073      -4.050      85.585\n",
            "ingresosemanalxt     0.1283      0.031      4.201      0.000       0.066       0.190\n",
            "==============================================================================\n",
            "Omnibus:                        1.365   Durbin-Watson:                   2.370\n",
            "Prob(Omnibus):                  0.505   Jarque-Bera (JB):                1.077\n",
            "Skew:                           0.397   Prob(JB):                        0.584\n",
            "Kurtosis:                       2.874   Cond. No.                     2.68e+03\n",
            "==============================================================================\n",
            "\n",
            "Warnings:\n",
            "[1] Standard Errors assume that the covariance matrix of the errors is correctly specified.\n",
            "[2] The condition number is large, 2.68e+03. This might indicate that there are\n",
            "strong multicollinearity or other numerical problems.\n"
          ]
        }
      ]
    },
    {
      "cell_type": "markdown",
      "metadata": {
        "id": "rMRj_wKgVcbH"
      },
      "source": [
        "La dirección entre ambas variables es positiva, es decir cuando incrementa en una unidad la variable independiente 'ingresosemanalxt' la variable dependiente 'gastoenalimentosyt' aumenta 0.1283. \n",
        "\n",
        "Cuando la variable predictora incluida en el modelo es igual a 0, el valor de la variable dependiente es igual a 40.7676.\n"
      ]
    },
    {
      "cell_type": "markdown",
      "metadata": {
        "id": "KxS3SzSWvOAz"
      },
      "source": [
        "*Análisis de residuos*"
      ]
    },
    {
      "cell_type": "code",
      "metadata": {
        "colab": {
          "base_uri": "https://localhost:8080/"
        },
        "id": "FgULKTIytmHm",
        "outputId": "a828e844-86a0-4d37-be65-175b9776abe8"
      },
      "source": [
        "# Estadisticas descriptivas\n",
        "resultados.resid.describe()"
      ],
      "execution_count": null,
      "outputs": [
        {
          "output_type": "execute_result",
          "data": {
            "text/plain": [
              "count    4.000000e+01\n",
              "mean     1.350031e-14\n",
              "std      3.731753e+01\n",
              "min     -7.175333e+01\n",
              "25%     -1.966566e+01\n",
              "50%     -5.969406e+00\n",
              "75%      1.775182e+01\n",
              "max      8.014043e+01\n",
              "dtype: float64"
            ]
          },
          "metadata": {},
          "execution_count": 14
        }
      ]
    },
    {
      "cell_type": "code",
      "metadata": {
        "colab": {
          "base_uri": "https://localhost:8080/",
          "height": 441
        },
        "id": "Zimlu3lHzvV6",
        "outputId": "a4987ed2-b567-49f5-e6c5-ffc43d369c0c"
      },
      "source": [
        "# Gráficos de residuos del modelo ajustado\n",
        "plt.figure(figsize=(15,7), dpi=500)\n",
        "diagnostico_residuos(resultados.resid)\n",
        "plt.show()"
      ],
      "execution_count": null,
      "outputs": [
        {
          "output_type": "display_data",
          "data": {
            "text/plain": [
              "<Figure size 7500x3500 with 0 Axes>"
            ]
          },
          "metadata": {}
        },
        {
          "output_type": "display_data",
          "data": {
            "image/png": "[encoded data removed]",
            "text/plain": [
              "<Figure size 864x432 with 4 Axes>"
            ]
          },
          "metadata": {
            "needs_background": "light"
          }
        }
      ]
    },
    {
      "cell_type": "markdown",
      "metadata": {
        "id": "nc8m3t-ijPkJ"
      },
      "source": [
        "En el gráfico de *Q-Q plot* y el de *Distribución de residuales estandarizados* pareciera que la distribución de los residuales se aproxima a una normal, aún así podemos ver en ellos que hay asimetría positiva. En el Q-Q plot los residuales, aproximadamente a partir del cuantil 1, se desvían por encima de la distribución normal teórica (línea roja); mientras que en el histograma hay residuos que se situan por encima de +2 desviaciones estandar llegando a superar el 95.4% de los demás residuos.\n",
        "\n",
        "En el gráfico de los *Residuos Estandarizados* vemos que para cada observación de la muestra aumenta la varianza de los residuos a medida que aumentan los valores en X, presentando aparentemente heterocedasticidad."
      ]
    },
    {
      "cell_type": "markdown",
      "metadata": {
        "id": "oVL8UwWXPXFv"
      },
      "source": [
        "*Prueba de heterocedasticidad - Glejser test*\n",
        "\n",
        "H0 = La homocedasticidad está presente en el modelo de regresión\n",
        "\n",
        "Ha = La heteroscedasticidad está presente en el modelo de regresión "
      ]
    },
    {
      "cell_type": "code",
      "metadata": {
        "colab": {
          "base_uri": "https://localhost:8080/"
        },
        "id": "q4BnEgkE7lMp",
        "outputId": "79d873c3-1473-4031-9841-83c71e86c9b1"
      },
      "source": [
        "# Glejser Test\n",
        "glejser_test_lr = sm.OLS(abs(resultados.resid), sm.add_constant(resultados.fittedvalues))\n",
        "glejser_test_rtdo = glejser_test_lr.fit()\n",
        "print(glejser_test_rtdo.summary())"
      ],
      "execution_count": null,
      "outputs": [
        {
          "output_type": "stream",
          "name": "stdout",
          "text": [
            "                            OLS Regression Results                            \n",
            "==============================================================================\n",
            "Dep. Variable:                      y   R-squared:                       0.267\n",
            "Model:                            OLS   Adj. R-squared:                  0.248\n",
            "Method:                 Least Squares   F-statistic:                     13.84\n",
            "Date:                Fri, 05 Nov 2021   Prob (F-statistic):           0.000642\n",
            "Time:                        19:30:37   Log-Likelihood:                -176.26\n",
            "No. Observations:                  40   AIC:                             356.5\n",
            "Df Residuals:                      38   BIC:                             359.9\n",
            "Df Model:                           1                                         \n",
            "Covariance Type:            nonrobust                                         \n",
            "==============================================================================\n",
            "                 coef    std err          t      P>|t|      [0.025      0.975]\n",
            "------------------------------------------------------------------------------\n",
            "const        -33.4680     17.006     -1.968      0.056     -67.895       0.959\n",
            "0              0.4767      0.128      3.720      0.001       0.217       0.736\n",
            "==============================================================================\n",
            "Omnibus:                        1.231   Durbin-Watson:                   2.025\n",
            "Prob(Omnibus):                  0.540   Jarque-Bera (JB):                1.219\n",
            "Skew:                           0.372   Prob(JB):                        0.544\n",
            "Kurtosis:                       2.580   Cond. No.                         701.\n",
            "==============================================================================\n",
            "\n",
            "Warnings:\n",
            "[1] Standard Errors assume that the covariance matrix of the errors is correctly specified.\n"
          ]
        }
      ]
    },
    {
      "cell_type": "code",
      "metadata": {
        "colab": {
          "base_uri": "https://localhost:8080/",
          "height": 300
        },
        "id": "h4RSfCuyW5DI",
        "outputId": "e0f5398b-96f3-4314-fbd1-e7bbf7db06cf"
      },
      "source": [
        "sns.regplot(resultados.fittedvalues, abs(resultados.resid), ci=False)\n",
        "plt.xlabel('y_hat (ŷ)', fontsize=12)\n",
        "plt.ylabel('residuos absolutos (|e|)', fontsize=12)"
      ],
      "execution_count": null,
      "outputs": [
        {
          "output_type": "execute_result",
          "data": {
            "text/plain": [
              "Text(0, 0.5, 'residuos absolutos (|e|)')"
            ]
          },
          "metadata": {},
          "execution_count": 17
        },
        {
          "output_type": "display_data",
          "data": {
            "image/png": "[encoded data removed]",
            "text/plain": [
              "<Figure size 432x288 with 1 Axes>"
            ]
          },
          "metadata": {
            "needs_background": "light"
          }
        }
      ]
    },
    {
      "cell_type": "markdown",
      "metadata": {
        "id": "NrxFwkdrWMan"
      },
      "source": [
        "Luego de estimar una regresión entre los 'valores absolutos de los residuales' y los 'Y sombrero', hacemos una prueba de significancia sobre el coeficiente de la pendiente. Dado que p < 0.05 rechazamos H0, esto significa que la tendencia observada no se explica por casualidad bajo un modelo homocedástico. "
      ]
    },
    {
      "cell_type": "markdown",
      "metadata": {
        "id": "Sxx2UlX0Khr3"
      },
      "source": [
        "*Prueba de heterocedasticidad - Breush Pagan*\n",
        "\n",
        "H0 = La homocedasticidad está presente en el modelo de regresión\n",
        "\n",
        "Ha = La heteroscedasticidad está presente en el modelo de regresión "
      ]
    },
    {
      "cell_type": "code",
      "metadata": {
        "colab": {
          "base_uri": "https://localhost:8080/"
        },
        "id": "jS5sTyA37lRT",
        "outputId": "bf1f6e67-8112-40c6-a539-e4916843cd8a"
      },
      "source": [
        "# Breush Pagan Test\n",
        "name = [\"Lagrange multiplier statistic\", \"p-value\", \"f-value\", \"f p-value\"]\n",
        "test = sm.stats.diagnostic.het_breuschpagan(resultados.resid, resultados.model.exog)\n",
        "list(zip(name, test))[1]"
      ],
      "execution_count": null,
      "outputs": [
        {
          "output_type": "execute_result",
          "data": {
            "text/plain": [
              "('p-value', 0.0005196176486209507)"
            ]
          },
          "metadata": {},
          "execution_count": 18
        }
      ]
    },
    {
      "cell_type": "markdown",
      "metadata": {
        "id": "jFG0Ed-ELmcg"
      },
      "source": [
        "Dado que p < 0.05 rechazamos la hipótesis nula, por lo tanto asumimos que los residuos no se distribuyen con varianza constante. Hay heteroscedasticidad en el modelo de regresión."
      ]
    },
    {
      "cell_type": "markdown",
      "metadata": {
        "id": "SzMibboMY6H3"
      },
      "source": [
        "**Análisis de los resultados de salida de la regresión Minimos Cuadrados Ordinarios**"
      ]
    },
    {
      "cell_type": "markdown",
      "metadata": {
        "id": "VJC-vz5maJx6"
      },
      "source": [
        "* ***R-squared:*** el 31.7% de la varianza de gastoenalimentosyt es capturada por ingresosemanalxt.\n",
        "* ***Prob (F-statistic):*** Al ser p(F) < 0.05 rechazamos la hipótesis nula de que todos los coeficientes de la regresión sean igual a 0, es decir que ningún beta esté relacionado con Y.  \n",
        "* ***std err:*** Al ser el error standard 0.031, la verdadera pendiente de ingresosemanalxt se encuentra entre [0.1283 - 2.0227 * 0.031 < Beta < 0.1283 + 2.0227 * 0.031] (intevalo de confianza), lo que indica que hay una relación positiva entre las variables en estudio.\n",
        "* ***P>|t|:*** al ser p < 0.05 para el predictor 'ingresosemanalxt', rechazamos la hipótesis nula de que el coeficiente sea igual a 0. Es decir, que es estadítiscamente significativo éste parametro en nuestro modelo de regresión.\n",
        "* ***Intervalo de confianza:*** Con un nivel de confianza del 95.0%, el rango razonable para nuestro parámetro de 'ingresosemanalxt' es entre 0.066 y 0.190, el valor 0 para nuestro beta no se encuentra dentro del intervalo de confianza. "
      ]
    },
    {
      "cell_type": "markdown",
      "metadata": {
        "id": "4v--s8POTkh8"
      },
      "source": [
        "**Valores estimados y residuos**"
      ]
    },
    {
      "cell_type": "code",
      "metadata": {
        "colab": {
          "base_uri": "https://localhost:8080/",
          "height": 1000
        },
        "id": "WyJoKPNWTkCN",
        "outputId": "6c2b8224-7e2d-4871-e55c-824b9a78a14e"
      },
      "source": [
        "rtdos_reg = pd.concat([df_tp.gastoenalimentosyt ,resultados.fittedvalues, resultados.resid], axis=1).set_index(np.arange(1,41)).rename({0:'y_sombrero',1:'residuos'}, axis=1)\n",
        "rtdos_reg.index.name = 'Observaciones'\n",
        "rtdos_reg"
      ],
      "execution_count": null,
      "outputs": [
        {
          "output_type": "execute_result",
          "data": {
            "text/html": [
              "<div>\n",
              "<style scoped>\n",
              "    .dataframe tbody tr th:only-of-type {\n",
              "        vertical-align: middle;\n",
              "    }\n",
              "\n",
              "    .dataframe tbody tr th {\n",
              "        vertical-align: top;\n",
              "    }\n",
              "\n",
              "    .dataframe thead th {\n",
              "        text-align: right;\n",
              "    }\n",
              "</style>\n",
              "<table border=\"1\" class=\"dataframe\">\n",
              "  <thead>\n",
              "    <tr style=\"text-align: right;\">\n",
              "      <th></th>\n",
              "      <th>gastoenalimentosyt</th>\n",
              "      <th>y_sombrero</th>\n",
              "      <th>residuos</th>\n",
              "    </tr>\n",
              "    <tr>\n",
              "      <th>Observaciones</th>\n",
              "      <th></th>\n",
              "      <th></th>\n",
              "      <th></th>\n",
              "    </tr>\n",
              "  </thead>\n",
              "  <tbody>\n",
              "    <tr>\n",
              "      <th>1</th>\n",
              "      <td>52.250000</td>\n",
              "      <td>73.904503</td>\n",
              "      <td>-21.654503</td>\n",
              "    </tr>\n",
              "    <tr>\n",
              "      <th>2</th>\n",
              "      <td>58.320000</td>\n",
              "      <td>84.783379</td>\n",
              "      <td>-26.463379</td>\n",
              "    </tr>\n",
              "    <tr>\n",
              "      <th>3</th>\n",
              "      <td>81.790001</td>\n",
              "      <td>95.290213</td>\n",
              "      <td>-13.500212</td>\n",
              "    </tr>\n",
              "    <tr>\n",
              "      <th>4</th>\n",
              "      <td>119.900000</td>\n",
              "      <td>100.742479</td>\n",
              "      <td>19.157521</td>\n",
              "    </tr>\n",
              "    <tr>\n",
              "      <th>5</th>\n",
              "      <td>125.800000</td>\n",
              "      <td>102.718122</td>\n",
              "      <td>23.081878</td>\n",
              "    </tr>\n",
              "    <tr>\n",
              "      <th>6</th>\n",
              "      <td>100.460000</td>\n",
              "      <td>103.333910</td>\n",
              "      <td>-2.873910</td>\n",
              "    </tr>\n",
              "    <tr>\n",
              "      <th>7</th>\n",
              "      <td>121.510000</td>\n",
              "      <td>104.462848</td>\n",
              "      <td>17.047152</td>\n",
              "    </tr>\n",
              "    <tr>\n",
              "      <th>8</th>\n",
              "      <td>100.080000</td>\n",
              "      <td>107.400659</td>\n",
              "      <td>-7.320659</td>\n",
              "    </tr>\n",
              "    <tr>\n",
              "      <th>9</th>\n",
              "      <td>127.750000</td>\n",
              "      <td>110.466753</td>\n",
              "      <td>17.283247</td>\n",
              "    </tr>\n",
              "    <tr>\n",
              "      <th>10</th>\n",
              "      <td>104.940000</td>\n",
              "      <td>111.159514</td>\n",
              "      <td>-6.219514</td>\n",
              "    </tr>\n",
              "    <tr>\n",
              "      <th>11</th>\n",
              "      <td>107.480000</td>\n",
              "      <td>113.199299</td>\n",
              "      <td>-5.719299</td>\n",
              "    </tr>\n",
              "    <tr>\n",
              "      <th>12</th>\n",
              "      <td>98.480003</td>\n",
              "      <td>116.239740</td>\n",
              "      <td>-17.759737</td>\n",
              "    </tr>\n",
              "    <tr>\n",
              "      <th>13</th>\n",
              "      <td>181.210010</td>\n",
              "      <td>116.624606</td>\n",
              "      <td>64.585404</td>\n",
              "    </tr>\n",
              "    <tr>\n",
              "      <th>14</th>\n",
              "      <td>122.230000</td>\n",
              "      <td>118.677223</td>\n",
              "      <td>3.552777</td>\n",
              "    </tr>\n",
              "    <tr>\n",
              "      <th>15</th>\n",
              "      <td>129.570010</td>\n",
              "      <td>119.177551</td>\n",
              "      <td>10.392459</td>\n",
              "    </tr>\n",
              "    <tr>\n",
              "      <th>16</th>\n",
              "      <td>92.839996</td>\n",
              "      <td>121.717664</td>\n",
              "      <td>-28.877668</td>\n",
              "    </tr>\n",
              "    <tr>\n",
              "      <th>17</th>\n",
              "      <td>117.920000</td>\n",
              "      <td>125.386715</td>\n",
              "      <td>-7.466715</td>\n",
              "    </tr>\n",
              "    <tr>\n",
              "      <th>18</th>\n",
              "      <td>82.129997</td>\n",
              "      <td>125.951188</td>\n",
              "      <td>-43.821191</td>\n",
              "    </tr>\n",
              "    <tr>\n",
              "      <th>19</th>\n",
              "      <td>182.280000</td>\n",
              "      <td>131.108391</td>\n",
              "      <td>51.171609</td>\n",
              "    </tr>\n",
              "    <tr>\n",
              "      <th>20</th>\n",
              "      <td>139.130000</td>\n",
              "      <td>131.185361</td>\n",
              "      <td>7.944639</td>\n",
              "    </tr>\n",
              "    <tr>\n",
              "      <th>21</th>\n",
              "      <td>98.139999</td>\n",
              "      <td>133.109690</td>\n",
              "      <td>-34.969691</td>\n",
              "    </tr>\n",
              "    <tr>\n",
              "      <th>22</th>\n",
              "      <td>123.940000</td>\n",
              "      <td>133.135349</td>\n",
              "      <td>-9.195349</td>\n",
              "    </tr>\n",
              "    <tr>\n",
              "      <th>23</th>\n",
              "      <td>126.310000</td>\n",
              "      <td>133.430412</td>\n",
              "      <td>-7.120412</td>\n",
              "    </tr>\n",
              "    <tr>\n",
              "      <th>24</th>\n",
              "      <td>146.470000</td>\n",
              "      <td>133.430412</td>\n",
              "      <td>13.039588</td>\n",
              "    </tr>\n",
              "    <tr>\n",
              "      <th>25</th>\n",
              "      <td>115.980000</td>\n",
              "      <td>134.982707</td>\n",
              "      <td>-19.002707</td>\n",
              "    </tr>\n",
              "    <tr>\n",
              "      <th>26</th>\n",
              "      <td>207.230000</td>\n",
              "      <td>136.021843</td>\n",
              "      <td>71.208157</td>\n",
              "    </tr>\n",
              "    <tr>\n",
              "      <th>27</th>\n",
              "      <td>119.800000</td>\n",
              "      <td>136.688945</td>\n",
              "      <td>-16.888945</td>\n",
              "    </tr>\n",
              "    <tr>\n",
              "      <th>28</th>\n",
              "      <td>151.330000</td>\n",
              "      <td>138.690244</td>\n",
              "      <td>12.639756</td>\n",
              "    </tr>\n",
              "    <tr>\n",
              "      <th>29</th>\n",
              "      <td>169.509990</td>\n",
              "      <td>144.706982</td>\n",
              "      <td>24.803008</td>\n",
              "    </tr>\n",
              "    <tr>\n",
              "      <th>30</th>\n",
              "      <td>108.030000</td>\n",
              "      <td>145.771776</td>\n",
              "      <td>-37.741776</td>\n",
              "    </tr>\n",
              "    <tr>\n",
              "      <th>31</th>\n",
              "      <td>168.899990</td>\n",
              "      <td>146.682622</td>\n",
              "      <td>22.217368</td>\n",
              "    </tr>\n",
              "    <tr>\n",
              "      <th>32</th>\n",
              "      <td>227.110000</td>\n",
              "      <td>147.670446</td>\n",
              "      <td>79.439554</td>\n",
              "    </tr>\n",
              "    <tr>\n",
              "      <th>33</th>\n",
              "      <td>84.940002</td>\n",
              "      <td>147.760249</td>\n",
              "      <td>-62.820247</td>\n",
              "    </tr>\n",
              "    <tr>\n",
              "      <th>34</th>\n",
              "      <td>98.699997</td>\n",
              "      <td>158.549317</td>\n",
              "      <td>-59.849320</td>\n",
              "    </tr>\n",
              "    <tr>\n",
              "      <th>35</th>\n",
              "      <td>141.060000</td>\n",
              "      <td>158.549317</td>\n",
              "      <td>-17.489317</td>\n",
              "    </tr>\n",
              "    <tr>\n",
              "      <th>36</th>\n",
              "      <td>215.399990</td>\n",
              "      <td>160.024636</td>\n",
              "      <td>55.375354</td>\n",
              "    </tr>\n",
              "    <tr>\n",
              "      <th>37</th>\n",
              "      <td>112.890000</td>\n",
              "      <td>162.859818</td>\n",
              "      <td>-49.969818</td>\n",
              "    </tr>\n",
              "    <tr>\n",
              "      <th>38</th>\n",
              "      <td>166.250000</td>\n",
              "      <td>170.852196</td>\n",
              "      <td>-4.602196</td>\n",
              "    </tr>\n",
              "    <tr>\n",
              "      <th>39</th>\n",
              "      <td>115.430000</td>\n",
              "      <td>187.183335</td>\n",
              "      <td>-71.753335</td>\n",
              "    </tr>\n",
              "    <tr>\n",
              "      <th>40</th>\n",
              "      <td>269.030000</td>\n",
              "      <td>188.889573</td>\n",
              "      <td>80.140427</td>\n",
              "    </tr>\n",
              "  </tbody>\n",
              "</table>\n",
              "</div>"
            ],
            "text/plain": [
              "               gastoenalimentosyt  y_sombrero   residuos\n",
              "Observaciones                                           \n",
              "1                       52.250000   73.904503 -21.654503\n",
              "2                       58.320000   84.783379 -26.463379\n",
              "3                       81.790001   95.290213 -13.500212\n",
              "4                      119.900000  100.742479  19.157521\n",
              "5                      125.800000  102.718122  23.081878\n",
              "6                      100.460000  103.333910  -2.873910\n",
              "7                      121.510000  104.462848  17.047152\n",
              "8                      100.080000  107.400659  -7.320659\n",
              "9                      127.750000  110.466753  17.283247\n",
              "10                     104.940000  111.159514  -6.219514\n",
              "11                     107.480000  113.199299  -5.719299\n",
              "12                      98.480003  116.239740 -17.759737\n",
              "13                     181.210010  116.624606  64.585404\n",
              "14                     122.230000  118.677223   3.552777\n",
              "15                     129.570010  119.177551  10.392459\n",
              "16                      92.839996  121.717664 -28.877668\n",
              "17                     117.920000  125.386715  -7.466715\n",
              "18                      82.129997  125.951188 -43.821191\n",
              "19                     182.280000  131.108391  51.171609\n",
              "20                     139.130000  131.185361   7.944639\n",
              "21                      98.139999  133.109690 -34.969691\n",
              "22                     123.940000  133.135349  -9.195349\n",
              "23                     126.310000  133.430412  -7.120412\n",
              "24                     146.470000  133.430412  13.039588\n",
              "25                     115.980000  134.982707 -19.002707\n",
              "26                     207.230000  136.021843  71.208157\n",
              "27                     119.800000  136.688945 -16.888945\n",
              "28                     151.330000  138.690244  12.639756\n",
              "29                     169.509990  144.706982  24.803008\n",
              "30                     108.030000  145.771776 -37.741776\n",
              "31                     168.899990  146.682622  22.217368\n",
              "32                     227.110000  147.670446  79.439554\n",
              "33                      84.940002  147.760249 -62.820247\n",
              "34                      98.699997  158.549317 -59.849320\n",
              "35                     141.060000  158.549317 -17.489317\n",
              "36                     215.399990  160.024636  55.375354\n",
              "37                     112.890000  162.859818 -49.969818\n",
              "38                     166.250000  170.852196  -4.602196\n",
              "39                     115.430000  187.183335 -71.753335\n",
              "40                     269.030000  188.889573  80.140427"
            ]
          },
          "metadata": {},
          "execution_count": 19
        }
      ]
    },
    {
      "cell_type": "code",
      "metadata": {
        "id": "adrBCyMWHmap"
      },
      "source": [
        "rtdos_reg.to_excel('/content/drive/MyDrive/tabla_1.xlsx')"
      ],
      "execution_count": null,
      "outputs": []
    },
    {
      "cell_type": "code",
      "metadata": {
        "colab": {
          "base_uri": "https://localhost:8080/",
          "height": 35
        },
        "id": "gXL0voLKUlJk",
        "outputId": "827fbcc3-6ebd-47b4-9186-813622d41600"
      },
      "source": [
        "f'La suma de los residuos del modelo es: {resultados.resid.sum()}. El valor se aproxima a 0.'"
      ],
      "execution_count": null,
      "outputs": [
        {
          "output_type": "execute_result",
          "data": {
            "application/vnd.google.colaboratory.intrinsic+json": {
              "type": "string"
            },
            "text/plain": [
              "'La suma de los residuos del modelo es: 5.684341886080801e-13. El valor se aproxima a 0.'"
            ]
          },
          "metadata": {},
          "execution_count": 21
        }
      ]
    },
    {
      "cell_type": "markdown",
      "metadata": {
        "id": "CX5lMuB1DF_W"
      },
      "source": [
        "**Elasticidad ingreso de la demanda**"
      ]
    },
    {
      "cell_type": "code",
      "metadata": {
        "colab": {
          "base_uri": "https://localhost:8080/"
        },
        "id": "upm_RJA17dYI",
        "outputId": "be399e89-bf4a-4fef-badf-fb27ea1862aa"
      },
      "source": [
        "constante, pendiente = resultados.params\n",
        "media_ingreso = np.mean(df_tp.ingresosemanalxt)\n",
        "media_gasto = np.mean(df_tp.gastoenalimentosyt)\n",
        "     \n",
        "# Elasticidad ingreso de la demanda\n",
        "elasticidad = (pendiente)*(media_ingreso/media_gasto) \n",
        "np.round(elasticidad, 4)"
      ],
      "execution_count": null,
      "outputs": [
        {
          "output_type": "execute_result",
          "data": {
            "text/plain": [
              "0.6872"
            ]
          },
          "metadata": {},
          "execution_count": 22
        }
      ]
    },
    {
      "cell_type": "markdown",
      "metadata": {
        "id": "i0QYnQdjZ1vX"
      },
      "source": [
        "La elasticidad ingreso de la demanda es: 0.6872%. A partir de éste valor podemos\n",
        "deducir que estamos ante un bien normal ya que el valor obtenido es positivo y no supera la unidad.\n",
        "\n",
        " Éste valor indica que ante un incremento del 1% en los ingresos semanales, el\n",
        "gasto en alimentos aumenta un 0.6872 %"
      ]
    },
    {
      "cell_type": "markdown",
      "metadata": {
        "id": "B-BDgGpMZmT5"
      },
      "source": [
        "**Estimación del gasto en alimentos de un consumidor que gana $750 por semana**"
      ]
    },
    {
      "cell_type": "code",
      "metadata": {
        "colab": {
          "base_uri": "https://localhost:8080/"
        },
        "id": "JO4XiX4_EfTl",
        "outputId": "0e34a084-769d-4136-ec81-2df8efe1e19b"
      },
      "source": [
        "y = constante + pendiente * 750\n",
        "np.round(y, 4)"
      ],
      "execution_count": null,
      "outputs": [
        {
          "output_type": "execute_result",
          "data": {
            "text/plain": [
              "136.984"
            ]
          },
          "metadata": {},
          "execution_count": 23
        }
      ]
    },
    {
      "cell_type": "code",
      "metadata": {
        "id": "FnJ1js31HcRK"
      },
      "source": [
        ""
      ],
      "execution_count": null,
      "outputs": []
    }
  ]
}