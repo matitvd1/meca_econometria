{
  "nbformat": 4,
  "nbformat_minor": 0,
  "metadata": {
    "colab": {
      "name": "TP2.ipynb",
      "provenance": [],
      "collapsed_sections": []
    },
    "kernelspec": {
      "name": "python3",
      "display_name": "Python 3"
    },
    "language_info": {
      "name": "python"
    }
  },
  "cells": [
    {
      "cell_type": "code",
      "metadata": {
        "id": "M9ehZVK1c_2Y",
        "colab": {
          "base_uri": "https://localhost:8080/"
        },
        "outputId": "ea3736a6-f382-4262-fdda-9279da1ed18e"
      },
      "source": [
        "import pandas as pd\n",
        "import numpy as np\n",
        "import matplotlib.pyplot as plt\n",
        "import seaborn as sns\n",
        "import statsmodels.api as sm\n",
        "\n",
        "import statsmodels.formula.api as smf\n",
        "import warnings\n",
        "import scipy.stats as scs\n",
        "\n",
        "warnings.filterwarnings('ignore')"
      ],
      "execution_count": 1,
      "outputs": [
        {
          "output_type": "stream",
          "name": "stderr",
          "text": [
            "/usr/local/lib/python3.7/dist-packages/statsmodels/tools/_testing.py:19: FutureWarning: pandas.util.testing is deprecated. Use the functions in the public API at pandas.testing instead.\n",
            "  import pandas.util.testing as tm\n"
          ]
        }
      ]
    },
    {
      "cell_type": "code",
      "metadata": {
        "id": "Kkd0PFzpe8Jj"
      },
      "source": [
        "def q25(x):\n",
        "  return x.quantile(0.25)\n",
        "\n",
        "def q50(x):\n",
        "  return x.quantile(0.5)\n",
        "\n",
        "def q75(x):\n",
        "  return x.quantile(0.75)\n",
        "\n",
        "def range(x):\n",
        "  return x.max() - x.min()  "
      ],
      "execution_count": 2,
      "outputs": []
    },
    {
      "cell_type": "code",
      "metadata": {
        "id": "985h81rw7AV4"
      },
      "source": [
        "def diagnostico_residuos(resids):\n",
        "  # create placeholder subplots\n",
        "  fig, ((ax1, ax2), (ax3, ax4)) = plt.subplots(2, 2, figsize=(12,6))\n",
        "  r = resids\n",
        "  resids = (r - np.nanmean(r)) / np.nanstd(r)\n",
        "  resids_nonmissing = resids[~(np.isnan(resids))]\n",
        "  # residuals over time\n",
        "  sns.scatterplot(x=np.arange(1, len(resids)+1), y=resids, ax=ax1)\n",
        "  ax1.axhline(0, color='r', linestyle='--')  \n",
        "  ax1.set_title('Residuos Estandarizados')\n",
        "  # distribution of residuals\n",
        "  x_lim = (-1.96 * 2, 1.96 * 2)\n",
        "  r_range = np.linspace(x_lim[0], x_lim[1])\n",
        "  norm_pdf = scs.norm.pdf(r_range)\n",
        "  sns.distplot(resids_nonmissing, hist=True, kde=True,norm_hist=True, ax=ax2)\n",
        "  ax2.plot(r_range, norm_pdf, 'g', lw=2, label='N(0,1)')\n",
        "  ax2.set_title('Distribución de residuales estandarizados')\n",
        "  ax2.set_xlim(x_lim)\n",
        "  ax2.legend()\n",
        "  # Q-Q plot\n",
        "  qq = sm.qqplot(resids_nonmissing, line='s', ax=ax3)\n",
        "  ax3.set_title('Q-Q plot')\n",
        "  # Hide last plot\n",
        "  ax4.axis('off')\n",
        "  fig.tight_layout(pad=2)\n",
        "  return fig"
      ],
      "execution_count": 3,
      "outputs": []
    },
    {
      "cell_type": "code",
      "metadata": {
        "id": "GnXrk11RdYmh"
      },
      "source": [
        "df_tp = pd.read_csv('/content/drive/MyDrive/TP2.csv')"
      ],
      "execution_count": 4,
      "outputs": []
    },
    {
      "cell_type": "markdown",
      "metadata": {
        "id": "ZMHmDzm0myBD"
      },
      "source": [
        "Nombre -\tEtiqueta\n",
        "\n",
        "price -\tPrecio mediano\n",
        "\n",
        "crime -\tCrímenes per capita\n",
        "\n",
        "nox -\tPolución (cada 100 m)\n",
        "\n",
        "rooms -\tNúmero de habitaciones\n",
        "\n",
        "dist - Distancia zonas productivas\n",
        "\n",
        "radial - Conectividad\n",
        "\n",
        "proptax -\tImpuestos\n",
        "\n",
        "stratio -\tRazón alumno/profesor\n",
        "\n",
        "lowstat -\tPorcentaje de personas de “bajo status”\n"
      ]
    },
    {
      "cell_type": "code",
      "metadata": {
        "colab": {
          "base_uri": "https://localhost:8080/",
          "height": 206
        },
        "id": "qDdFqfEzeRPf",
        "outputId": "48565540-2f49-43cc-daed-aa44f9d64250"
      },
      "source": [
        "df_tp.head()"
      ],
      "execution_count": 5,
      "outputs": [
        {
          "output_type": "execute_result",
          "data": {
            "text/plain": [
              "   price  crime   nox  rooms  dist  radial    proptax    stratio  lowstat  \\\n",
              "0  24000  0.006  5.38   6.57  4.09       1  29.600000  15.300000     4.98   \n",
              "1  21599  0.027  4.69   6.42  4.97       2  24.200001  17.799999     9.14   \n",
              "2  34700  0.027  4.69   7.18  4.97       2  24.200001  17.799999     4.03   \n",
              "3  33400  0.032  4.58   7.00  6.06       3  22.200001  18.700001     2.94   \n",
              "4  36199  0.069  4.58   7.15  6.06       3  22.200001  18.700001     5.33   \n",
              "\n",
              "      lprice      lnox  lproptax  \n",
              "0  10.085809  1.682688  5.690360  \n",
              "1   9.980402  1.545433  5.488938  \n",
              "2  10.454495  1.545433  5.488938  \n",
              "3  10.416311  1.521699  5.402678  \n",
              "4  10.496787  1.521699  5.402678  "
            ],
            "text/html": [
              "\n",
              "  <div id=\"df-f7389e56-0d3f-4969-bdf5-86f3ffde24f0\">\n",
              "    <div class=\"colab-df-container\">\n",
              "      <div>\n",
              "<style scoped>\n",
              "    .dataframe tbody tr th:only-of-type {\n",
              "        vertical-align: middle;\n",
              "    }\n",
              "\n",
              "    .dataframe tbody tr th {\n",
              "        vertical-align: top;\n",
              "    }\n",
              "\n",
              "    .dataframe thead th {\n",
              "        text-align: right;\n",
              "    }\n",
              "</style>\n",
              "<table border=\"1\" class=\"dataframe\">\n",
              "  <thead>\n",
              "    <tr style=\"text-align: right;\">\n",
              "      <th></th>\n",
              "      <th>price</th>\n",
              "      <th>crime</th>\n",
              "      <th>nox</th>\n",
              "      <th>rooms</th>\n",
              "      <th>dist</th>\n",
              "      <th>radial</th>\n",
              "      <th>proptax</th>\n",
              "      <th>stratio</th>\n",
              "      <th>lowstat</th>\n",
              "      <th>lprice</th>\n",
              "      <th>lnox</th>\n",
              "      <th>lproptax</th>\n",
              "    </tr>\n",
              "  </thead>\n",
              "  <tbody>\n",
              "    <tr>\n",
              "      <th>0</th>\n",
              "      <td>24000</td>\n",
              "      <td>0.006</td>\n",
              "      <td>5.38</td>\n",
              "      <td>6.57</td>\n",
              "      <td>4.09</td>\n",
              "      <td>1</td>\n",
              "      <td>29.600000</td>\n",
              "      <td>15.300000</td>\n",
              "      <td>4.98</td>\n",
              "      <td>10.085809</td>\n",
              "      <td>1.682688</td>\n",
              "      <td>5.690360</td>\n",
              "    </tr>\n",
              "    <tr>\n",
              "      <th>1</th>\n",
              "      <td>21599</td>\n",
              "      <td>0.027</td>\n",
              "      <td>4.69</td>\n",
              "      <td>6.42</td>\n",
              "      <td>4.97</td>\n",
              "      <td>2</td>\n",
              "      <td>24.200001</td>\n",
              "      <td>17.799999</td>\n",
              "      <td>9.14</td>\n",
              "      <td>9.980402</td>\n",
              "      <td>1.545433</td>\n",
              "      <td>5.488938</td>\n",
              "    </tr>\n",
              "    <tr>\n",
              "      <th>2</th>\n",
              "      <td>34700</td>\n",
              "      <td>0.027</td>\n",
              "      <td>4.69</td>\n",
              "      <td>7.18</td>\n",
              "      <td>4.97</td>\n",
              "      <td>2</td>\n",
              "      <td>24.200001</td>\n",
              "      <td>17.799999</td>\n",
              "      <td>4.03</td>\n",
              "      <td>10.454495</td>\n",
              "      <td>1.545433</td>\n",
              "      <td>5.488938</td>\n",
              "    </tr>\n",
              "    <tr>\n",
              "      <th>3</th>\n",
              "      <td>33400</td>\n",
              "      <td>0.032</td>\n",
              "      <td>4.58</td>\n",
              "      <td>7.00</td>\n",
              "      <td>6.06</td>\n",
              "      <td>3</td>\n",
              "      <td>22.200001</td>\n",
              "      <td>18.700001</td>\n",
              "      <td>2.94</td>\n",
              "      <td>10.416311</td>\n",
              "      <td>1.521699</td>\n",
              "      <td>5.402678</td>\n",
              "    </tr>\n",
              "    <tr>\n",
              "      <th>4</th>\n",
              "      <td>36199</td>\n",
              "      <td>0.069</td>\n",
              "      <td>4.58</td>\n",
              "      <td>7.15</td>\n",
              "      <td>6.06</td>\n",
              "      <td>3</td>\n",
              "      <td>22.200001</td>\n",
              "      <td>18.700001</td>\n",
              "      <td>5.33</td>\n",
              "      <td>10.496787</td>\n",
              "      <td>1.521699</td>\n",
              "      <td>5.402678</td>\n",
              "    </tr>\n",
              "  </tbody>\n",
              "</table>\n",
              "</div>\n",
              "      <button class=\"colab-df-convert\" onclick=\"convertToInteractive('df-f7389e56-0d3f-4969-bdf5-86f3ffde24f0')\"\n",
              "              title=\"Convert this dataframe to an interactive table.\"\n",
              "              style=\"display:none;\">\n",
              "        \n",
              "  <svg xmlns=\"http://www.w3.org/2000/svg\" height=\"24px\"viewBox=\"0 0 24 24\"\n",
              "       width=\"24px\">\n",
              "    <path d=\"M0 0h24v24H0V0z\" fill=\"none\"/>\n",
              "    <path d=\"M18.56 5.44l.94 2.06.94-2.06 2.06-.94-2.06-.94-.94-2.06-.94 2.06-2.06.94zm-11 1L8.5 8.5l.94-2.06 2.06-.94-2.06-.94L8.5 2.5l-.94 2.06-2.06.94zm10 10l.94 2.06.94-2.06 2.06-.94-2.06-.94-.94-2.06-.94 2.06-2.06.94z\"/><path d=\"M17.41 7.96l-1.37-1.37c-.4-.4-.92-.59-1.43-.59-.52 0-1.04.2-1.43.59L10.3 9.45l-7.72 7.72c-.78.78-.78 2.05 0 2.83L4 21.41c.39.39.9.59 1.41.59.51 0 1.02-.2 1.41-.59l7.78-7.78 2.81-2.81c.8-.78.8-2.07 0-2.86zM5.41 20L4 18.59l7.72-7.72 1.47 1.35L5.41 20z\"/>\n",
              "  </svg>\n",
              "      </button>\n",
              "      \n",
              "  <style>\n",
              "    .colab-df-container {\n",
              "      display:flex;\n",
              "      flex-wrap:wrap;\n",
              "      gap: 12px;\n",
              "    }\n",
              "\n",
              "    .colab-df-convert {\n",
              "      background-color: #E8F0FE;\n",
              "      border: none;\n",
              "      border-radius: 50%;\n",
              "      cursor: pointer;\n",
              "      display: none;\n",
              "      fill: #1967D2;\n",
              "      height: 32px;\n",
              "      padding: 0 0 0 0;\n",
              "      width: 32px;\n",
              "    }\n",
              "\n",
              "    .colab-df-convert:hover {\n",
              "      background-color: #E2EBFA;\n",
              "      box-shadow: 0px 1px 2px rgba(60, 64, 67, 0.3), 0px 1px 3px 1px rgba(60, 64, 67, 0.15);\n",
              "      fill: #174EA6;\n",
              "    }\n",
              "\n",
              "    [theme=dark] .colab-df-convert {\n",
              "      background-color: #3B4455;\n",
              "      fill: #D2E3FC;\n",
              "    }\n",
              "\n",
              "    [theme=dark] .colab-df-convert:hover {\n",
              "      background-color: #434B5C;\n",
              "      box-shadow: 0px 1px 3px 1px rgba(0, 0, 0, 0.15);\n",
              "      filter: drop-shadow(0px 1px 2px rgba(0, 0, 0, 0.3));\n",
              "      fill: #FFFFFF;\n",
              "    }\n",
              "  </style>\n",
              "\n",
              "      <script>\n",
              "        const buttonEl =\n",
              "          document.querySelector('#df-f7389e56-0d3f-4969-bdf5-86f3ffde24f0 button.colab-df-convert');\n",
              "        buttonEl.style.display =\n",
              "          google.colab.kernel.accessAllowed ? 'block' : 'none';\n",
              "\n",
              "        async function convertToInteractive(key) {\n",
              "          const element = document.querySelector('#df-f7389e56-0d3f-4969-bdf5-86f3ffde24f0');\n",
              "          const dataTable =\n",
              "            await google.colab.kernel.invokeFunction('convertToInteractive',\n",
              "                                                     [key], {});\n",
              "          if (!dataTable) return;\n",
              "\n",
              "          const docLinkHtml = 'Like what you see? Visit the ' +\n",
              "            '<a target=\"_blank\" href=https://colab.research.google.com/notebooks/data_table.ipynb>data table notebook</a>'\n",
              "            + ' to learn more about interactive tables.';\n",
              "          element.innerHTML = '';\n",
              "          dataTable['output_type'] = 'display_data';\n",
              "          await google.colab.output.renderOutput(dataTable, element);\n",
              "          const docLink = document.createElement('div');\n",
              "          docLink.innerHTML = docLinkHtml;\n",
              "          element.appendChild(docLink);\n",
              "        }\n",
              "      </script>\n",
              "    </div>\n",
              "  </div>\n",
              "  "
            ]
          },
          "metadata": {},
          "execution_count": 5
        }
      ]
    },
    {
      "cell_type": "markdown",
      "metadata": {
        "id": "zSVqL23Lt1Fg"
      },
      "source": [
        "**PUNTO 1**"
      ]
    },
    {
      "cell_type": "code",
      "metadata": {
        "colab": {
          "base_uri": "https://localhost:8080/"
        },
        "id": "cVpLbD0yeStu",
        "outputId": "ca886c7b-fcab-4d70-a959-f949266cd197"
      },
      "source": [
        "df_tp.info()"
      ],
      "execution_count": 6,
      "outputs": [
        {
          "output_type": "stream",
          "name": "stdout",
          "text": [
            "<class 'pandas.core.frame.DataFrame'>\n",
            "RangeIndex: 506 entries, 0 to 505\n",
            "Data columns (total 12 columns):\n",
            " #   Column    Non-Null Count  Dtype  \n",
            "---  ------    --------------  -----  \n",
            " 0   price     506 non-null    int64  \n",
            " 1   crime     506 non-null    float64\n",
            " 2   nox       506 non-null    float64\n",
            " 3   rooms     506 non-null    float64\n",
            " 4   dist      506 non-null    float64\n",
            " 5   radial    506 non-null    int64  \n",
            " 6   proptax   506 non-null    float64\n",
            " 7   stratio   506 non-null    float64\n",
            " 8   lowstat   506 non-null    float64\n",
            " 9   lprice    506 non-null    float64\n",
            " 10  lnox      506 non-null    float64\n",
            " 11  lproptax  506 non-null    float64\n",
            "dtypes: float64(10), int64(2)\n",
            "memory usage: 47.6 KB\n"
          ]
        }
      ]
    },
    {
      "cell_type": "markdown",
      "metadata": {
        "id": "6rBEcs_seWPf"
      },
      "source": [
        "En el dataset hay 506 observaciones y 12 columnas sin ningún valor nulo en ellas."
      ]
    },
    {
      "cell_type": "code",
      "metadata": {
        "colab": {
          "base_uri": "https://localhost:8080/",
          "height": 332
        },
        "id": "SLzfIhd3eU23",
        "outputId": "56491c51-0931-4f31-f566-b9ff941a4d30"
      },
      "source": [
        "df_tp.agg(['min', q25, q50, q75, 'max', 'mean',range,'std','skew','kurt']).T.loc[:'lowstat']"
      ],
      "execution_count": 7,
      "outputs": [
        {
          "output_type": "execute_result",
          "data": {
            "text/plain": [
              "                 min         q25         q50           q75           max  \\\n",
              "price    5000.000000  16850.0000  21200.0000  24999.000000  50001.000000   \n",
              "crime       0.006000      0.0820      0.2565      3.677000     88.975998   \n",
              "nox         3.850000      4.4900      5.3800      6.240000      8.710000   \n",
              "rooms       3.560000      5.8825      6.2100      6.620000      8.780000   \n",
              "dist        1.130000      2.1000      3.2100      5.187500     12.130000   \n",
              "radial      1.000000      4.0000      5.0000     24.000000     24.000000   \n",
              "proptax    18.700001     27.9000     33.0000     66.599998     71.099998   \n",
              "stratio    12.600000     17.4000     19.1000     20.200001     22.000000   \n",
              "lowstat     1.730000      6.9225     11.3600     17.057500     39.070000   \n",
              "\n",
              "                 mean         range          std      skew       kurt  \n",
              "price    22511.509881  45001.000000  9208.856171  1.109568   1.485846  \n",
              "crime        3.611536     88.969998     8.590247  5.233601  37.305912  \n",
              "nox          5.549783      4.860000     1.158395  0.724734  -0.069637  \n",
              "rooms        6.284051      5.220000     0.702594  0.404004   1.889982  \n",
              "dist         3.795751     11.000000     2.106137  1.012032   0.487790  \n",
              "radial       9.549407     23.000000     8.707259  1.004815  -0.867232  \n",
              "proptax     40.823715     52.399997    16.853711  0.669956  -1.142408  \n",
              "stratio     18.459289      9.400000     2.165820 -0.806780  -0.282833  \n",
              "lowstat     12.701482     37.340000     7.238066  0.947746   0.640760  "
            ],
            "text/html": [
              "\n",
              "  <div id=\"df-c12c9f4a-afac-4b82-874a-9b55dbdffcbd\">\n",
              "    <div class=\"colab-df-container\">\n",
              "      <div>\n",
              "<style scoped>\n",
              "    .dataframe tbody tr th:only-of-type {\n",
              "        vertical-align: middle;\n",
              "    }\n",
              "\n",
              "    .dataframe tbody tr th {\n",
              "        vertical-align: top;\n",
              "    }\n",
              "\n",
              "    .dataframe thead th {\n",
              "        text-align: right;\n",
              "    }\n",
              "</style>\n",
              "<table border=\"1\" class=\"dataframe\">\n",
              "  <thead>\n",
              "    <tr style=\"text-align: right;\">\n",
              "      <th></th>\n",
              "      <th>min</th>\n",
              "      <th>q25</th>\n",
              "      <th>q50</th>\n",
              "      <th>q75</th>\n",
              "      <th>max</th>\n",
              "      <th>mean</th>\n",
              "      <th>range</th>\n",
              "      <th>std</th>\n",
              "      <th>skew</th>\n",
              "      <th>kurt</th>\n",
              "    </tr>\n",
              "  </thead>\n",
              "  <tbody>\n",
              "    <tr>\n",
              "      <th>price</th>\n",
              "      <td>5000.000000</td>\n",
              "      <td>16850.0000</td>\n",
              "      <td>21200.0000</td>\n",
              "      <td>24999.000000</td>\n",
              "      <td>50001.000000</td>\n",
              "      <td>22511.509881</td>\n",
              "      <td>45001.000000</td>\n",
              "      <td>9208.856171</td>\n",
              "      <td>1.109568</td>\n",
              "      <td>1.485846</td>\n",
              "    </tr>\n",
              "    <tr>\n",
              "      <th>crime</th>\n",
              "      <td>0.006000</td>\n",
              "      <td>0.0820</td>\n",
              "      <td>0.2565</td>\n",
              "      <td>3.677000</td>\n",
              "      <td>88.975998</td>\n",
              "      <td>3.611536</td>\n",
              "      <td>88.969998</td>\n",
              "      <td>8.590247</td>\n",
              "      <td>5.233601</td>\n",
              "      <td>37.305912</td>\n",
              "    </tr>\n",
              "    <tr>\n",
              "      <th>nox</th>\n",
              "      <td>3.850000</td>\n",
              "      <td>4.4900</td>\n",
              "      <td>5.3800</td>\n",
              "      <td>6.240000</td>\n",
              "      <td>8.710000</td>\n",
              "      <td>5.549783</td>\n",
              "      <td>4.860000</td>\n",
              "      <td>1.158395</td>\n",
              "      <td>0.724734</td>\n",
              "      <td>-0.069637</td>\n",
              "    </tr>\n",
              "    <tr>\n",
              "      <th>rooms</th>\n",
              "      <td>3.560000</td>\n",
              "      <td>5.8825</td>\n",
              "      <td>6.2100</td>\n",
              "      <td>6.620000</td>\n",
              "      <td>8.780000</td>\n",
              "      <td>6.284051</td>\n",
              "      <td>5.220000</td>\n",
              "      <td>0.702594</td>\n",
              "      <td>0.404004</td>\n",
              "      <td>1.889982</td>\n",
              "    </tr>\n",
              "    <tr>\n",
              "      <th>dist</th>\n",
              "      <td>1.130000</td>\n",
              "      <td>2.1000</td>\n",
              "      <td>3.2100</td>\n",
              "      <td>5.187500</td>\n",
              "      <td>12.130000</td>\n",
              "      <td>3.795751</td>\n",
              "      <td>11.000000</td>\n",
              "      <td>2.106137</td>\n",
              "      <td>1.012032</td>\n",
              "      <td>0.487790</td>\n",
              "    </tr>\n",
              "    <tr>\n",
              "      <th>radial</th>\n",
              "      <td>1.000000</td>\n",
              "      <td>4.0000</td>\n",
              "      <td>5.0000</td>\n",
              "      <td>24.000000</td>\n",
              "      <td>24.000000</td>\n",
              "      <td>9.549407</td>\n",
              "      <td>23.000000</td>\n",
              "      <td>8.707259</td>\n",
              "      <td>1.004815</td>\n",
              "      <td>-0.867232</td>\n",
              "    </tr>\n",
              "    <tr>\n",
              "      <th>proptax</th>\n",
              "      <td>18.700001</td>\n",
              "      <td>27.9000</td>\n",
              "      <td>33.0000</td>\n",
              "      <td>66.599998</td>\n",
              "      <td>71.099998</td>\n",
              "      <td>40.823715</td>\n",
              "      <td>52.399997</td>\n",
              "      <td>16.853711</td>\n",
              "      <td>0.669956</td>\n",
              "      <td>-1.142408</td>\n",
              "    </tr>\n",
              "    <tr>\n",
              "      <th>stratio</th>\n",
              "      <td>12.600000</td>\n",
              "      <td>17.4000</td>\n",
              "      <td>19.1000</td>\n",
              "      <td>20.200001</td>\n",
              "      <td>22.000000</td>\n",
              "      <td>18.459289</td>\n",
              "      <td>9.400000</td>\n",
              "      <td>2.165820</td>\n",
              "      <td>-0.806780</td>\n",
              "      <td>-0.282833</td>\n",
              "    </tr>\n",
              "    <tr>\n",
              "      <th>lowstat</th>\n",
              "      <td>1.730000</td>\n",
              "      <td>6.9225</td>\n",
              "      <td>11.3600</td>\n",
              "      <td>17.057500</td>\n",
              "      <td>39.070000</td>\n",
              "      <td>12.701482</td>\n",
              "      <td>37.340000</td>\n",
              "      <td>7.238066</td>\n",
              "      <td>0.947746</td>\n",
              "      <td>0.640760</td>\n",
              "    </tr>\n",
              "  </tbody>\n",
              "</table>\n",
              "</div>\n",
              "      <button class=\"colab-df-convert\" onclick=\"convertToInteractive('df-c12c9f4a-afac-4b82-874a-9b55dbdffcbd')\"\n",
              "              title=\"Convert this dataframe to an interactive table.\"\n",
              "              style=\"display:none;\">\n",
              "        \n",
              "  <svg xmlns=\"http://www.w3.org/2000/svg\" height=\"24px\"viewBox=\"0 0 24 24\"\n",
              "       width=\"24px\">\n",
              "    <path d=\"M0 0h24v24H0V0z\" fill=\"none\"/>\n",
              "    <path d=\"M18.56 5.44l.94 2.06.94-2.06 2.06-.94-2.06-.94-.94-2.06-.94 2.06-2.06.94zm-11 1L8.5 8.5l.94-2.06 2.06-.94-2.06-.94L8.5 2.5l-.94 2.06-2.06.94zm10 10l.94 2.06.94-2.06 2.06-.94-2.06-.94-.94-2.06-.94 2.06-2.06.94z\"/><path d=\"M17.41 7.96l-1.37-1.37c-.4-.4-.92-.59-1.43-.59-.52 0-1.04.2-1.43.59L10.3 9.45l-7.72 7.72c-.78.78-.78 2.05 0 2.83L4 21.41c.39.39.9.59 1.41.59.51 0 1.02-.2 1.41-.59l7.78-7.78 2.81-2.81c.8-.78.8-2.07 0-2.86zM5.41 20L4 18.59l7.72-7.72 1.47 1.35L5.41 20z\"/>\n",
              "  </svg>\n",
              "      </button>\n",
              "      \n",
              "  <style>\n",
              "    .colab-df-container {\n",
              "      display:flex;\n",
              "      flex-wrap:wrap;\n",
              "      gap: 12px;\n",
              "    }\n",
              "\n",
              "    .colab-df-convert {\n",
              "      background-color: #E8F0FE;\n",
              "      border: none;\n",
              "      border-radius: 50%;\n",
              "      cursor: pointer;\n",
              "      display: none;\n",
              "      fill: #1967D2;\n",
              "      height: 32px;\n",
              "      padding: 0 0 0 0;\n",
              "      width: 32px;\n",
              "    }\n",
              "\n",
              "    .colab-df-convert:hover {\n",
              "      background-color: #E2EBFA;\n",
              "      box-shadow: 0px 1px 2px rgba(60, 64, 67, 0.3), 0px 1px 3px 1px rgba(60, 64, 67, 0.15);\n",
              "      fill: #174EA6;\n",
              "    }\n",
              "\n",
              "    [theme=dark] .colab-df-convert {\n",
              "      background-color: #3B4455;\n",
              "      fill: #D2E3FC;\n",
              "    }\n",
              "\n",
              "    [theme=dark] .colab-df-convert:hover {\n",
              "      background-color: #434B5C;\n",
              "      box-shadow: 0px 1px 3px 1px rgba(0, 0, 0, 0.15);\n",
              "      filter: drop-shadow(0px 1px 2px rgba(0, 0, 0, 0.3));\n",
              "      fill: #FFFFFF;\n",
              "    }\n",
              "  </style>\n",
              "\n",
              "      <script>\n",
              "        const buttonEl =\n",
              "          document.querySelector('#df-c12c9f4a-afac-4b82-874a-9b55dbdffcbd button.colab-df-convert');\n",
              "        buttonEl.style.display =\n",
              "          google.colab.kernel.accessAllowed ? 'block' : 'none';\n",
              "\n",
              "        async function convertToInteractive(key) {\n",
              "          const element = document.querySelector('#df-c12c9f4a-afac-4b82-874a-9b55dbdffcbd');\n",
              "          const dataTable =\n",
              "            await google.colab.kernel.invokeFunction('convertToInteractive',\n",
              "                                                     [key], {});\n",
              "          if (!dataTable) return;\n",
              "\n",
              "          const docLinkHtml = 'Like what you see? Visit the ' +\n",
              "            '<a target=\"_blank\" href=https://colab.research.google.com/notebooks/data_table.ipynb>data table notebook</a>'\n",
              "            + ' to learn more about interactive tables.';\n",
              "          element.innerHTML = '';\n",
              "          dataTable['output_type'] = 'display_data';\n",
              "          await google.colab.output.renderOutput(dataTable, element);\n",
              "          const docLink = document.createElement('div');\n",
              "          docLink.innerHTML = docLinkHtml;\n",
              "          element.appendChild(docLink);\n",
              "        }\n",
              "      </script>\n",
              "    </div>\n",
              "  </div>\n",
              "  "
            ]
          },
          "metadata": {},
          "execution_count": 7
        }
      ]
    },
    {
      "cell_type": "markdown",
      "metadata": {
        "id": "nHPhgmiNGGX-"
      },
      "source": [
        "A partir de las estadísticas descriptivas del cuadro anterior se puede observar en cada variable que: \n",
        "\n",
        "* Price: la media es de $22511.51 y la desviación respecto a la media es de $ 9208.86. Es la variable con mayor dispersión. En cuanto a la distribución de probabilidad, las observaciones están altamente sesgadas hacia la derecha (asimetría positiva) y es leptocurtica, es decir, hay una alta concentración de datos alrededor de la media. Sumado a lo anterior, es muy probable que haya una gran cantidad de outliers ya que la diferencia porcentual entre el cuarto y tercer cuartil es de casi un % 100.\n",
        "\n",
        "* Crime: la media es de 3.611536 y la desviación respecto a la media es de 8.59. En cuanto a la distribución de probabilidad, las observaciones están altamente sesgadas hacia la derecha (asimetría positiva) y es leptocurtica. Con sus valores de asimtería, curtosis y diferencia porcentual entre el cuarto y tercer cuartil de % 2319.79 debería de haber una gran cantidad de outliers.\n",
        "\n",
        "* Nox: la media es de 5.549783 y la desviación respecto a la media es de 1.158395. En cuanto a la distribución de probabilidad, las observaciones están altamente sesgadas hacia la derecha (asimetría positiva) y platicurtica. En ésta variable no debería de haber muchos outliers ya que su curtosis es casi igual a 0.\n",
        "\n",
        "* Rooms: la media es de 6.284051 y la desviación respecto a la media es de 0.702594. En cuanto a la distribución de probabilidad, si bien las observaciones están levemente sesgadas hacia la derecha tiende a una distribución simetrica  y leptocurtica. Debido a la gran cantidad de observaciones concetradas alrededor de la media, quizá hayan varios outliers.\n",
        "\n",
        "* Dist: la media es de 3.795751 y la desviación respecto a la media es de 2.106137. En cuanto a la distribución de probabilidad, las observaciones están altamente sesgadas hacia la derecha (asimetría positiva) y es leptocurtica. Al ser la curtosis no tan alta no debiera de tener muchos valores anormales.\n",
        "\n",
        "* Radial: la media es de 9.549407 y la desviación respecto a la media es de 8.707259. En cuanto a la distribución de probabilidad, las observaciones están altamente sesgadas hacia la derecha (asimetría positiva) y es platicurtica por lo que no debiera de haber outliers.\n",
        "\n",
        "* Proptax: la media es de 40.823715 y la desviación respecto a la media es de 16.853711. En cuanto a la distribución de probabilidad, las observaciones están levemente sesgadas hacia la derecha (asimetría positiva) y al ser el valor de la curtosis tan pequeño (platicurtica) no hay outliers.\n",
        "\n",
        "* Stratio: la media es de 18.459289 y la desviación respecto a la media es de 2.165820. En cuanto a la distribución de probabilidad, las observaciones están levemente sesgadas hacia la izquierda (asimetría negativa) y al ser el valor de la curtosis negativo y no tan lejano al 0 (platicurtica) no debería de haber muchos outliers.\n",
        "\n",
        "* Lowstat: la media es de 12.701482 y la desviación respecto a la media es de 7.238066. En cuanto a la distribución de probabilidad, las observaciones están levemente sesgadas hacia la derecha (asimetría positiva) y es leptocurtica. Quiza nos encontremos con outliers."
      ]
    },
    {
      "cell_type": "code",
      "metadata": {
        "colab": {
          "base_uri": "https://localhost:8080/",
          "height": 500
        },
        "id": "xxkQiyYdNA-o",
        "outputId": "7983f355-f07f-48b9-ed93-5a91f7a57fd1"
      },
      "source": [
        "fig, axes = plt.subplots(2, figsize=(5,8))\n",
        "df_tp.loc[:,'price'].to_frame().boxplot(ax=axes[0], vert=False)\n",
        "df_tp.loc[:,'crime':'lowstat'].boxplot(ax=axes[1],vert=False)"
      ],
      "execution_count": 8,
      "outputs": [
        {
          "output_type": "execute_result",
          "data": {
            "text/plain": [
              "<matplotlib.axes._subplots.AxesSubplot at 0x7f4318fe5090>"
            ]
          },
          "metadata": {},
          "execution_count": 8
        },
        {
          "output_type": "display_data",
          "data": {
            "text/plain": [
              "<Figure size 360x576 with 2 Axes>"
            ],
            "image/png": "[encoded data removed]"
          },
          "metadata": {
            "needs_background": "light"
          }
        }
      ]
    },
    {
      "cell_type": "markdown",
      "metadata": {
        "id": "Pqca0-8ltxxh"
      },
      "source": [
        "**PUNTO 2**"
      ]
    },
    {
      "cell_type": "code",
      "metadata": {
        "colab": {
          "base_uri": "https://localhost:8080/",
          "height": 391
        },
        "id": "5BFBKaH9i8-s",
        "outputId": "311a67c6-21cb-46fb-ddb8-5ae37c11833e"
      },
      "source": [
        "plt.figure(figsize=(8,6))\n",
        "sns.heatmap(df_tp.loc[:,:'lowstat'].corr(), mask=np.triu(df_tp.loc[:,:'lowstat'].corr()), annot=True)"
      ],
      "execution_count": 9,
      "outputs": [
        {
          "output_type": "execute_result",
          "data": {
            "text/plain": [
              "<matplotlib.axes._subplots.AxesSubplot at 0x7f4319004f90>"
            ]
          },
          "metadata": {},
          "execution_count": 9
        },
        {
          "output_type": "display_data",
          "data": {
            "text/plain": [
              "<Figure size 576x432 with 2 Axes>"
            ],
            "image/png": "[encoded data removed]"
          },
          "metadata": {
            "needs_background": "light"
          }
        }
      ]
    },
    {
      "cell_type": "markdown",
      "metadata": {
        "id": "Gn8Bk8x6mTJl"
      },
      "source": [
        "Al observar el heatmap, la variable price tiene una correlación negativa con lowstat, stratio, nox y crime tal como esperaba; en cambio proptax, si bien tiene correlación negativa, no esperaba la misma ya que al ser el precio de una vivienda mayor los impuestos abonados debieran de ser mayores. En cuanto a las relaciones positivas con el precio nos encontramos con rooms y dist, dichas relaciones tienen sentido ya que al haber mas cuartos implica que en promedio hay más metros cuadrados cubiertos, y al haber una mayor distancia con zonas productivas implica que las viviendas se encuentren en zonas residenciales por lo que hace aumentar el precio de las mismas.\n",
        "\n",
        "En cuanto al resto de las variables se puede observar que hay una alta correlación positiva entre radial y crime, proptax y crime, radial y nox, proptax y nox, lowstat y nox, proptax y radial, proptax y lowstat. Las correlaciones altas negativas que muestran los datos son dist y nox, rooms y lowstat, proptax y dist."
      ]
    },
    {
      "cell_type": "markdown",
      "metadata": {
        "id": "q5uQDABQtuX_"
      },
      "source": [
        "**PUNTO 3**"
      ]
    },
    {
      "cell_type": "code",
      "metadata": {
        "id": "-YZHfvH-i9B0"
      },
      "source": [
        "Y = df_tp.price.copy()\n",
        "X = df_tp[['nox','rooms','crime','radial']].copy()\n",
        "X = sm.add_constant(X)"
      ],
      "execution_count": 10,
      "outputs": []
    },
    {
      "cell_type": "code",
      "metadata": {
        "colab": {
          "base_uri": "https://localhost:8080/"
        },
        "id": "9fcRUqH3hZgD",
        "outputId": "5ab2e978-dea7-4cac-b34e-0cf731601663"
      },
      "source": [
        "# Ajustar modelo\n",
        "modelo = sm.OLS(Y,X)\n",
        "resultados = modelo.fit(cov_type='HC1')\n",
        "print(resultados.summary())"
      ],
      "execution_count": 11,
      "outputs": [
        {
          "output_type": "stream",
          "name": "stdout",
          "text": [
            "                            OLS Regression Results                            \n",
            "==============================================================================\n",
            "Dep. Variable:                  price   R-squared:                       0.566\n",
            "Model:                            OLS   Adj. R-squared:                  0.563\n",
            "Method:                 Least Squares   F-statistic:                     124.8\n",
            "Date:                Fri, 01 Apr 2022   Prob (F-statistic):           8.10e-74\n",
            "Time:                        10:21:28   Log-Likelihood:                -5124.8\n",
            "No. Observations:                 506   AIC:                         1.026e+04\n",
            "Df Residuals:                     501   BIC:                         1.028e+04\n",
            "Df Model:                           4                                         \n",
            "Covariance Type:                  HC1                                         \n",
            "==============================================================================\n",
            "                 coef    std err          z      P>|z|      [0.025      0.975]\n",
            "------------------------------------------------------------------------------\n",
            "const      -2.033e+04   5162.718     -3.937      0.000   -3.04e+04   -1.02e+04\n",
            "nox        -1034.1739    260.818     -3.965      0.000   -1545.367    -522.981\n",
            "rooms       7951.8353    705.330     11.274      0.000    6569.413    9334.258\n",
            "crime       -161.0131     35.327     -4.558      0.000    -230.252     -91.774\n",
            "radial       -84.8553     59.029     -1.438      0.151    -200.550      30.839\n",
            "==============================================================================\n",
            "Omnibus:                      242.604   Durbin-Watson:                   0.764\n",
            "Prob(Omnibus):                  0.000   Jarque-Bera (JB):             1891.585\n",
            "Skew:                           1.933   Prob(JB):                         0.00\n",
            "Kurtosis:                      11.647   Cond. No.                         197.\n",
            "==============================================================================\n",
            "\n",
            "Warnings:\n",
            "[1] Standard Errors are heteroscedasticity robust (HC1)\n"
          ]
        }
      ]
    },
    {
      "cell_type": "markdown",
      "metadata": {
        "id": "78FRM8r0xs2d"
      },
      "source": [
        "El modelo ajustado a nuestros datos utiliza las variables polución (cada 100m), número de cuartos, crimen per capita y el acceso a carreteras radiales para explicar la variación en el precio de las viviendas. \n",
        "\n",
        "Para el analísis de cada coeficiente vamos a suponer que el resto de las variables se mantienen constantes (ceteris paribus). De ésta forma encontramos que el precio de una vivienda:\n",
        "- Ante un cambio unitario en la variable polución disminuye $1034.17\n",
        "\n",
        "- Ante un cambio unitario el N° de cuartos aumenta $7951.83\n",
        "\n",
        "- Ante un cambio unitario en el crimen per capita disminuye $161.01\n",
        "\n",
        "- Ante un cambio unitario en el acceso a carreteras radiales disminuye $84.85\n",
        "\n",
        "Todas los Betas estimados son estadisticamente significativos excepto el del acceso a carreteras radiales (p > 0.05), es decir que el valor de éste parámetro puede ser igual a 0 (no influye en nuestra variable dependiente).\n",
        "\n",
        "El coeficiente de determinación nos indica que el 56.6% de la varianza en el precio de las viviendas es explicado por nuestro modelo."
      ]
    },
    {
      "cell_type": "markdown",
      "metadata": {
        "id": "v720Ag5Itp5N"
      },
      "source": [
        "**PUNTO 4**"
      ]
    },
    {
      "cell_type": "code",
      "metadata": {
        "id": "-jMGw4Jzqq65"
      },
      "source": [
        "df_tp['squared_rooms'] = df_tp.rooms ** 2"
      ],
      "execution_count": 12,
      "outputs": []
    },
    {
      "cell_type": "code",
      "metadata": {
        "id": "l-raoM7MsDtC"
      },
      "source": [
        "Y = df_tp.price.copy()\n",
        "X = df_tp[['nox','rooms','squared_rooms','crime','radial']].copy()\n",
        "X = sm.add_constant(X)"
      ],
      "execution_count": 13,
      "outputs": []
    },
    {
      "cell_type": "code",
      "metadata": {
        "colab": {
          "base_uri": "https://localhost:8080/"
        },
        "id": "MFP2spzHsFuo",
        "outputId": "1261f271-c748-4820-cef4-000268f2a355"
      },
      "source": [
        "model_2 = sm.OLS(Y, X)\n",
        "resultados_2 = model_2.fit(cov_type='HC1')\n",
        "print(resultados_2.summary())"
      ],
      "execution_count": 14,
      "outputs": [
        {
          "output_type": "stream",
          "name": "stdout",
          "text": [
            "                            OLS Regression Results                            \n",
            "==============================================================================\n",
            "Dep. Variable:                  price   R-squared:                       0.663\n",
            "Model:                            OLS   Adj. R-squared:                  0.660\n",
            "Method:                 Least Squares   F-statistic:                     174.7\n",
            "Date:                Fri, 01 Apr 2022   Prob (F-statistic):          3.02e-107\n",
            "Time:                        10:21:28   Log-Likelihood:                -5061.0\n",
            "No. Observations:                 506   AIC:                         1.013e+04\n",
            "Df Residuals:                     500   BIC:                         1.016e+04\n",
            "Df Model:                           5                                         \n",
            "Covariance Type:                  HC1                                         \n",
            "=================================================================================\n",
            "                    coef    std err          z      P>|z|      [0.025      0.975]\n",
            "---------------------------------------------------------------------------------\n",
            "const          1.088e+05   1.67e+04      6.516      0.000    7.61e+04    1.42e+05\n",
            "nox           -1417.1975    218.692     -6.480      0.000   -1845.825    -988.570\n",
            "rooms         -3.181e+04   5398.779     -5.892      0.000   -4.24e+04   -2.12e+04\n",
            "squared_rooms  3074.0133    435.958      7.051      0.000    2219.552    3928.475\n",
            "crime          -197.2100     37.242     -5.295      0.000    -270.203    -124.217\n",
            "radial          -74.0932     54.721     -1.354      0.176    -181.344      33.158\n",
            "==============================================================================\n",
            "Omnibus:                      247.885   Durbin-Watson:                   0.888\n",
            "Prob(Omnibus):                  0.000   Jarque-Bera (JB):             4069.286\n",
            "Skew:                           1.714   Prob(JB):                         0.00\n",
            "Kurtosis:                      16.463   Cond. No.                     2.09e+03\n",
            "==============================================================================\n",
            "\n",
            "Warnings:\n",
            "[1] Standard Errors are heteroscedasticity robust (HC1)\n",
            "[2] The condition number is large, 2.09e+03. This might indicate that there are\n",
            "strong multicollinearity or other numerical problems.\n"
          ]
        }
      ]
    },
    {
      "cell_type": "markdown",
      "metadata": {
        "id": "bI85gQMVBY84"
      },
      "source": [
        "Como el coeficiente de rooms es negativo y el de rooms2 es positivo, esta ecuación implica que, para valores bajos de rooms, una habitación más tiene un efecto negativo sobre el precio. En algún punto el efecto se vuelve positivo, y la forma cuadrática significa que la semielasticidad de price respecto a rooms aumenta a medida que rooms aumenta\n",
        "\n",
        "El valor del punto de inflexión de rooms se obtiene empleando la ecuación: \n",
        "Rooms*=31811.89/6148.026=5.17\n",
        "\n",
        "Es poco creíble que al aumentar habitaciones disminuya el precio, sin embargo, la cantidad de casas con menos de 5.17 habitaciones son pocas en relaci, por lo que la parte representativa de la ecuación está al lado derecho, en el cual aumenta el precio cuando aumenta la cantidad.\n"
      ]
    },
    {
      "cell_type": "markdown",
      "metadata": {
        "id": "u7vZv7X5t46p"
      },
      "source": [
        "**PUNTO 5**"
      ]
    },
    {
      "cell_type": "code",
      "metadata": {
        "id": "ETVXpTOEsbPn"
      },
      "source": [
        "log_Y = np.log(df_tp.price.rename('lprice'))\n",
        "log_X = np.log(df_tp[['nox','rooms','crime','radial']].rename(columns={'nox':'lnox','rooms':'lrooms','crime':'lcrime','radial':'lradial'}))\n",
        "log_X = sm.add_constant(log_X)"
      ],
      "execution_count": 15,
      "outputs": []
    },
    {
      "cell_type": "code",
      "metadata": {
        "colab": {
          "base_uri": "https://localhost:8080/"
        },
        "id": "62j_Iuv-uEc7",
        "outputId": "b63473b5-b667-4c34-eb47-d86ece114ca2"
      },
      "source": [
        "log_model = sm.OLS(log_Y, log_X)\n",
        "log_resultados = log_model.fit(cov_type='HC1')\n",
        "print(log_resultados.summary())"
      ],
      "execution_count": 16,
      "outputs": [
        {
          "output_type": "stream",
          "name": "stdout",
          "text": [
            "                            OLS Regression Results                            \n",
            "==============================================================================\n",
            "Dep. Variable:                 lprice   R-squared:                       0.527\n",
            "Model:                            OLS   Adj. R-squared:                  0.523\n",
            "Method:                 Least Squares   F-statistic:                     87.29\n",
            "Date:                Fri, 01 Apr 2022   Prob (F-statistic):           3.05e-56\n",
            "Time:                        10:21:28   Log-Likelihood:                -75.960\n",
            "No. Observations:                 506   AIC:                             161.9\n",
            "Df Residuals:                     501   BIC:                             183.1\n",
            "Df Model:                           4                                         \n",
            "Covariance Type:                  HC1                                         \n",
            "==============================================================================\n",
            "                 coef    std err          z      P>|z|      [0.025      0.975]\n",
            "------------------------------------------------------------------------------\n",
            "const          7.0039      0.428     16.382      0.000       6.166       7.842\n",
            "lnox          -0.1676      0.096     -1.745      0.081      -0.356       0.021\n",
            "lrooms         1.7171      0.219      7.833      0.000       1.287       2.147\n",
            "lcrime        -0.0694      0.015     -4.485      0.000      -0.100      -0.039\n",
            "lradial        0.0115      0.026      0.433      0.665      -0.040       0.063\n",
            "==============================================================================\n",
            "Omnibus:                       89.947   Durbin-Watson:                   0.644\n",
            "Prob(Omnibus):                  0.000   Jarque-Bera (JB):              509.557\n",
            "Skew:                           0.626   Prob(JB):                    2.24e-111\n",
            "Kurtosis:                       7.754   Cond. No.                         88.7\n",
            "==============================================================================\n",
            "\n",
            "Warnings:\n",
            "[1] Standard Errors are heteroscedasticity robust (HC1)\n"
          ]
        }
      ]
    },
    {
      "cell_type": "markdown",
      "metadata": {
        "id": "gQYSmoIP_KJk"
      },
      "source": [
        "La interpretación de éste modelo log-log es que a partir de un cambio del 1% de la varaible que estemos analizando, suponiendo que el resto de las variables independientes se mantienen constantes, el precio de la vivienda variará en la misma proporción que el Beta de la variable en cuestión. Ejemplo: ante un cambio del 1% de 'lrooms', el precio de la vivienda aumentara % 1.7171."
      ]
    },
    {
      "cell_type": "markdown",
      "metadata": {
        "id": "hhXy45vwyEJF"
      },
      "source": [
        "**PUNTO 6**"
      ]
    },
    {
      "cell_type": "code",
      "metadata": {
        "colab": {
          "base_uri": "https://localhost:8080/"
        },
        "id": "R4knqD-dlgXT",
        "outputId": "f8f954ec-2085-41bc-d4c4-0e9558edcb06"
      },
      "source": [
        "np.round(resultados.aic,4)"
      ],
      "execution_count": 17,
      "outputs": [
        {
          "output_type": "execute_result",
          "data": {
            "text/plain": [
              "10259.6311"
            ]
          },
          "metadata": {},
          "execution_count": 17
        }
      ]
    },
    {
      "cell_type": "code",
      "metadata": {
        "colab": {
          "base_uri": "https://localhost:8080/"
        },
        "id": "goqXFnmlldI9",
        "outputId": "5e27e3d6-da13-4e19-b0db-98187a381f59"
      },
      "source": [
        "np.round(log_Y.sum()*2 + log_resultados.aic,4)"
      ],
      "execution_count": 18,
      "outputs": [
        {
          "output_type": "execute_result",
          "data": {
            "text/plain": [
              "10222.2692"
            ]
          },
          "metadata": {},
          "execution_count": 18
        }
      ]
    },
    {
      "cell_type": "markdown",
      "metadata": {
        "id": "kenXaAG5nEsD"
      },
      "source": [
        "El modelo que mejor ajusta a nuestros datos es el log-log ya que el AIC ajustado es menor que el AIC del modelo lineal. \n",
        "\n",
        "AIC log-log 10222.2692 < 10259.6311 AIC mod. lineal."
      ]
    },
    {
      "cell_type": "markdown",
      "metadata": {
        "id": "TpSv0jQVL5ju"
      },
      "source": [
        "**PUNTO 7**"
      ]
    },
    {
      "cell_type": "code",
      "metadata": {
        "colab": {
          "base_uri": "https://localhost:8080/"
        },
        "id": "wimzj824sHNT",
        "outputId": "d723f018-7434-4011-a2a8-74799cf8c6f9"
      },
      "source": [
        "# Elasticidad modelo log-log\n",
        "np.round(log_resultados.params.lcrime, 4) "
      ],
      "execution_count": 19,
      "outputs": [
        {
          "output_type": "execute_result",
          "data": {
            "text/plain": [
              "-0.0694"
            ]
          },
          "metadata": {},
          "execution_count": 19
        }
      ]
    },
    {
      "cell_type": "markdown",
      "metadata": {
        "id": "USTwVJmHg3ac"
      },
      "source": [
        "La disponibilidad marginal a pagar por vivir en un vecindario más seguro es del % 0.0694. Es decir, ante un incremento del 1 % del crimen en un vecindario dado, los individuos de la muestra están dispuesto a pagar % -0.0694 menos por la vivienda."
      ]
    },
    {
      "cell_type": "markdown",
      "metadata": {
        "id": "Q9ROTZYN_gSH"
      },
      "source": [
        "**PUNTO 8**"
      ]
    },
    {
      "cell_type": "code",
      "metadata": {
        "id": "6Q-NcX3ruYJP"
      },
      "source": [
        "df_tp['nox_2'] = np.where(df_tp.nox > 6, 1, 0)"
      ],
      "execution_count": 20,
      "outputs": []
    },
    {
      "cell_type": "code",
      "metadata": {
        "colab": {
          "base_uri": "https://localhost:8080/"
        },
        "id": "QI8BQrokngCG",
        "outputId": "8931eb6e-156e-4cf9-89aa-7c99695ce36b"
      },
      "source": [
        "fit = smf.ols('price ~ rooms + crime + radial + C(nox_2)', data=df_tp).fit(cov_type='HC1') \n",
        "\n",
        "print(fit.summary())"
      ],
      "execution_count": 22,
      "outputs": [
        {
          "output_type": "stream",
          "name": "stdout",
          "text": [
            "                            OLS Regression Results                            \n",
            "==============================================================================\n",
            "Dep. Variable:                  price   R-squared:                       0.557\n",
            "Model:                            OLS   Adj. R-squared:                  0.554\n",
            "Method:                 Least Squares   F-statistic:                     86.66\n",
            "Date:                Fri, 01 Apr 2022   Prob (F-statistic):           6.42e-56\n",
            "Time:                        10:21:59   Log-Likelihood:                -5130.1\n",
            "No. Observations:                 506   AIC:                         1.027e+04\n",
            "Df Residuals:                     501   BIC:                         1.029e+04\n",
            "Df Model:                           4                                         \n",
            "Covariance Type:                  HC1                                         \n",
            "=================================================================================\n",
            "                    coef    std err          z      P>|z|      [0.025      0.975]\n",
            "---------------------------------------------------------------------------------\n",
            "Intercept     -2.701e+04   4255.889     -6.346      0.000   -3.54e+04   -1.87e+04\n",
            "C(nox_2)[T.1]  -758.1286    719.706     -1.053      0.292   -2168.727     652.470\n",
            "rooms          8225.0098    678.376     12.125      0.000    6895.417    9554.603\n",
            "crime          -162.2183     37.583     -4.316      0.000    -235.880     -88.557\n",
            "radial         -139.3654     51.056     -2.730      0.006    -239.434     -39.297\n",
            "==============================================================================\n",
            "Omnibus:                      242.965   Durbin-Watson:                   0.774\n",
            "Prob(Omnibus):                  0.000   Jarque-Bera (JB):             1989.917\n",
            "Skew:                           1.918   Prob(JB):                         0.00\n",
            "Kurtosis:                      11.926   Cond. No.                         149.\n",
            "==============================================================================\n",
            "\n",
            "Warnings:\n",
            "[1] Standard Errors are heteroscedasticity robust (HC1)\n"
          ]
        }
      ]
    }
  ]
}